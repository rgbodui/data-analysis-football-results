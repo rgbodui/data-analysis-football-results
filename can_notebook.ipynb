{
 "cells": [
  {
   "cell_type": "code",
   "execution_count": 97,
   "id": "initial_id",
   "metadata": {
    "collapsed": true,
    "ExecuteTime": {
     "end_time": "2023-12-29T03:27:20.490649Z",
     "start_time": "2023-12-29T03:27:20.124952800Z"
    }
   },
   "outputs": [],
   "source": [
    "import numpy as np\n",
    "import pandas as pd\n",
    "import matplotlib.pyplot as plt\n",
    "import plotly.express as px"
   ]
  },
  {
   "cell_type": "markdown",
   "source": [
    "---\n",
    "**Préparation du jeu de données**"
   ],
   "metadata": {
    "collapsed": false
   },
   "id": "da581cb6c014886a"
  },
  {
   "cell_type": "code",
   "outputs": [],
   "source": [
    "df = pd.read_csv(\"results.csv\")"
   ],
   "metadata": {
    "collapsed": false,
    "ExecuteTime": {
     "end_time": "2023-12-29T03:27:20.645901100Z",
     "start_time": "2023-12-29T03:27:20.486496Z"
    }
   },
   "id": "2d48e9859c16478c",
   "execution_count": 98
  },
  {
   "cell_type": "code",
   "outputs": [],
   "source": [
    "df = df.loc[df[\"tournament\"] == \"African Cup of Nations\"]"
   ],
   "metadata": {
    "collapsed": false,
    "ExecuteTime": {
     "end_time": "2023-12-29T03:27:20.681410200Z",
     "start_time": "2023-12-29T03:27:20.625000200Z"
    }
   },
   "id": "35691fb4ea8e040c",
   "execution_count": 99
  },
  {
   "cell_type": "code",
   "outputs": [],
   "source": [
    "df.drop(columns=[\"tournament\"], inplace=True)"
   ],
   "metadata": {
    "collapsed": false,
    "ExecuteTime": {
     "end_time": "2023-12-29T03:27:20.745406Z",
     "start_time": "2023-12-29T03:27:20.658647200Z"
    }
   },
   "id": "d221a16619dcc4be",
   "execution_count": 100
  },
  {
   "cell_type": "code",
   "outputs": [
    {
     "data": {
      "text/plain": "            date home_team away_team  home_score  away_score      city  \\\n4099  1957-02-10     Sudan     Egypt           1           2  Khartoum   \n4100  1957-02-16     Egypt  Ethiopia           4           0  Khartoum   \n4539  1959-05-22     Egypt  Ethiopia           4           0     Cairo   \n4542  1959-05-25  Ethiopia     Sudan           0           1     Cairo   \n4545  1959-05-29     Egypt     Sudan           2           1     Cairo   \n\n                   country  neutral  \n4099                 Sudan    False  \n4100                 Sudan     True  \n4539  United Arab Republic     True  \n4542  United Arab Republic     True  \n4545  United Arab Republic     True  ",
      "text/html": "<div>\n<style scoped>\n    .dataframe tbody tr th:only-of-type {\n        vertical-align: middle;\n    }\n\n    .dataframe tbody tr th {\n        vertical-align: top;\n    }\n\n    .dataframe thead th {\n        text-align: right;\n    }\n</style>\n<table border=\"1\" class=\"dataframe\">\n  <thead>\n    <tr style=\"text-align: right;\">\n      <th></th>\n      <th>date</th>\n      <th>home_team</th>\n      <th>away_team</th>\n      <th>home_score</th>\n      <th>away_score</th>\n      <th>city</th>\n      <th>country</th>\n      <th>neutral</th>\n    </tr>\n  </thead>\n  <tbody>\n    <tr>\n      <th>4099</th>\n      <td>1957-02-10</td>\n      <td>Sudan</td>\n      <td>Egypt</td>\n      <td>1</td>\n      <td>2</td>\n      <td>Khartoum</td>\n      <td>Sudan</td>\n      <td>False</td>\n    </tr>\n    <tr>\n      <th>4100</th>\n      <td>1957-02-16</td>\n      <td>Egypt</td>\n      <td>Ethiopia</td>\n      <td>4</td>\n      <td>0</td>\n      <td>Khartoum</td>\n      <td>Sudan</td>\n      <td>True</td>\n    </tr>\n    <tr>\n      <th>4539</th>\n      <td>1959-05-22</td>\n      <td>Egypt</td>\n      <td>Ethiopia</td>\n      <td>4</td>\n      <td>0</td>\n      <td>Cairo</td>\n      <td>United Arab Republic</td>\n      <td>True</td>\n    </tr>\n    <tr>\n      <th>4542</th>\n      <td>1959-05-25</td>\n      <td>Ethiopia</td>\n      <td>Sudan</td>\n      <td>0</td>\n      <td>1</td>\n      <td>Cairo</td>\n      <td>United Arab Republic</td>\n      <td>True</td>\n    </tr>\n    <tr>\n      <th>4545</th>\n      <td>1959-05-29</td>\n      <td>Egypt</td>\n      <td>Sudan</td>\n      <td>2</td>\n      <td>1</td>\n      <td>Cairo</td>\n      <td>United Arab Republic</td>\n      <td>True</td>\n    </tr>\n  </tbody>\n</table>\n</div>"
     },
     "execution_count": 101,
     "metadata": {},
     "output_type": "execute_result"
    }
   ],
   "source": [
    "df.head(5)"
   ],
   "metadata": {
    "collapsed": false,
    "ExecuteTime": {
     "end_time": "2023-12-29T03:27:20.773883200Z",
     "start_time": "2023-12-29T03:27:20.698133500Z"
    }
   },
   "id": "bd14e14b5cb20ffb",
   "execution_count": 101
  },
  {
   "cell_type": "markdown",
   "source": [
    "---\n",
    "**Feature Engineering pour voir le nombre de victoires et de défaites par équipe**\n",
    "On traitera le cas des matchs nuls plus tard"
   ],
   "metadata": {
    "collapsed": false
   },
   "id": "658bb147b2ba6776"
  },
  {
   "cell_type": "code",
   "outputs": [],
   "source": [
    "# Si l'équipe à domicile a gagné, la colonne home_win sera à 1 sinon away_win sera à 0\n",
    "df['home_win'] = df['home_score'] > df['away_score']\n",
    "df['away_win'] = df['away_score'] > df['home_score']"
   ],
   "metadata": {
    "collapsed": false,
    "ExecuteTime": {
     "end_time": "2023-12-29T03:27:20.889693500Z",
     "start_time": "2023-12-29T03:27:20.786847300Z"
    }
   },
   "id": "5570017f52b8748f",
   "execution_count": 102
  },
  {
   "cell_type": "code",
   "outputs": [],
   "source": [
    "# Si l'équipe à domicile a gagné, la colonne home_win sera à 1 sinon away_win sera à 0\n",
    "df['home_loss'] = df['home_score'] < df['away_score']\n",
    "df['away_loss'] = df['away_score'] < df['home_score']"
   ],
   "metadata": {
    "collapsed": false,
    "ExecuteTime": {
     "end_time": "2023-12-29T03:27:21.034248200Z",
     "start_time": "2023-12-29T03:27:20.847312900Z"
    }
   },
   "id": "b4775616bd5abb02",
   "execution_count": 103
  },
  {
   "cell_type": "code",
   "outputs": [
    {
     "data": {
      "text/plain": "Algeria              28\nAngola                4\nBenin                 0\nBotswana              0\nBurkina Faso          9\nBurundi               0\nCameroon             45\nCape Verde            2\nComoros               1\nCongo                 7\nDR Congo             20\nEgypt                60\nEquatorial Guinea     6\nEthiopia              7\nGabon                 7\nGambia                3\nGhana                54\nGuinea               13\nGuinea-Bissau         0\nIvory Coast          44\nKenya                 2\nLiberia               1\nLibya                 3\nMadagascar            2\nMalawi                2\nMali                 19\nMauritania            0\nMauritius             0\nMorocco              27\nMozambique            0\nNamibia               0\nNiger                 0\nNigeria              53\nRwanda                1\nSenegal              27\nSierra Leone          1\nSouth Africa         16\nSudan                 7\nTanzania              0\nTogo                  3\nTunisia              25\nUganda                4\nZambia               26\nZimbabwe              3\ndtype: int64"
     },
     "execution_count": 104,
     "metadata": {},
     "output_type": "execute_result"
    }
   ],
   "source": [
    "total_wins = pd.concat([df.groupby('home_team')['home_win'].sum(),\n",
    "                        df.groupby('away_team')['away_win'].sum()], axis=1, sort=False).sum(axis=1)\n",
    "total_wins"
   ],
   "metadata": {
    "collapsed": false,
    "ExecuteTime": {
     "end_time": "2023-12-29T03:27:21.182210100Z",
     "start_time": "2023-12-29T03:27:20.964356700Z"
    }
   },
   "id": "be71a0e14b04a4b4",
   "execution_count": 104
  },
  {
   "cell_type": "code",
   "outputs": [
    {
     "data": {
      "text/plain": "Algeria              27\nAngola               10\nBenin                 9\nBotswana              3\nBurkina Faso         23\nBurundi               3\nCameroon             16\nCape Verde            3\nComoros               3\nCongo                12\nDR Congo             29\nEgypt                27\nEquatorial Guinea     5\nEthiopia             19\nGabon                 8\nGambia                1\nGhana                27\nGuinea               17\nGuinea-Bissau         6\nIvory Coast          28\nKenya                11\nLiberia               2\nLibya                 3\nMadagascar            1\nMalawi                6\nMali                 16\nMauritania            4\nMauritius             3\nMorocco              19\nMozambique           10\nNamibia               7\nNiger                 5\nNigeria              22\nRwanda                1\nSenegal              23\nSierra Leone          4\nSouth Africa         14\nSudan                13\nTanzania              5\nTogo                 14\nTunisia              26\nUganda               16\nZambia               21\nZimbabwe             10\ndtype: int64"
     },
     "execution_count": 105,
     "metadata": {},
     "output_type": "execute_result"
    }
   ],
   "source": [
    "total_loss = pd.concat([df.groupby('home_team')['home_loss'].sum(),\n",
    "                        df.groupby('away_team')['away_loss'].sum()], axis=1, sort=False).sum(axis=1)\n",
    "total_loss"
   ],
   "metadata": {
    "collapsed": false,
    "ExecuteTime": {
     "end_time": "2023-12-29T03:27:21.331667100Z",
     "start_time": "2023-12-29T03:27:21.122126400Z"
    }
   },
   "id": "4430efd2dedbea77",
   "execution_count": 105
  },
  {
   "cell_type": "markdown",
   "source": [
    "---\n",
    "**Tracer la courbe pour les 10 équipes avec le plus de victoires**"
   ],
   "metadata": {
    "collapsed": false
   },
   "id": "f777056ab0cae94"
  },
  {
   "cell_type": "code",
   "outputs": [
    {
     "data": {
      "application/vnd.plotly.v1+json": {
       "data": [
        {
         "alignmentgroup": "True",
         "hovertemplate": "Équipe=%{x}<br>Nombre total de victoires=%{y}<extra></extra>",
         "legendgroup": "Egypt",
         "marker": {
          "color": "skyblue",
          "pattern": {
           "shape": ""
          }
         },
         "name": "Egypt",
         "offsetgroup": "Egypt",
         "orientation": "v",
         "showlegend": true,
         "textposition": "auto",
         "x": [
          "Egypt"
         ],
         "xaxis": "x",
         "y": [
          60
         ],
         "yaxis": "y",
         "type": "bar"
        },
        {
         "alignmentgroup": "True",
         "hovertemplate": "Équipe=%{x}<br>Nombre total de victoires=%{y}<extra></extra>",
         "legendgroup": "Ghana",
         "marker": {
          "color": "lightcoral",
          "pattern": {
           "shape": ""
          }
         },
         "name": "Ghana",
         "offsetgroup": "Ghana",
         "orientation": "v",
         "showlegend": true,
         "textposition": "auto",
         "x": [
          "Ghana"
         ],
         "xaxis": "x",
         "y": [
          54
         ],
         "yaxis": "y",
         "type": "bar"
        },
        {
         "alignmentgroup": "True",
         "hovertemplate": "Équipe=%{x}<br>Nombre total de victoires=%{y}<extra></extra>",
         "legendgroup": "Nigeria",
         "marker": {
          "color": "lightgreen",
          "pattern": {
           "shape": ""
          }
         },
         "name": "Nigeria",
         "offsetgroup": "Nigeria",
         "orientation": "v",
         "showlegend": true,
         "textposition": "auto",
         "x": [
          "Nigeria"
         ],
         "xaxis": "x",
         "y": [
          53
         ],
         "yaxis": "y",
         "type": "bar"
        },
        {
         "alignmentgroup": "True",
         "hovertemplate": "Équipe=%{x}<br>Nombre total de victoires=%{y}<extra></extra>",
         "legendgroup": "Cameroon",
         "marker": {
          "color": "gold",
          "pattern": {
           "shape": ""
          }
         },
         "name": "Cameroon",
         "offsetgroup": "Cameroon",
         "orientation": "v",
         "showlegend": true,
         "textposition": "auto",
         "x": [
          "Cameroon"
         ],
         "xaxis": "x",
         "y": [
          45
         ],
         "yaxis": "y",
         "type": "bar"
        },
        {
         "alignmentgroup": "True",
         "hovertemplate": "Équipe=%{x}<br>Nombre total de victoires=%{y}<extra></extra>",
         "legendgroup": "Ivory Coast",
         "marker": {
          "color": "lightsalmon",
          "pattern": {
           "shape": ""
          }
         },
         "name": "Ivory Coast",
         "offsetgroup": "Ivory Coast",
         "orientation": "v",
         "showlegend": true,
         "textposition": "auto",
         "x": [
          "Ivory Coast"
         ],
         "xaxis": "x",
         "y": [
          44
         ],
         "yaxis": "y",
         "type": "bar"
        },
        {
         "alignmentgroup": "True",
         "hovertemplate": "Équipe=%{x}<br>Nombre total de victoires=%{y}<extra></extra>",
         "legendgroup": "Algeria",
         "marker": {
          "color": "lightsteelblue",
          "pattern": {
           "shape": ""
          }
         },
         "name": "Algeria",
         "offsetgroup": "Algeria",
         "orientation": "v",
         "showlegend": true,
         "textposition": "auto",
         "x": [
          "Algeria"
         ],
         "xaxis": "x",
         "y": [
          28
         ],
         "yaxis": "y",
         "type": "bar"
        },
        {
         "alignmentgroup": "True",
         "hovertemplate": "Équipe=%{x}<br>Nombre total de victoires=%{y}<extra></extra>",
         "legendgroup": "Morocco",
         "marker": {
          "color": "lightpink",
          "pattern": {
           "shape": ""
          }
         },
         "name": "Morocco",
         "offsetgroup": "Morocco",
         "orientation": "v",
         "showlegend": true,
         "textposition": "auto",
         "x": [
          "Morocco"
         ],
         "xaxis": "x",
         "y": [
          27
         ],
         "yaxis": "y",
         "type": "bar"
        },
        {
         "alignmentgroup": "True",
         "hovertemplate": "Équipe=%{x}<br>Nombre total de victoires=%{y}<extra></extra>",
         "legendgroup": "Senegal",
         "marker": {
          "color": "lightseagreen",
          "pattern": {
           "shape": ""
          }
         },
         "name": "Senegal",
         "offsetgroup": "Senegal",
         "orientation": "v",
         "showlegend": true,
         "textposition": "auto",
         "x": [
          "Senegal"
         ],
         "xaxis": "x",
         "y": [
          27
         ],
         "yaxis": "y",
         "type": "bar"
        },
        {
         "alignmentgroup": "True",
         "hovertemplate": "Équipe=%{x}<br>Nombre total de victoires=%{y}<extra></extra>",
         "legendgroup": "Zambia",
         "marker": {
          "color": "lightcyan",
          "pattern": {
           "shape": ""
          }
         },
         "name": "Zambia",
         "offsetgroup": "Zambia",
         "orientation": "v",
         "showlegend": true,
         "textposition": "auto",
         "x": [
          "Zambia"
         ],
         "xaxis": "x",
         "y": [
          26
         ],
         "yaxis": "y",
         "type": "bar"
        },
        {
         "alignmentgroup": "True",
         "hovertemplate": "Équipe=%{x}<br>Nombre total de victoires=%{y}<extra></extra>",
         "legendgroup": "Tunisia",
         "marker": {
          "color": "yellow",
          "pattern": {
           "shape": ""
          }
         },
         "name": "Tunisia",
         "offsetgroup": "Tunisia",
         "orientation": "v",
         "showlegend": true,
         "textposition": "auto",
         "x": [
          "Tunisia"
         ],
         "xaxis": "x",
         "y": [
          25
         ],
         "yaxis": "y",
         "type": "bar"
        }
       ],
       "layout": {
        "template": {
         "data": {
          "histogram2dcontour": [
           {
            "type": "histogram2dcontour",
            "colorbar": {
             "outlinewidth": 0,
             "ticks": ""
            },
            "colorscale": [
             [
              0.0,
              "#0d0887"
             ],
             [
              0.1111111111111111,
              "#46039f"
             ],
             [
              0.2222222222222222,
              "#7201a8"
             ],
             [
              0.3333333333333333,
              "#9c179e"
             ],
             [
              0.4444444444444444,
              "#bd3786"
             ],
             [
              0.5555555555555556,
              "#d8576b"
             ],
             [
              0.6666666666666666,
              "#ed7953"
             ],
             [
              0.7777777777777778,
              "#fb9f3a"
             ],
             [
              0.8888888888888888,
              "#fdca26"
             ],
             [
              1.0,
              "#f0f921"
             ]
            ]
           }
          ],
          "choropleth": [
           {
            "type": "choropleth",
            "colorbar": {
             "outlinewidth": 0,
             "ticks": ""
            }
           }
          ],
          "histogram2d": [
           {
            "type": "histogram2d",
            "colorbar": {
             "outlinewidth": 0,
             "ticks": ""
            },
            "colorscale": [
             [
              0.0,
              "#0d0887"
             ],
             [
              0.1111111111111111,
              "#46039f"
             ],
             [
              0.2222222222222222,
              "#7201a8"
             ],
             [
              0.3333333333333333,
              "#9c179e"
             ],
             [
              0.4444444444444444,
              "#bd3786"
             ],
             [
              0.5555555555555556,
              "#d8576b"
             ],
             [
              0.6666666666666666,
              "#ed7953"
             ],
             [
              0.7777777777777778,
              "#fb9f3a"
             ],
             [
              0.8888888888888888,
              "#fdca26"
             ],
             [
              1.0,
              "#f0f921"
             ]
            ]
           }
          ],
          "heatmap": [
           {
            "type": "heatmap",
            "colorbar": {
             "outlinewidth": 0,
             "ticks": ""
            },
            "colorscale": [
             [
              0.0,
              "#0d0887"
             ],
             [
              0.1111111111111111,
              "#46039f"
             ],
             [
              0.2222222222222222,
              "#7201a8"
             ],
             [
              0.3333333333333333,
              "#9c179e"
             ],
             [
              0.4444444444444444,
              "#bd3786"
             ],
             [
              0.5555555555555556,
              "#d8576b"
             ],
             [
              0.6666666666666666,
              "#ed7953"
             ],
             [
              0.7777777777777778,
              "#fb9f3a"
             ],
             [
              0.8888888888888888,
              "#fdca26"
             ],
             [
              1.0,
              "#f0f921"
             ]
            ]
           }
          ],
          "heatmapgl": [
           {
            "type": "heatmapgl",
            "colorbar": {
             "outlinewidth": 0,
             "ticks": ""
            },
            "colorscale": [
             [
              0.0,
              "#0d0887"
             ],
             [
              0.1111111111111111,
              "#46039f"
             ],
             [
              0.2222222222222222,
              "#7201a8"
             ],
             [
              0.3333333333333333,
              "#9c179e"
             ],
             [
              0.4444444444444444,
              "#bd3786"
             ],
             [
              0.5555555555555556,
              "#d8576b"
             ],
             [
              0.6666666666666666,
              "#ed7953"
             ],
             [
              0.7777777777777778,
              "#fb9f3a"
             ],
             [
              0.8888888888888888,
              "#fdca26"
             ],
             [
              1.0,
              "#f0f921"
             ]
            ]
           }
          ],
          "contourcarpet": [
           {
            "type": "contourcarpet",
            "colorbar": {
             "outlinewidth": 0,
             "ticks": ""
            }
           }
          ],
          "contour": [
           {
            "type": "contour",
            "colorbar": {
             "outlinewidth": 0,
             "ticks": ""
            },
            "colorscale": [
             [
              0.0,
              "#0d0887"
             ],
             [
              0.1111111111111111,
              "#46039f"
             ],
             [
              0.2222222222222222,
              "#7201a8"
             ],
             [
              0.3333333333333333,
              "#9c179e"
             ],
             [
              0.4444444444444444,
              "#bd3786"
             ],
             [
              0.5555555555555556,
              "#d8576b"
             ],
             [
              0.6666666666666666,
              "#ed7953"
             ],
             [
              0.7777777777777778,
              "#fb9f3a"
             ],
             [
              0.8888888888888888,
              "#fdca26"
             ],
             [
              1.0,
              "#f0f921"
             ]
            ]
           }
          ],
          "surface": [
           {
            "type": "surface",
            "colorbar": {
             "outlinewidth": 0,
             "ticks": ""
            },
            "colorscale": [
             [
              0.0,
              "#0d0887"
             ],
             [
              0.1111111111111111,
              "#46039f"
             ],
             [
              0.2222222222222222,
              "#7201a8"
             ],
             [
              0.3333333333333333,
              "#9c179e"
             ],
             [
              0.4444444444444444,
              "#bd3786"
             ],
             [
              0.5555555555555556,
              "#d8576b"
             ],
             [
              0.6666666666666666,
              "#ed7953"
             ],
             [
              0.7777777777777778,
              "#fb9f3a"
             ],
             [
              0.8888888888888888,
              "#fdca26"
             ],
             [
              1.0,
              "#f0f921"
             ]
            ]
           }
          ],
          "mesh3d": [
           {
            "type": "mesh3d",
            "colorbar": {
             "outlinewidth": 0,
             "ticks": ""
            }
           }
          ],
          "scatter": [
           {
            "fillpattern": {
             "fillmode": "overlay",
             "size": 10,
             "solidity": 0.2
            },
            "type": "scatter"
           }
          ],
          "parcoords": [
           {
            "type": "parcoords",
            "line": {
             "colorbar": {
              "outlinewidth": 0,
              "ticks": ""
             }
            }
           }
          ],
          "scatterpolargl": [
           {
            "type": "scatterpolargl",
            "marker": {
             "colorbar": {
              "outlinewidth": 0,
              "ticks": ""
             }
            }
           }
          ],
          "bar": [
           {
            "error_x": {
             "color": "#2a3f5f"
            },
            "error_y": {
             "color": "#2a3f5f"
            },
            "marker": {
             "line": {
              "color": "#E5ECF6",
              "width": 0.5
             },
             "pattern": {
              "fillmode": "overlay",
              "size": 10,
              "solidity": 0.2
             }
            },
            "type": "bar"
           }
          ],
          "scattergeo": [
           {
            "type": "scattergeo",
            "marker": {
             "colorbar": {
              "outlinewidth": 0,
              "ticks": ""
             }
            }
           }
          ],
          "scatterpolar": [
           {
            "type": "scatterpolar",
            "marker": {
             "colorbar": {
              "outlinewidth": 0,
              "ticks": ""
             }
            }
           }
          ],
          "histogram": [
           {
            "marker": {
             "pattern": {
              "fillmode": "overlay",
              "size": 10,
              "solidity": 0.2
             }
            },
            "type": "histogram"
           }
          ],
          "scattergl": [
           {
            "type": "scattergl",
            "marker": {
             "colorbar": {
              "outlinewidth": 0,
              "ticks": ""
             }
            }
           }
          ],
          "scatter3d": [
           {
            "type": "scatter3d",
            "line": {
             "colorbar": {
              "outlinewidth": 0,
              "ticks": ""
             }
            },
            "marker": {
             "colorbar": {
              "outlinewidth": 0,
              "ticks": ""
             }
            }
           }
          ],
          "scattermapbox": [
           {
            "type": "scattermapbox",
            "marker": {
             "colorbar": {
              "outlinewidth": 0,
              "ticks": ""
             }
            }
           }
          ],
          "scatterternary": [
           {
            "type": "scatterternary",
            "marker": {
             "colorbar": {
              "outlinewidth": 0,
              "ticks": ""
             }
            }
           }
          ],
          "scattercarpet": [
           {
            "type": "scattercarpet",
            "marker": {
             "colorbar": {
              "outlinewidth": 0,
              "ticks": ""
             }
            }
           }
          ],
          "carpet": [
           {
            "aaxis": {
             "endlinecolor": "#2a3f5f",
             "gridcolor": "white",
             "linecolor": "white",
             "minorgridcolor": "white",
             "startlinecolor": "#2a3f5f"
            },
            "baxis": {
             "endlinecolor": "#2a3f5f",
             "gridcolor": "white",
             "linecolor": "white",
             "minorgridcolor": "white",
             "startlinecolor": "#2a3f5f"
            },
            "type": "carpet"
           }
          ],
          "table": [
           {
            "cells": {
             "fill": {
              "color": "#EBF0F8"
             },
             "line": {
              "color": "white"
             }
            },
            "header": {
             "fill": {
              "color": "#C8D4E3"
             },
             "line": {
              "color": "white"
             }
            },
            "type": "table"
           }
          ],
          "barpolar": [
           {
            "marker": {
             "line": {
              "color": "#E5ECF6",
              "width": 0.5
             },
             "pattern": {
              "fillmode": "overlay",
              "size": 10,
              "solidity": 0.2
             }
            },
            "type": "barpolar"
           }
          ],
          "pie": [
           {
            "automargin": true,
            "type": "pie"
           }
          ]
         },
         "layout": {
          "autotypenumbers": "strict",
          "colorway": [
           "#636efa",
           "#EF553B",
           "#00cc96",
           "#ab63fa",
           "#FFA15A",
           "#19d3f3",
           "#FF6692",
           "#B6E880",
           "#FF97FF",
           "#FECB52"
          ],
          "font": {
           "color": "#2a3f5f"
          },
          "hovermode": "closest",
          "hoverlabel": {
           "align": "left"
          },
          "paper_bgcolor": "white",
          "plot_bgcolor": "#E5ECF6",
          "polar": {
           "bgcolor": "#E5ECF6",
           "angularaxis": {
            "gridcolor": "white",
            "linecolor": "white",
            "ticks": ""
           },
           "radialaxis": {
            "gridcolor": "white",
            "linecolor": "white",
            "ticks": ""
           }
          },
          "ternary": {
           "bgcolor": "#E5ECF6",
           "aaxis": {
            "gridcolor": "white",
            "linecolor": "white",
            "ticks": ""
           },
           "baxis": {
            "gridcolor": "white",
            "linecolor": "white",
            "ticks": ""
           },
           "caxis": {
            "gridcolor": "white",
            "linecolor": "white",
            "ticks": ""
           }
          },
          "coloraxis": {
           "colorbar": {
            "outlinewidth": 0,
            "ticks": ""
           }
          },
          "colorscale": {
           "sequential": [
            [
             0.0,
             "#0d0887"
            ],
            [
             0.1111111111111111,
             "#46039f"
            ],
            [
             0.2222222222222222,
             "#7201a8"
            ],
            [
             0.3333333333333333,
             "#9c179e"
            ],
            [
             0.4444444444444444,
             "#bd3786"
            ],
            [
             0.5555555555555556,
             "#d8576b"
            ],
            [
             0.6666666666666666,
             "#ed7953"
            ],
            [
             0.7777777777777778,
             "#fb9f3a"
            ],
            [
             0.8888888888888888,
             "#fdca26"
            ],
            [
             1.0,
             "#f0f921"
            ]
           ],
           "sequentialminus": [
            [
             0.0,
             "#0d0887"
            ],
            [
             0.1111111111111111,
             "#46039f"
            ],
            [
             0.2222222222222222,
             "#7201a8"
            ],
            [
             0.3333333333333333,
             "#9c179e"
            ],
            [
             0.4444444444444444,
             "#bd3786"
            ],
            [
             0.5555555555555556,
             "#d8576b"
            ],
            [
             0.6666666666666666,
             "#ed7953"
            ],
            [
             0.7777777777777778,
             "#fb9f3a"
            ],
            [
             0.8888888888888888,
             "#fdca26"
            ],
            [
             1.0,
             "#f0f921"
            ]
           ],
           "diverging": [
            [
             0,
             "#8e0152"
            ],
            [
             0.1,
             "#c51b7d"
            ],
            [
             0.2,
             "#de77ae"
            ],
            [
             0.3,
             "#f1b6da"
            ],
            [
             0.4,
             "#fde0ef"
            ],
            [
             0.5,
             "#f7f7f7"
            ],
            [
             0.6,
             "#e6f5d0"
            ],
            [
             0.7,
             "#b8e186"
            ],
            [
             0.8,
             "#7fbc41"
            ],
            [
             0.9,
             "#4d9221"
            ],
            [
             1,
             "#276419"
            ]
           ]
          },
          "xaxis": {
           "gridcolor": "white",
           "linecolor": "white",
           "ticks": "",
           "title": {
            "standoff": 15
           },
           "zerolinecolor": "white",
           "automargin": true,
           "zerolinewidth": 2
          },
          "yaxis": {
           "gridcolor": "white",
           "linecolor": "white",
           "ticks": "",
           "title": {
            "standoff": 15
           },
           "zerolinecolor": "white",
           "automargin": true,
           "zerolinewidth": 2
          },
          "scene": {
           "xaxis": {
            "backgroundcolor": "#E5ECF6",
            "gridcolor": "white",
            "linecolor": "white",
            "showbackground": true,
            "ticks": "",
            "zerolinecolor": "white",
            "gridwidth": 2
           },
           "yaxis": {
            "backgroundcolor": "#E5ECF6",
            "gridcolor": "white",
            "linecolor": "white",
            "showbackground": true,
            "ticks": "",
            "zerolinecolor": "white",
            "gridwidth": 2
           },
           "zaxis": {
            "backgroundcolor": "#E5ECF6",
            "gridcolor": "white",
            "linecolor": "white",
            "showbackground": true,
            "ticks": "",
            "zerolinecolor": "white",
            "gridwidth": 2
           }
          },
          "shapedefaults": {
           "line": {
            "color": "#2a3f5f"
           }
          },
          "annotationdefaults": {
           "arrowcolor": "#2a3f5f",
           "arrowhead": 0,
           "arrowwidth": 1
          },
          "geo": {
           "bgcolor": "white",
           "landcolor": "#E5ECF6",
           "subunitcolor": "white",
           "showland": true,
           "showlakes": true,
           "lakecolor": "white"
          },
          "title": {
           "x": 0.05
          },
          "mapbox": {
           "style": "light"
          }
         }
        },
        "xaxis": {
         "anchor": "y",
         "domain": [
          0.0,
          1.0
         ],
         "title": {
          "text": "Équipe"
         },
         "categoryorder": "array",
         "categoryarray": [
          "Egypt",
          "Ghana",
          "Nigeria",
          "Cameroon",
          "Ivory Coast",
          "Algeria",
          "Morocco",
          "Senegal",
          "Zambia",
          "Tunisia"
         ],
         "tickangle": -45,
         "tickmode": "array",
         "tickvals": [
          0,
          1,
          2,
          3,
          4,
          5,
          6,
          7,
          8,
          9
         ],
         "ticktext": [
          "Egypt",
          "Ghana",
          "Nigeria",
          "Cameroon",
          "Ivory Coast",
          "Algeria",
          "Morocco",
          "Senegal",
          "Zambia",
          "Tunisia"
         ]
        },
        "yaxis": {
         "anchor": "x",
         "domain": [
          0.0,
          1.0
         ],
         "title": {
          "text": "Nombre total de victoires"
         }
        },
        "legend": {
         "title": {
          "text": "Équipe"
         },
         "tracegroupgap": 0
        },
        "margin": {
         "t": 60
        },
        "barmode": "relative",
        "annotations": [
         {
          "font": {
           "size": 8
          },
          "showarrow": false,
          "text": "60",
          "x": 0,
          "y": 60
         },
         {
          "font": {
           "size": 8
          },
          "showarrow": false,
          "text": "54",
          "x": 1,
          "y": 54
         },
         {
          "font": {
           "size": 8
          },
          "showarrow": false,
          "text": "53",
          "x": 2,
          "y": 53
         },
         {
          "font": {
           "size": 8
          },
          "showarrow": false,
          "text": "45",
          "x": 3,
          "y": 45
         },
         {
          "font": {
           "size": 8
          },
          "showarrow": false,
          "text": "44",
          "x": 4,
          "y": 44
         },
         {
          "font": {
           "size": 8
          },
          "showarrow": false,
          "text": "28",
          "x": 5,
          "y": 28
         },
         {
          "font": {
           "size": 8
          },
          "showarrow": false,
          "text": "27",
          "x": 6,
          "y": 27
         },
         {
          "font": {
           "size": 8
          },
          "showarrow": false,
          "text": "27",
          "x": 7,
          "y": 27
         },
         {
          "font": {
           "size": 8
          },
          "showarrow": false,
          "text": "26",
          "x": 8,
          "y": 26
         },
         {
          "font": {
           "size": 8
          },
          "showarrow": false,
          "text": "25",
          "x": 9,
          "y": 25
         }
        ],
        "title": {
         "text": "Top 10 des équipes avec le plus grand nombre de victoires"
        }
       },
       "config": {
        "plotlyServerURL": "https://plot.ly"
       }
      },
      "text/html": "<div>                            <div id=\"bd2759c1-325d-4462-9da5-1a8a7a724e47\" class=\"plotly-graph-div\" style=\"height:525px; width:100%;\"></div>            <script type=\"text/javascript\">                require([\"plotly\"], function(Plotly) {                    window.PLOTLYENV=window.PLOTLYENV || {};                                    if (document.getElementById(\"bd2759c1-325d-4462-9da5-1a8a7a724e47\")) {                    Plotly.newPlot(                        \"bd2759c1-325d-4462-9da5-1a8a7a724e47\",                        [{\"alignmentgroup\":\"True\",\"hovertemplate\":\"\\u00c9quipe=%{x}<br>Nombre total de victoires=%{y}<extra></extra>\",\"legendgroup\":\"Egypt\",\"marker\":{\"color\":\"skyblue\",\"pattern\":{\"shape\":\"\"}},\"name\":\"Egypt\",\"offsetgroup\":\"Egypt\",\"orientation\":\"v\",\"showlegend\":true,\"textposition\":\"auto\",\"x\":[\"Egypt\"],\"xaxis\":\"x\",\"y\":[60],\"yaxis\":\"y\",\"type\":\"bar\"},{\"alignmentgroup\":\"True\",\"hovertemplate\":\"\\u00c9quipe=%{x}<br>Nombre total de victoires=%{y}<extra></extra>\",\"legendgroup\":\"Ghana\",\"marker\":{\"color\":\"lightcoral\",\"pattern\":{\"shape\":\"\"}},\"name\":\"Ghana\",\"offsetgroup\":\"Ghana\",\"orientation\":\"v\",\"showlegend\":true,\"textposition\":\"auto\",\"x\":[\"Ghana\"],\"xaxis\":\"x\",\"y\":[54],\"yaxis\":\"y\",\"type\":\"bar\"},{\"alignmentgroup\":\"True\",\"hovertemplate\":\"\\u00c9quipe=%{x}<br>Nombre total de victoires=%{y}<extra></extra>\",\"legendgroup\":\"Nigeria\",\"marker\":{\"color\":\"lightgreen\",\"pattern\":{\"shape\":\"\"}},\"name\":\"Nigeria\",\"offsetgroup\":\"Nigeria\",\"orientation\":\"v\",\"showlegend\":true,\"textposition\":\"auto\",\"x\":[\"Nigeria\"],\"xaxis\":\"x\",\"y\":[53],\"yaxis\":\"y\",\"type\":\"bar\"},{\"alignmentgroup\":\"True\",\"hovertemplate\":\"\\u00c9quipe=%{x}<br>Nombre total de victoires=%{y}<extra></extra>\",\"legendgroup\":\"Cameroon\",\"marker\":{\"color\":\"gold\",\"pattern\":{\"shape\":\"\"}},\"name\":\"Cameroon\",\"offsetgroup\":\"Cameroon\",\"orientation\":\"v\",\"showlegend\":true,\"textposition\":\"auto\",\"x\":[\"Cameroon\"],\"xaxis\":\"x\",\"y\":[45],\"yaxis\":\"y\",\"type\":\"bar\"},{\"alignmentgroup\":\"True\",\"hovertemplate\":\"\\u00c9quipe=%{x}<br>Nombre total de victoires=%{y}<extra></extra>\",\"legendgroup\":\"Ivory Coast\",\"marker\":{\"color\":\"lightsalmon\",\"pattern\":{\"shape\":\"\"}},\"name\":\"Ivory Coast\",\"offsetgroup\":\"Ivory Coast\",\"orientation\":\"v\",\"showlegend\":true,\"textposition\":\"auto\",\"x\":[\"Ivory Coast\"],\"xaxis\":\"x\",\"y\":[44],\"yaxis\":\"y\",\"type\":\"bar\"},{\"alignmentgroup\":\"True\",\"hovertemplate\":\"\\u00c9quipe=%{x}<br>Nombre total de victoires=%{y}<extra></extra>\",\"legendgroup\":\"Algeria\",\"marker\":{\"color\":\"lightsteelblue\",\"pattern\":{\"shape\":\"\"}},\"name\":\"Algeria\",\"offsetgroup\":\"Algeria\",\"orientation\":\"v\",\"showlegend\":true,\"textposition\":\"auto\",\"x\":[\"Algeria\"],\"xaxis\":\"x\",\"y\":[28],\"yaxis\":\"y\",\"type\":\"bar\"},{\"alignmentgroup\":\"True\",\"hovertemplate\":\"\\u00c9quipe=%{x}<br>Nombre total de victoires=%{y}<extra></extra>\",\"legendgroup\":\"Morocco\",\"marker\":{\"color\":\"lightpink\",\"pattern\":{\"shape\":\"\"}},\"name\":\"Morocco\",\"offsetgroup\":\"Morocco\",\"orientation\":\"v\",\"showlegend\":true,\"textposition\":\"auto\",\"x\":[\"Morocco\"],\"xaxis\":\"x\",\"y\":[27],\"yaxis\":\"y\",\"type\":\"bar\"},{\"alignmentgroup\":\"True\",\"hovertemplate\":\"\\u00c9quipe=%{x}<br>Nombre total de victoires=%{y}<extra></extra>\",\"legendgroup\":\"Senegal\",\"marker\":{\"color\":\"lightseagreen\",\"pattern\":{\"shape\":\"\"}},\"name\":\"Senegal\",\"offsetgroup\":\"Senegal\",\"orientation\":\"v\",\"showlegend\":true,\"textposition\":\"auto\",\"x\":[\"Senegal\"],\"xaxis\":\"x\",\"y\":[27],\"yaxis\":\"y\",\"type\":\"bar\"},{\"alignmentgroup\":\"True\",\"hovertemplate\":\"\\u00c9quipe=%{x}<br>Nombre total de victoires=%{y}<extra></extra>\",\"legendgroup\":\"Zambia\",\"marker\":{\"color\":\"lightcyan\",\"pattern\":{\"shape\":\"\"}},\"name\":\"Zambia\",\"offsetgroup\":\"Zambia\",\"orientation\":\"v\",\"showlegend\":true,\"textposition\":\"auto\",\"x\":[\"Zambia\"],\"xaxis\":\"x\",\"y\":[26],\"yaxis\":\"y\",\"type\":\"bar\"},{\"alignmentgroup\":\"True\",\"hovertemplate\":\"\\u00c9quipe=%{x}<br>Nombre total de victoires=%{y}<extra></extra>\",\"legendgroup\":\"Tunisia\",\"marker\":{\"color\":\"yellow\",\"pattern\":{\"shape\":\"\"}},\"name\":\"Tunisia\",\"offsetgroup\":\"Tunisia\",\"orientation\":\"v\",\"showlegend\":true,\"textposition\":\"auto\",\"x\":[\"Tunisia\"],\"xaxis\":\"x\",\"y\":[25],\"yaxis\":\"y\",\"type\":\"bar\"}],                        {\"template\":{\"data\":{\"histogram2dcontour\":[{\"type\":\"histogram2dcontour\",\"colorbar\":{\"outlinewidth\":0,\"ticks\":\"\"},\"colorscale\":[[0.0,\"#0d0887\"],[0.1111111111111111,\"#46039f\"],[0.2222222222222222,\"#7201a8\"],[0.3333333333333333,\"#9c179e\"],[0.4444444444444444,\"#bd3786\"],[0.5555555555555556,\"#d8576b\"],[0.6666666666666666,\"#ed7953\"],[0.7777777777777778,\"#fb9f3a\"],[0.8888888888888888,\"#fdca26\"],[1.0,\"#f0f921\"]]}],\"choropleth\":[{\"type\":\"choropleth\",\"colorbar\":{\"outlinewidth\":0,\"ticks\":\"\"}}],\"histogram2d\":[{\"type\":\"histogram2d\",\"colorbar\":{\"outlinewidth\":0,\"ticks\":\"\"},\"colorscale\":[[0.0,\"#0d0887\"],[0.1111111111111111,\"#46039f\"],[0.2222222222222222,\"#7201a8\"],[0.3333333333333333,\"#9c179e\"],[0.4444444444444444,\"#bd3786\"],[0.5555555555555556,\"#d8576b\"],[0.6666666666666666,\"#ed7953\"],[0.7777777777777778,\"#fb9f3a\"],[0.8888888888888888,\"#fdca26\"],[1.0,\"#f0f921\"]]}],\"heatmap\":[{\"type\":\"heatmap\",\"colorbar\":{\"outlinewidth\":0,\"ticks\":\"\"},\"colorscale\":[[0.0,\"#0d0887\"],[0.1111111111111111,\"#46039f\"],[0.2222222222222222,\"#7201a8\"],[0.3333333333333333,\"#9c179e\"],[0.4444444444444444,\"#bd3786\"],[0.5555555555555556,\"#d8576b\"],[0.6666666666666666,\"#ed7953\"],[0.7777777777777778,\"#fb9f3a\"],[0.8888888888888888,\"#fdca26\"],[1.0,\"#f0f921\"]]}],\"heatmapgl\":[{\"type\":\"heatmapgl\",\"colorbar\":{\"outlinewidth\":0,\"ticks\":\"\"},\"colorscale\":[[0.0,\"#0d0887\"],[0.1111111111111111,\"#46039f\"],[0.2222222222222222,\"#7201a8\"],[0.3333333333333333,\"#9c179e\"],[0.4444444444444444,\"#bd3786\"],[0.5555555555555556,\"#d8576b\"],[0.6666666666666666,\"#ed7953\"],[0.7777777777777778,\"#fb9f3a\"],[0.8888888888888888,\"#fdca26\"],[1.0,\"#f0f921\"]]}],\"contourcarpet\":[{\"type\":\"contourcarpet\",\"colorbar\":{\"outlinewidth\":0,\"ticks\":\"\"}}],\"contour\":[{\"type\":\"contour\",\"colorbar\":{\"outlinewidth\":0,\"ticks\":\"\"},\"colorscale\":[[0.0,\"#0d0887\"],[0.1111111111111111,\"#46039f\"],[0.2222222222222222,\"#7201a8\"],[0.3333333333333333,\"#9c179e\"],[0.4444444444444444,\"#bd3786\"],[0.5555555555555556,\"#d8576b\"],[0.6666666666666666,\"#ed7953\"],[0.7777777777777778,\"#fb9f3a\"],[0.8888888888888888,\"#fdca26\"],[1.0,\"#f0f921\"]]}],\"surface\":[{\"type\":\"surface\",\"colorbar\":{\"outlinewidth\":0,\"ticks\":\"\"},\"colorscale\":[[0.0,\"#0d0887\"],[0.1111111111111111,\"#46039f\"],[0.2222222222222222,\"#7201a8\"],[0.3333333333333333,\"#9c179e\"],[0.4444444444444444,\"#bd3786\"],[0.5555555555555556,\"#d8576b\"],[0.6666666666666666,\"#ed7953\"],[0.7777777777777778,\"#fb9f3a\"],[0.8888888888888888,\"#fdca26\"],[1.0,\"#f0f921\"]]}],\"mesh3d\":[{\"type\":\"mesh3d\",\"colorbar\":{\"outlinewidth\":0,\"ticks\":\"\"}}],\"scatter\":[{\"fillpattern\":{\"fillmode\":\"overlay\",\"size\":10,\"solidity\":0.2},\"type\":\"scatter\"}],\"parcoords\":[{\"type\":\"parcoords\",\"line\":{\"colorbar\":{\"outlinewidth\":0,\"ticks\":\"\"}}}],\"scatterpolargl\":[{\"type\":\"scatterpolargl\",\"marker\":{\"colorbar\":{\"outlinewidth\":0,\"ticks\":\"\"}}}],\"bar\":[{\"error_x\":{\"color\":\"#2a3f5f\"},\"error_y\":{\"color\":\"#2a3f5f\"},\"marker\":{\"line\":{\"color\":\"#E5ECF6\",\"width\":0.5},\"pattern\":{\"fillmode\":\"overlay\",\"size\":10,\"solidity\":0.2}},\"type\":\"bar\"}],\"scattergeo\":[{\"type\":\"scattergeo\",\"marker\":{\"colorbar\":{\"outlinewidth\":0,\"ticks\":\"\"}}}],\"scatterpolar\":[{\"type\":\"scatterpolar\",\"marker\":{\"colorbar\":{\"outlinewidth\":0,\"ticks\":\"\"}}}],\"histogram\":[{\"marker\":{\"pattern\":{\"fillmode\":\"overlay\",\"size\":10,\"solidity\":0.2}},\"type\":\"histogram\"}],\"scattergl\":[{\"type\":\"scattergl\",\"marker\":{\"colorbar\":{\"outlinewidth\":0,\"ticks\":\"\"}}}],\"scatter3d\":[{\"type\":\"scatter3d\",\"line\":{\"colorbar\":{\"outlinewidth\":0,\"ticks\":\"\"}},\"marker\":{\"colorbar\":{\"outlinewidth\":0,\"ticks\":\"\"}}}],\"scattermapbox\":[{\"type\":\"scattermapbox\",\"marker\":{\"colorbar\":{\"outlinewidth\":0,\"ticks\":\"\"}}}],\"scatterternary\":[{\"type\":\"scatterternary\",\"marker\":{\"colorbar\":{\"outlinewidth\":0,\"ticks\":\"\"}}}],\"scattercarpet\":[{\"type\":\"scattercarpet\",\"marker\":{\"colorbar\":{\"outlinewidth\":0,\"ticks\":\"\"}}}],\"carpet\":[{\"aaxis\":{\"endlinecolor\":\"#2a3f5f\",\"gridcolor\":\"white\",\"linecolor\":\"white\",\"minorgridcolor\":\"white\",\"startlinecolor\":\"#2a3f5f\"},\"baxis\":{\"endlinecolor\":\"#2a3f5f\",\"gridcolor\":\"white\",\"linecolor\":\"white\",\"minorgridcolor\":\"white\",\"startlinecolor\":\"#2a3f5f\"},\"type\":\"carpet\"}],\"table\":[{\"cells\":{\"fill\":{\"color\":\"#EBF0F8\"},\"line\":{\"color\":\"white\"}},\"header\":{\"fill\":{\"color\":\"#C8D4E3\"},\"line\":{\"color\":\"white\"}},\"type\":\"table\"}],\"barpolar\":[{\"marker\":{\"line\":{\"color\":\"#E5ECF6\",\"width\":0.5},\"pattern\":{\"fillmode\":\"overlay\",\"size\":10,\"solidity\":0.2}},\"type\":\"barpolar\"}],\"pie\":[{\"automargin\":true,\"type\":\"pie\"}]},\"layout\":{\"autotypenumbers\":\"strict\",\"colorway\":[\"#636efa\",\"#EF553B\",\"#00cc96\",\"#ab63fa\",\"#FFA15A\",\"#19d3f3\",\"#FF6692\",\"#B6E880\",\"#FF97FF\",\"#FECB52\"],\"font\":{\"color\":\"#2a3f5f\"},\"hovermode\":\"closest\",\"hoverlabel\":{\"align\":\"left\"},\"paper_bgcolor\":\"white\",\"plot_bgcolor\":\"#E5ECF6\",\"polar\":{\"bgcolor\":\"#E5ECF6\",\"angularaxis\":{\"gridcolor\":\"white\",\"linecolor\":\"white\",\"ticks\":\"\"},\"radialaxis\":{\"gridcolor\":\"white\",\"linecolor\":\"white\",\"ticks\":\"\"}},\"ternary\":{\"bgcolor\":\"#E5ECF6\",\"aaxis\":{\"gridcolor\":\"white\",\"linecolor\":\"white\",\"ticks\":\"\"},\"baxis\":{\"gridcolor\":\"white\",\"linecolor\":\"white\",\"ticks\":\"\"},\"caxis\":{\"gridcolor\":\"white\",\"linecolor\":\"white\",\"ticks\":\"\"}},\"coloraxis\":{\"colorbar\":{\"outlinewidth\":0,\"ticks\":\"\"}},\"colorscale\":{\"sequential\":[[0.0,\"#0d0887\"],[0.1111111111111111,\"#46039f\"],[0.2222222222222222,\"#7201a8\"],[0.3333333333333333,\"#9c179e\"],[0.4444444444444444,\"#bd3786\"],[0.5555555555555556,\"#d8576b\"],[0.6666666666666666,\"#ed7953\"],[0.7777777777777778,\"#fb9f3a\"],[0.8888888888888888,\"#fdca26\"],[1.0,\"#f0f921\"]],\"sequentialminus\":[[0.0,\"#0d0887\"],[0.1111111111111111,\"#46039f\"],[0.2222222222222222,\"#7201a8\"],[0.3333333333333333,\"#9c179e\"],[0.4444444444444444,\"#bd3786\"],[0.5555555555555556,\"#d8576b\"],[0.6666666666666666,\"#ed7953\"],[0.7777777777777778,\"#fb9f3a\"],[0.8888888888888888,\"#fdca26\"],[1.0,\"#f0f921\"]],\"diverging\":[[0,\"#8e0152\"],[0.1,\"#c51b7d\"],[0.2,\"#de77ae\"],[0.3,\"#f1b6da\"],[0.4,\"#fde0ef\"],[0.5,\"#f7f7f7\"],[0.6,\"#e6f5d0\"],[0.7,\"#b8e186\"],[0.8,\"#7fbc41\"],[0.9,\"#4d9221\"],[1,\"#276419\"]]},\"xaxis\":{\"gridcolor\":\"white\",\"linecolor\":\"white\",\"ticks\":\"\",\"title\":{\"standoff\":15},\"zerolinecolor\":\"white\",\"automargin\":true,\"zerolinewidth\":2},\"yaxis\":{\"gridcolor\":\"white\",\"linecolor\":\"white\",\"ticks\":\"\",\"title\":{\"standoff\":15},\"zerolinecolor\":\"white\",\"automargin\":true,\"zerolinewidth\":2},\"scene\":{\"xaxis\":{\"backgroundcolor\":\"#E5ECF6\",\"gridcolor\":\"white\",\"linecolor\":\"white\",\"showbackground\":true,\"ticks\":\"\",\"zerolinecolor\":\"white\",\"gridwidth\":2},\"yaxis\":{\"backgroundcolor\":\"#E5ECF6\",\"gridcolor\":\"white\",\"linecolor\":\"white\",\"showbackground\":true,\"ticks\":\"\",\"zerolinecolor\":\"white\",\"gridwidth\":2},\"zaxis\":{\"backgroundcolor\":\"#E5ECF6\",\"gridcolor\":\"white\",\"linecolor\":\"white\",\"showbackground\":true,\"ticks\":\"\",\"zerolinecolor\":\"white\",\"gridwidth\":2}},\"shapedefaults\":{\"line\":{\"color\":\"#2a3f5f\"}},\"annotationdefaults\":{\"arrowcolor\":\"#2a3f5f\",\"arrowhead\":0,\"arrowwidth\":1},\"geo\":{\"bgcolor\":\"white\",\"landcolor\":\"#E5ECF6\",\"subunitcolor\":\"white\",\"showland\":true,\"showlakes\":true,\"lakecolor\":\"white\"},\"title\":{\"x\":0.05},\"mapbox\":{\"style\":\"light\"}}},\"xaxis\":{\"anchor\":\"y\",\"domain\":[0.0,1.0],\"title\":{\"text\":\"\\u00c9quipe\"},\"categoryorder\":\"array\",\"categoryarray\":[\"Egypt\",\"Ghana\",\"Nigeria\",\"Cameroon\",\"Ivory Coast\",\"Algeria\",\"Morocco\",\"Senegal\",\"Zambia\",\"Tunisia\"],\"tickangle\":-45,\"tickmode\":\"array\",\"tickvals\":[0,1,2,3,4,5,6,7,8,9],\"ticktext\":[\"Egypt\",\"Ghana\",\"Nigeria\",\"Cameroon\",\"Ivory Coast\",\"Algeria\",\"Morocco\",\"Senegal\",\"Zambia\",\"Tunisia\"]},\"yaxis\":{\"anchor\":\"x\",\"domain\":[0.0,1.0],\"title\":{\"text\":\"Nombre total de victoires\"}},\"legend\":{\"title\":{\"text\":\"\\u00c9quipe\"},\"tracegroupgap\":0},\"margin\":{\"t\":60},\"barmode\":\"relative\",\"annotations\":[{\"font\":{\"size\":8},\"showarrow\":false,\"text\":\"60\",\"x\":0,\"y\":60},{\"font\":{\"size\":8},\"showarrow\":false,\"text\":\"54\",\"x\":1,\"y\":54},{\"font\":{\"size\":8},\"showarrow\":false,\"text\":\"53\",\"x\":2,\"y\":53},{\"font\":{\"size\":8},\"showarrow\":false,\"text\":\"45\",\"x\":3,\"y\":45},{\"font\":{\"size\":8},\"showarrow\":false,\"text\":\"44\",\"x\":4,\"y\":44},{\"font\":{\"size\":8},\"showarrow\":false,\"text\":\"28\",\"x\":5,\"y\":28},{\"font\":{\"size\":8},\"showarrow\":false,\"text\":\"27\",\"x\":6,\"y\":27},{\"font\":{\"size\":8},\"showarrow\":false,\"text\":\"27\",\"x\":7,\"y\":27},{\"font\":{\"size\":8},\"showarrow\":false,\"text\":\"26\",\"x\":8,\"y\":26},{\"font\":{\"size\":8},\"showarrow\":false,\"text\":\"25\",\"x\":9,\"y\":25}],\"title\":{\"text\":\"Top 10 des \\u00e9quipes avec le plus grand nombre de victoires\"}},                        {\"responsive\": true}                    ).then(function(){\n                            \nvar gd = document.getElementById('bd2759c1-325d-4462-9da5-1a8a7a724e47');\nvar x = new MutationObserver(function (mutations, observer) {{\n        var display = window.getComputedStyle(gd).display;\n        if (!display || display === 'none') {{\n            console.log([gd, 'removed!']);\n            Plotly.purge(gd);\n            observer.disconnect();\n        }}\n}});\n\n// Listen for the removal of the full notebook cells\nvar notebookContainer = gd.closest('#notebook-container');\nif (notebookContainer) {{\n    x.observe(notebookContainer, {childList: true});\n}}\n\n// Listen for the clearing of the current output cell\nvar outputEl = gd.closest('.output');\nif (outputEl) {{\n    x.observe(outputEl, {childList: true});\n}}\n\n                        })                };                });            </script>        </div>"
     },
     "metadata": {},
     "output_type": "display_data"
    }
   ],
   "source": [
    "# Trier les équipes en fonction du nombre total de victoires\n",
    "total_wins = total_wins.sort_values(ascending=False)\n",
    "\n",
    "# Sélectionner les 10 premiers résultats\n",
    "top_10_wins = total_wins.head(10)\n",
    "\n",
    "# Définir des couleurs personnalisées pour chaque barre\n",
    "colors = ['skyblue', 'lightcoral', 'lightgreen', 'gold', 'lightsalmon',\n",
    "          'lightsteelblue', 'lightpink', 'lightseagreen', 'lightcyan', 'yellow']\n",
    "\n",
    "# Tracer le graphique avec Plotly\n",
    "fig = px.bar(top_10_wins, x=top_10_wins.index, y=top_10_wins.values, color=top_10_wins.index,\n",
    "             color_discrete_sequence=colors, labels={'index': 'Équipe', 'y': 'Nombre total de victoires'})\n",
    "\n",
    "# Ajouter le texte au-dessus de chaque barre\n",
    "for i, value in enumerate(top_10_wins.values):\n",
    "    fig.add_annotation(x=i, y=value, text=str(value), showarrow=False, font=dict(size=8))\n",
    "\n",
    "# Personnaliser la disposition\n",
    "fig.update_layout(\n",
    "    title='Top 10 des équipes avec le plus grand nombre de victoires',\n",
    "    xaxis_title='Équipe',\n",
    "    yaxis_title='Nombre total de victoires',\n",
    "    xaxis=dict(tickangle=-45, tickmode='array', tickvals=list(range(10)), ticktext=top_10_wins.index)\n",
    ")\n",
    "\n",
    "# Afficher le graphique\n",
    "fig.show()"
   ],
   "metadata": {
    "collapsed": false,
    "ExecuteTime": {
     "end_time": "2023-12-29T03:27:22.019363100Z",
     "start_time": "2023-12-29T03:27:21.286724100Z"
    }
   },
   "id": "315b7d0f510fe99d",
   "execution_count": 106
  },
  {
   "cell_type": "markdown",
   "source": [
    "---\n",
    "**Tracer la courbe pour les 10 équipes avec le plus de défaites**"
   ],
   "metadata": {
    "collapsed": false
   },
   "id": "bc913198bf39ad44"
  },
  {
   "cell_type": "code",
   "outputs": [
    {
     "data": {
      "application/vnd.plotly.v1+json": {
       "data": [
        {
         "alignmentgroup": "True",
         "hovertemplate": "Équipe=%{x}<br>Nombre total de défaites=%{y}<extra></extra>",
         "legendgroup": "DR Congo",
         "marker": {
          "color": "skyblue",
          "pattern": {
           "shape": ""
          }
         },
         "name": "DR Congo",
         "offsetgroup": "DR Congo",
         "orientation": "v",
         "showlegend": true,
         "textposition": "auto",
         "x": [
          "DR Congo"
         ],
         "xaxis": "x",
         "y": [
          29
         ],
         "yaxis": "y",
         "type": "bar"
        },
        {
         "alignmentgroup": "True",
         "hovertemplate": "Équipe=%{x}<br>Nombre total de défaites=%{y}<extra></extra>",
         "legendgroup": "Ivory Coast",
         "marker": {
          "color": "lightcoral",
          "pattern": {
           "shape": ""
          }
         },
         "name": "Ivory Coast",
         "offsetgroup": "Ivory Coast",
         "orientation": "v",
         "showlegend": true,
         "textposition": "auto",
         "x": [
          "Ivory Coast"
         ],
         "xaxis": "x",
         "y": [
          28
         ],
         "yaxis": "y",
         "type": "bar"
        },
        {
         "alignmentgroup": "True",
         "hovertemplate": "Équipe=%{x}<br>Nombre total de défaites=%{y}<extra></extra>",
         "legendgroup": "Algeria",
         "marker": {
          "color": "lightgreen",
          "pattern": {
           "shape": ""
          }
         },
         "name": "Algeria",
         "offsetgroup": "Algeria",
         "orientation": "v",
         "showlegend": true,
         "textposition": "auto",
         "x": [
          "Algeria"
         ],
         "xaxis": "x",
         "y": [
          27
         ],
         "yaxis": "y",
         "type": "bar"
        },
        {
         "alignmentgroup": "True",
         "hovertemplate": "Équipe=%{x}<br>Nombre total de défaites=%{y}<extra></extra>",
         "legendgroup": "Ghana",
         "marker": {
          "color": "gold",
          "pattern": {
           "shape": ""
          }
         },
         "name": "Ghana",
         "offsetgroup": "Ghana",
         "orientation": "v",
         "showlegend": true,
         "textposition": "auto",
         "x": [
          "Ghana"
         ],
         "xaxis": "x",
         "y": [
          27
         ],
         "yaxis": "y",
         "type": "bar"
        },
        {
         "alignmentgroup": "True",
         "hovertemplate": "Équipe=%{x}<br>Nombre total de défaites=%{y}<extra></extra>",
         "legendgroup": "Egypt",
         "marker": {
          "color": "lightsalmon",
          "pattern": {
           "shape": ""
          }
         },
         "name": "Egypt",
         "offsetgroup": "Egypt",
         "orientation": "v",
         "showlegend": true,
         "textposition": "auto",
         "x": [
          "Egypt"
         ],
         "xaxis": "x",
         "y": [
          27
         ],
         "yaxis": "y",
         "type": "bar"
        },
        {
         "alignmentgroup": "True",
         "hovertemplate": "Équipe=%{x}<br>Nombre total de défaites=%{y}<extra></extra>",
         "legendgroup": "Tunisia",
         "marker": {
          "color": "lightsteelblue",
          "pattern": {
           "shape": ""
          }
         },
         "name": "Tunisia",
         "offsetgroup": "Tunisia",
         "orientation": "v",
         "showlegend": true,
         "textposition": "auto",
         "x": [
          "Tunisia"
         ],
         "xaxis": "x",
         "y": [
          26
         ],
         "yaxis": "y",
         "type": "bar"
        },
        {
         "alignmentgroup": "True",
         "hovertemplate": "Équipe=%{x}<br>Nombre total de défaites=%{y}<extra></extra>",
         "legendgroup": "Burkina Faso",
         "marker": {
          "color": "lightpink",
          "pattern": {
           "shape": ""
          }
         },
         "name": "Burkina Faso",
         "offsetgroup": "Burkina Faso",
         "orientation": "v",
         "showlegend": true,
         "textposition": "auto",
         "x": [
          "Burkina Faso"
         ],
         "xaxis": "x",
         "y": [
          23
         ],
         "yaxis": "y",
         "type": "bar"
        },
        {
         "alignmentgroup": "True",
         "hovertemplate": "Équipe=%{x}<br>Nombre total de défaites=%{y}<extra></extra>",
         "legendgroup": "Senegal",
         "marker": {
          "color": "lightseagreen",
          "pattern": {
           "shape": ""
          }
         },
         "name": "Senegal",
         "offsetgroup": "Senegal",
         "orientation": "v",
         "showlegend": true,
         "textposition": "auto",
         "x": [
          "Senegal"
         ],
         "xaxis": "x",
         "y": [
          23
         ],
         "yaxis": "y",
         "type": "bar"
        },
        {
         "alignmentgroup": "True",
         "hovertemplate": "Équipe=%{x}<br>Nombre total de défaites=%{y}<extra></extra>",
         "legendgroup": "Nigeria",
         "marker": {
          "color": "lightcyan",
          "pattern": {
           "shape": ""
          }
         },
         "name": "Nigeria",
         "offsetgroup": "Nigeria",
         "orientation": "v",
         "showlegend": true,
         "textposition": "auto",
         "x": [
          "Nigeria"
         ],
         "xaxis": "x",
         "y": [
          22
         ],
         "yaxis": "y",
         "type": "bar"
        },
        {
         "alignmentgroup": "True",
         "hovertemplate": "Équipe=%{x}<br>Nombre total de défaites=%{y}<extra></extra>",
         "legendgroup": "Zambia",
         "marker": {
          "color": "yellow",
          "pattern": {
           "shape": ""
          }
         },
         "name": "Zambia",
         "offsetgroup": "Zambia",
         "orientation": "v",
         "showlegend": true,
         "textposition": "auto",
         "x": [
          "Zambia"
         ],
         "xaxis": "x",
         "y": [
          21
         ],
         "yaxis": "y",
         "type": "bar"
        }
       ],
       "layout": {
        "template": {
         "data": {
          "histogram2dcontour": [
           {
            "type": "histogram2dcontour",
            "colorbar": {
             "outlinewidth": 0,
             "ticks": ""
            },
            "colorscale": [
             [
              0.0,
              "#0d0887"
             ],
             [
              0.1111111111111111,
              "#46039f"
             ],
             [
              0.2222222222222222,
              "#7201a8"
             ],
             [
              0.3333333333333333,
              "#9c179e"
             ],
             [
              0.4444444444444444,
              "#bd3786"
             ],
             [
              0.5555555555555556,
              "#d8576b"
             ],
             [
              0.6666666666666666,
              "#ed7953"
             ],
             [
              0.7777777777777778,
              "#fb9f3a"
             ],
             [
              0.8888888888888888,
              "#fdca26"
             ],
             [
              1.0,
              "#f0f921"
             ]
            ]
           }
          ],
          "choropleth": [
           {
            "type": "choropleth",
            "colorbar": {
             "outlinewidth": 0,
             "ticks": ""
            }
           }
          ],
          "histogram2d": [
           {
            "type": "histogram2d",
            "colorbar": {
             "outlinewidth": 0,
             "ticks": ""
            },
            "colorscale": [
             [
              0.0,
              "#0d0887"
             ],
             [
              0.1111111111111111,
              "#46039f"
             ],
             [
              0.2222222222222222,
              "#7201a8"
             ],
             [
              0.3333333333333333,
              "#9c179e"
             ],
             [
              0.4444444444444444,
              "#bd3786"
             ],
             [
              0.5555555555555556,
              "#d8576b"
             ],
             [
              0.6666666666666666,
              "#ed7953"
             ],
             [
              0.7777777777777778,
              "#fb9f3a"
             ],
             [
              0.8888888888888888,
              "#fdca26"
             ],
             [
              1.0,
              "#f0f921"
             ]
            ]
           }
          ],
          "heatmap": [
           {
            "type": "heatmap",
            "colorbar": {
             "outlinewidth": 0,
             "ticks": ""
            },
            "colorscale": [
             [
              0.0,
              "#0d0887"
             ],
             [
              0.1111111111111111,
              "#46039f"
             ],
             [
              0.2222222222222222,
              "#7201a8"
             ],
             [
              0.3333333333333333,
              "#9c179e"
             ],
             [
              0.4444444444444444,
              "#bd3786"
             ],
             [
              0.5555555555555556,
              "#d8576b"
             ],
             [
              0.6666666666666666,
              "#ed7953"
             ],
             [
              0.7777777777777778,
              "#fb9f3a"
             ],
             [
              0.8888888888888888,
              "#fdca26"
             ],
             [
              1.0,
              "#f0f921"
             ]
            ]
           }
          ],
          "heatmapgl": [
           {
            "type": "heatmapgl",
            "colorbar": {
             "outlinewidth": 0,
             "ticks": ""
            },
            "colorscale": [
             [
              0.0,
              "#0d0887"
             ],
             [
              0.1111111111111111,
              "#46039f"
             ],
             [
              0.2222222222222222,
              "#7201a8"
             ],
             [
              0.3333333333333333,
              "#9c179e"
             ],
             [
              0.4444444444444444,
              "#bd3786"
             ],
             [
              0.5555555555555556,
              "#d8576b"
             ],
             [
              0.6666666666666666,
              "#ed7953"
             ],
             [
              0.7777777777777778,
              "#fb9f3a"
             ],
             [
              0.8888888888888888,
              "#fdca26"
             ],
             [
              1.0,
              "#f0f921"
             ]
            ]
           }
          ],
          "contourcarpet": [
           {
            "type": "contourcarpet",
            "colorbar": {
             "outlinewidth": 0,
             "ticks": ""
            }
           }
          ],
          "contour": [
           {
            "type": "contour",
            "colorbar": {
             "outlinewidth": 0,
             "ticks": ""
            },
            "colorscale": [
             [
              0.0,
              "#0d0887"
             ],
             [
              0.1111111111111111,
              "#46039f"
             ],
             [
              0.2222222222222222,
              "#7201a8"
             ],
             [
              0.3333333333333333,
              "#9c179e"
             ],
             [
              0.4444444444444444,
              "#bd3786"
             ],
             [
              0.5555555555555556,
              "#d8576b"
             ],
             [
              0.6666666666666666,
              "#ed7953"
             ],
             [
              0.7777777777777778,
              "#fb9f3a"
             ],
             [
              0.8888888888888888,
              "#fdca26"
             ],
             [
              1.0,
              "#f0f921"
             ]
            ]
           }
          ],
          "surface": [
           {
            "type": "surface",
            "colorbar": {
             "outlinewidth": 0,
             "ticks": ""
            },
            "colorscale": [
             [
              0.0,
              "#0d0887"
             ],
             [
              0.1111111111111111,
              "#46039f"
             ],
             [
              0.2222222222222222,
              "#7201a8"
             ],
             [
              0.3333333333333333,
              "#9c179e"
             ],
             [
              0.4444444444444444,
              "#bd3786"
             ],
             [
              0.5555555555555556,
              "#d8576b"
             ],
             [
              0.6666666666666666,
              "#ed7953"
             ],
             [
              0.7777777777777778,
              "#fb9f3a"
             ],
             [
              0.8888888888888888,
              "#fdca26"
             ],
             [
              1.0,
              "#f0f921"
             ]
            ]
           }
          ],
          "mesh3d": [
           {
            "type": "mesh3d",
            "colorbar": {
             "outlinewidth": 0,
             "ticks": ""
            }
           }
          ],
          "scatter": [
           {
            "fillpattern": {
             "fillmode": "overlay",
             "size": 10,
             "solidity": 0.2
            },
            "type": "scatter"
           }
          ],
          "parcoords": [
           {
            "type": "parcoords",
            "line": {
             "colorbar": {
              "outlinewidth": 0,
              "ticks": ""
             }
            }
           }
          ],
          "scatterpolargl": [
           {
            "type": "scatterpolargl",
            "marker": {
             "colorbar": {
              "outlinewidth": 0,
              "ticks": ""
             }
            }
           }
          ],
          "bar": [
           {
            "error_x": {
             "color": "#2a3f5f"
            },
            "error_y": {
             "color": "#2a3f5f"
            },
            "marker": {
             "line": {
              "color": "#E5ECF6",
              "width": 0.5
             },
             "pattern": {
              "fillmode": "overlay",
              "size": 10,
              "solidity": 0.2
             }
            },
            "type": "bar"
           }
          ],
          "scattergeo": [
           {
            "type": "scattergeo",
            "marker": {
             "colorbar": {
              "outlinewidth": 0,
              "ticks": ""
             }
            }
           }
          ],
          "scatterpolar": [
           {
            "type": "scatterpolar",
            "marker": {
             "colorbar": {
              "outlinewidth": 0,
              "ticks": ""
             }
            }
           }
          ],
          "histogram": [
           {
            "marker": {
             "pattern": {
              "fillmode": "overlay",
              "size": 10,
              "solidity": 0.2
             }
            },
            "type": "histogram"
           }
          ],
          "scattergl": [
           {
            "type": "scattergl",
            "marker": {
             "colorbar": {
              "outlinewidth": 0,
              "ticks": ""
             }
            }
           }
          ],
          "scatter3d": [
           {
            "type": "scatter3d",
            "line": {
             "colorbar": {
              "outlinewidth": 0,
              "ticks": ""
             }
            },
            "marker": {
             "colorbar": {
              "outlinewidth": 0,
              "ticks": ""
             }
            }
           }
          ],
          "scattermapbox": [
           {
            "type": "scattermapbox",
            "marker": {
             "colorbar": {
              "outlinewidth": 0,
              "ticks": ""
             }
            }
           }
          ],
          "scatterternary": [
           {
            "type": "scatterternary",
            "marker": {
             "colorbar": {
              "outlinewidth": 0,
              "ticks": ""
             }
            }
           }
          ],
          "scattercarpet": [
           {
            "type": "scattercarpet",
            "marker": {
             "colorbar": {
              "outlinewidth": 0,
              "ticks": ""
             }
            }
           }
          ],
          "carpet": [
           {
            "aaxis": {
             "endlinecolor": "#2a3f5f",
             "gridcolor": "white",
             "linecolor": "white",
             "minorgridcolor": "white",
             "startlinecolor": "#2a3f5f"
            },
            "baxis": {
             "endlinecolor": "#2a3f5f",
             "gridcolor": "white",
             "linecolor": "white",
             "minorgridcolor": "white",
             "startlinecolor": "#2a3f5f"
            },
            "type": "carpet"
           }
          ],
          "table": [
           {
            "cells": {
             "fill": {
              "color": "#EBF0F8"
             },
             "line": {
              "color": "white"
             }
            },
            "header": {
             "fill": {
              "color": "#C8D4E3"
             },
             "line": {
              "color": "white"
             }
            },
            "type": "table"
           }
          ],
          "barpolar": [
           {
            "marker": {
             "line": {
              "color": "#E5ECF6",
              "width": 0.5
             },
             "pattern": {
              "fillmode": "overlay",
              "size": 10,
              "solidity": 0.2
             }
            },
            "type": "barpolar"
           }
          ],
          "pie": [
           {
            "automargin": true,
            "type": "pie"
           }
          ]
         },
         "layout": {
          "autotypenumbers": "strict",
          "colorway": [
           "#636efa",
           "#EF553B",
           "#00cc96",
           "#ab63fa",
           "#FFA15A",
           "#19d3f3",
           "#FF6692",
           "#B6E880",
           "#FF97FF",
           "#FECB52"
          ],
          "font": {
           "color": "#2a3f5f"
          },
          "hovermode": "closest",
          "hoverlabel": {
           "align": "left"
          },
          "paper_bgcolor": "white",
          "plot_bgcolor": "#E5ECF6",
          "polar": {
           "bgcolor": "#E5ECF6",
           "angularaxis": {
            "gridcolor": "white",
            "linecolor": "white",
            "ticks": ""
           },
           "radialaxis": {
            "gridcolor": "white",
            "linecolor": "white",
            "ticks": ""
           }
          },
          "ternary": {
           "bgcolor": "#E5ECF6",
           "aaxis": {
            "gridcolor": "white",
            "linecolor": "white",
            "ticks": ""
           },
           "baxis": {
            "gridcolor": "white",
            "linecolor": "white",
            "ticks": ""
           },
           "caxis": {
            "gridcolor": "white",
            "linecolor": "white",
            "ticks": ""
           }
          },
          "coloraxis": {
           "colorbar": {
            "outlinewidth": 0,
            "ticks": ""
           }
          },
          "colorscale": {
           "sequential": [
            [
             0.0,
             "#0d0887"
            ],
            [
             0.1111111111111111,
             "#46039f"
            ],
            [
             0.2222222222222222,
             "#7201a8"
            ],
            [
             0.3333333333333333,
             "#9c179e"
            ],
            [
             0.4444444444444444,
             "#bd3786"
            ],
            [
             0.5555555555555556,
             "#d8576b"
            ],
            [
             0.6666666666666666,
             "#ed7953"
            ],
            [
             0.7777777777777778,
             "#fb9f3a"
            ],
            [
             0.8888888888888888,
             "#fdca26"
            ],
            [
             1.0,
             "#f0f921"
            ]
           ],
           "sequentialminus": [
            [
             0.0,
             "#0d0887"
            ],
            [
             0.1111111111111111,
             "#46039f"
            ],
            [
             0.2222222222222222,
             "#7201a8"
            ],
            [
             0.3333333333333333,
             "#9c179e"
            ],
            [
             0.4444444444444444,
             "#bd3786"
            ],
            [
             0.5555555555555556,
             "#d8576b"
            ],
            [
             0.6666666666666666,
             "#ed7953"
            ],
            [
             0.7777777777777778,
             "#fb9f3a"
            ],
            [
             0.8888888888888888,
             "#fdca26"
            ],
            [
             1.0,
             "#f0f921"
            ]
           ],
           "diverging": [
            [
             0,
             "#8e0152"
            ],
            [
             0.1,
             "#c51b7d"
            ],
            [
             0.2,
             "#de77ae"
            ],
            [
             0.3,
             "#f1b6da"
            ],
            [
             0.4,
             "#fde0ef"
            ],
            [
             0.5,
             "#f7f7f7"
            ],
            [
             0.6,
             "#e6f5d0"
            ],
            [
             0.7,
             "#b8e186"
            ],
            [
             0.8,
             "#7fbc41"
            ],
            [
             0.9,
             "#4d9221"
            ],
            [
             1,
             "#276419"
            ]
           ]
          },
          "xaxis": {
           "gridcolor": "white",
           "linecolor": "white",
           "ticks": "",
           "title": {
            "standoff": 15
           },
           "zerolinecolor": "white",
           "automargin": true,
           "zerolinewidth": 2
          },
          "yaxis": {
           "gridcolor": "white",
           "linecolor": "white",
           "ticks": "",
           "title": {
            "standoff": 15
           },
           "zerolinecolor": "white",
           "automargin": true,
           "zerolinewidth": 2
          },
          "scene": {
           "xaxis": {
            "backgroundcolor": "#E5ECF6",
            "gridcolor": "white",
            "linecolor": "white",
            "showbackground": true,
            "ticks": "",
            "zerolinecolor": "white",
            "gridwidth": 2
           },
           "yaxis": {
            "backgroundcolor": "#E5ECF6",
            "gridcolor": "white",
            "linecolor": "white",
            "showbackground": true,
            "ticks": "",
            "zerolinecolor": "white",
            "gridwidth": 2
           },
           "zaxis": {
            "backgroundcolor": "#E5ECF6",
            "gridcolor": "white",
            "linecolor": "white",
            "showbackground": true,
            "ticks": "",
            "zerolinecolor": "white",
            "gridwidth": 2
           }
          },
          "shapedefaults": {
           "line": {
            "color": "#2a3f5f"
           }
          },
          "annotationdefaults": {
           "arrowcolor": "#2a3f5f",
           "arrowhead": 0,
           "arrowwidth": 1
          },
          "geo": {
           "bgcolor": "white",
           "landcolor": "#E5ECF6",
           "subunitcolor": "white",
           "showland": true,
           "showlakes": true,
           "lakecolor": "white"
          },
          "title": {
           "x": 0.05
          },
          "mapbox": {
           "style": "light"
          }
         }
        },
        "xaxis": {
         "anchor": "y",
         "domain": [
          0.0,
          1.0
         ],
         "title": {
          "text": "Équipe"
         },
         "categoryorder": "array",
         "categoryarray": [
          "DR Congo",
          "Ivory Coast",
          "Algeria",
          "Ghana",
          "Egypt",
          "Tunisia",
          "Burkina Faso",
          "Senegal",
          "Nigeria",
          "Zambia"
         ],
         "tickangle": -45,
         "tickmode": "array",
         "tickvals": [
          0,
          1,
          2,
          3,
          4,
          5,
          6,
          7,
          8,
          9
         ],
         "ticktext": [
          "DR Congo",
          "Ivory Coast",
          "Algeria",
          "Ghana",
          "Egypt",
          "Tunisia",
          "Burkina Faso",
          "Senegal",
          "Nigeria",
          "Zambia"
         ]
        },
        "yaxis": {
         "anchor": "x",
         "domain": [
          0.0,
          1.0
         ],
         "title": {
          "text": "Nombre total de défaites"
         }
        },
        "legend": {
         "title": {
          "text": "Équipe"
         },
         "tracegroupgap": 0
        },
        "margin": {
         "t": 60
        },
        "barmode": "relative",
        "annotations": [
         {
          "font": {
           "size": 8
          },
          "showarrow": false,
          "text": "29",
          "x": 0,
          "y": 29
         },
         {
          "font": {
           "size": 8
          },
          "showarrow": false,
          "text": "28",
          "x": 1,
          "y": 28
         },
         {
          "font": {
           "size": 8
          },
          "showarrow": false,
          "text": "27",
          "x": 2,
          "y": 27
         },
         {
          "font": {
           "size": 8
          },
          "showarrow": false,
          "text": "27",
          "x": 3,
          "y": 27
         },
         {
          "font": {
           "size": 8
          },
          "showarrow": false,
          "text": "27",
          "x": 4,
          "y": 27
         },
         {
          "font": {
           "size": 8
          },
          "showarrow": false,
          "text": "26",
          "x": 5,
          "y": 26
         },
         {
          "font": {
           "size": 8
          },
          "showarrow": false,
          "text": "23",
          "x": 6,
          "y": 23
         },
         {
          "font": {
           "size": 8
          },
          "showarrow": false,
          "text": "23",
          "x": 7,
          "y": 23
         },
         {
          "font": {
           "size": 8
          },
          "showarrow": false,
          "text": "22",
          "x": 8,
          "y": 22
         },
         {
          "font": {
           "size": 8
          },
          "showarrow": false,
          "text": "21",
          "x": 9,
          "y": 21
         }
        ],
        "title": {
         "text": "Top 10 des équipes avec le plus grand nombre de défaites"
        }
       },
       "config": {
        "plotlyServerURL": "https://plot.ly"
       }
      },
      "text/html": "<div>                            <div id=\"085c6ef6-bb91-46bb-bc50-3dbceb71b01f\" class=\"plotly-graph-div\" style=\"height:525px; width:100%;\"></div>            <script type=\"text/javascript\">                require([\"plotly\"], function(Plotly) {                    window.PLOTLYENV=window.PLOTLYENV || {};                                    if (document.getElementById(\"085c6ef6-bb91-46bb-bc50-3dbceb71b01f\")) {                    Plotly.newPlot(                        \"085c6ef6-bb91-46bb-bc50-3dbceb71b01f\",                        [{\"alignmentgroup\":\"True\",\"hovertemplate\":\"\\u00c9quipe=%{x}<br>Nombre total de d\\u00e9faites=%{y}<extra></extra>\",\"legendgroup\":\"DR Congo\",\"marker\":{\"color\":\"skyblue\",\"pattern\":{\"shape\":\"\"}},\"name\":\"DR Congo\",\"offsetgroup\":\"DR Congo\",\"orientation\":\"v\",\"showlegend\":true,\"textposition\":\"auto\",\"x\":[\"DR Congo\"],\"xaxis\":\"x\",\"y\":[29],\"yaxis\":\"y\",\"type\":\"bar\"},{\"alignmentgroup\":\"True\",\"hovertemplate\":\"\\u00c9quipe=%{x}<br>Nombre total de d\\u00e9faites=%{y}<extra></extra>\",\"legendgroup\":\"Ivory Coast\",\"marker\":{\"color\":\"lightcoral\",\"pattern\":{\"shape\":\"\"}},\"name\":\"Ivory Coast\",\"offsetgroup\":\"Ivory Coast\",\"orientation\":\"v\",\"showlegend\":true,\"textposition\":\"auto\",\"x\":[\"Ivory Coast\"],\"xaxis\":\"x\",\"y\":[28],\"yaxis\":\"y\",\"type\":\"bar\"},{\"alignmentgroup\":\"True\",\"hovertemplate\":\"\\u00c9quipe=%{x}<br>Nombre total de d\\u00e9faites=%{y}<extra></extra>\",\"legendgroup\":\"Algeria\",\"marker\":{\"color\":\"lightgreen\",\"pattern\":{\"shape\":\"\"}},\"name\":\"Algeria\",\"offsetgroup\":\"Algeria\",\"orientation\":\"v\",\"showlegend\":true,\"textposition\":\"auto\",\"x\":[\"Algeria\"],\"xaxis\":\"x\",\"y\":[27],\"yaxis\":\"y\",\"type\":\"bar\"},{\"alignmentgroup\":\"True\",\"hovertemplate\":\"\\u00c9quipe=%{x}<br>Nombre total de d\\u00e9faites=%{y}<extra></extra>\",\"legendgroup\":\"Ghana\",\"marker\":{\"color\":\"gold\",\"pattern\":{\"shape\":\"\"}},\"name\":\"Ghana\",\"offsetgroup\":\"Ghana\",\"orientation\":\"v\",\"showlegend\":true,\"textposition\":\"auto\",\"x\":[\"Ghana\"],\"xaxis\":\"x\",\"y\":[27],\"yaxis\":\"y\",\"type\":\"bar\"},{\"alignmentgroup\":\"True\",\"hovertemplate\":\"\\u00c9quipe=%{x}<br>Nombre total de d\\u00e9faites=%{y}<extra></extra>\",\"legendgroup\":\"Egypt\",\"marker\":{\"color\":\"lightsalmon\",\"pattern\":{\"shape\":\"\"}},\"name\":\"Egypt\",\"offsetgroup\":\"Egypt\",\"orientation\":\"v\",\"showlegend\":true,\"textposition\":\"auto\",\"x\":[\"Egypt\"],\"xaxis\":\"x\",\"y\":[27],\"yaxis\":\"y\",\"type\":\"bar\"},{\"alignmentgroup\":\"True\",\"hovertemplate\":\"\\u00c9quipe=%{x}<br>Nombre total de d\\u00e9faites=%{y}<extra></extra>\",\"legendgroup\":\"Tunisia\",\"marker\":{\"color\":\"lightsteelblue\",\"pattern\":{\"shape\":\"\"}},\"name\":\"Tunisia\",\"offsetgroup\":\"Tunisia\",\"orientation\":\"v\",\"showlegend\":true,\"textposition\":\"auto\",\"x\":[\"Tunisia\"],\"xaxis\":\"x\",\"y\":[26],\"yaxis\":\"y\",\"type\":\"bar\"},{\"alignmentgroup\":\"True\",\"hovertemplate\":\"\\u00c9quipe=%{x}<br>Nombre total de d\\u00e9faites=%{y}<extra></extra>\",\"legendgroup\":\"Burkina Faso\",\"marker\":{\"color\":\"lightpink\",\"pattern\":{\"shape\":\"\"}},\"name\":\"Burkina Faso\",\"offsetgroup\":\"Burkina Faso\",\"orientation\":\"v\",\"showlegend\":true,\"textposition\":\"auto\",\"x\":[\"Burkina Faso\"],\"xaxis\":\"x\",\"y\":[23],\"yaxis\":\"y\",\"type\":\"bar\"},{\"alignmentgroup\":\"True\",\"hovertemplate\":\"\\u00c9quipe=%{x}<br>Nombre total de d\\u00e9faites=%{y}<extra></extra>\",\"legendgroup\":\"Senegal\",\"marker\":{\"color\":\"lightseagreen\",\"pattern\":{\"shape\":\"\"}},\"name\":\"Senegal\",\"offsetgroup\":\"Senegal\",\"orientation\":\"v\",\"showlegend\":true,\"textposition\":\"auto\",\"x\":[\"Senegal\"],\"xaxis\":\"x\",\"y\":[23],\"yaxis\":\"y\",\"type\":\"bar\"},{\"alignmentgroup\":\"True\",\"hovertemplate\":\"\\u00c9quipe=%{x}<br>Nombre total de d\\u00e9faites=%{y}<extra></extra>\",\"legendgroup\":\"Nigeria\",\"marker\":{\"color\":\"lightcyan\",\"pattern\":{\"shape\":\"\"}},\"name\":\"Nigeria\",\"offsetgroup\":\"Nigeria\",\"orientation\":\"v\",\"showlegend\":true,\"textposition\":\"auto\",\"x\":[\"Nigeria\"],\"xaxis\":\"x\",\"y\":[22],\"yaxis\":\"y\",\"type\":\"bar\"},{\"alignmentgroup\":\"True\",\"hovertemplate\":\"\\u00c9quipe=%{x}<br>Nombre total de d\\u00e9faites=%{y}<extra></extra>\",\"legendgroup\":\"Zambia\",\"marker\":{\"color\":\"yellow\",\"pattern\":{\"shape\":\"\"}},\"name\":\"Zambia\",\"offsetgroup\":\"Zambia\",\"orientation\":\"v\",\"showlegend\":true,\"textposition\":\"auto\",\"x\":[\"Zambia\"],\"xaxis\":\"x\",\"y\":[21],\"yaxis\":\"y\",\"type\":\"bar\"}],                        {\"template\":{\"data\":{\"histogram2dcontour\":[{\"type\":\"histogram2dcontour\",\"colorbar\":{\"outlinewidth\":0,\"ticks\":\"\"},\"colorscale\":[[0.0,\"#0d0887\"],[0.1111111111111111,\"#46039f\"],[0.2222222222222222,\"#7201a8\"],[0.3333333333333333,\"#9c179e\"],[0.4444444444444444,\"#bd3786\"],[0.5555555555555556,\"#d8576b\"],[0.6666666666666666,\"#ed7953\"],[0.7777777777777778,\"#fb9f3a\"],[0.8888888888888888,\"#fdca26\"],[1.0,\"#f0f921\"]]}],\"choropleth\":[{\"type\":\"choropleth\",\"colorbar\":{\"outlinewidth\":0,\"ticks\":\"\"}}],\"histogram2d\":[{\"type\":\"histogram2d\",\"colorbar\":{\"outlinewidth\":0,\"ticks\":\"\"},\"colorscale\":[[0.0,\"#0d0887\"],[0.1111111111111111,\"#46039f\"],[0.2222222222222222,\"#7201a8\"],[0.3333333333333333,\"#9c179e\"],[0.4444444444444444,\"#bd3786\"],[0.5555555555555556,\"#d8576b\"],[0.6666666666666666,\"#ed7953\"],[0.7777777777777778,\"#fb9f3a\"],[0.8888888888888888,\"#fdca26\"],[1.0,\"#f0f921\"]]}],\"heatmap\":[{\"type\":\"heatmap\",\"colorbar\":{\"outlinewidth\":0,\"ticks\":\"\"},\"colorscale\":[[0.0,\"#0d0887\"],[0.1111111111111111,\"#46039f\"],[0.2222222222222222,\"#7201a8\"],[0.3333333333333333,\"#9c179e\"],[0.4444444444444444,\"#bd3786\"],[0.5555555555555556,\"#d8576b\"],[0.6666666666666666,\"#ed7953\"],[0.7777777777777778,\"#fb9f3a\"],[0.8888888888888888,\"#fdca26\"],[1.0,\"#f0f921\"]]}],\"heatmapgl\":[{\"type\":\"heatmapgl\",\"colorbar\":{\"outlinewidth\":0,\"ticks\":\"\"},\"colorscale\":[[0.0,\"#0d0887\"],[0.1111111111111111,\"#46039f\"],[0.2222222222222222,\"#7201a8\"],[0.3333333333333333,\"#9c179e\"],[0.4444444444444444,\"#bd3786\"],[0.5555555555555556,\"#d8576b\"],[0.6666666666666666,\"#ed7953\"],[0.7777777777777778,\"#fb9f3a\"],[0.8888888888888888,\"#fdca26\"],[1.0,\"#f0f921\"]]}],\"contourcarpet\":[{\"type\":\"contourcarpet\",\"colorbar\":{\"outlinewidth\":0,\"ticks\":\"\"}}],\"contour\":[{\"type\":\"contour\",\"colorbar\":{\"outlinewidth\":0,\"ticks\":\"\"},\"colorscale\":[[0.0,\"#0d0887\"],[0.1111111111111111,\"#46039f\"],[0.2222222222222222,\"#7201a8\"],[0.3333333333333333,\"#9c179e\"],[0.4444444444444444,\"#bd3786\"],[0.5555555555555556,\"#d8576b\"],[0.6666666666666666,\"#ed7953\"],[0.7777777777777778,\"#fb9f3a\"],[0.8888888888888888,\"#fdca26\"],[1.0,\"#f0f921\"]]}],\"surface\":[{\"type\":\"surface\",\"colorbar\":{\"outlinewidth\":0,\"ticks\":\"\"},\"colorscale\":[[0.0,\"#0d0887\"],[0.1111111111111111,\"#46039f\"],[0.2222222222222222,\"#7201a8\"],[0.3333333333333333,\"#9c179e\"],[0.4444444444444444,\"#bd3786\"],[0.5555555555555556,\"#d8576b\"],[0.6666666666666666,\"#ed7953\"],[0.7777777777777778,\"#fb9f3a\"],[0.8888888888888888,\"#fdca26\"],[1.0,\"#f0f921\"]]}],\"mesh3d\":[{\"type\":\"mesh3d\",\"colorbar\":{\"outlinewidth\":0,\"ticks\":\"\"}}],\"scatter\":[{\"fillpattern\":{\"fillmode\":\"overlay\",\"size\":10,\"solidity\":0.2},\"type\":\"scatter\"}],\"parcoords\":[{\"type\":\"parcoords\",\"line\":{\"colorbar\":{\"outlinewidth\":0,\"ticks\":\"\"}}}],\"scatterpolargl\":[{\"type\":\"scatterpolargl\",\"marker\":{\"colorbar\":{\"outlinewidth\":0,\"ticks\":\"\"}}}],\"bar\":[{\"error_x\":{\"color\":\"#2a3f5f\"},\"error_y\":{\"color\":\"#2a3f5f\"},\"marker\":{\"line\":{\"color\":\"#E5ECF6\",\"width\":0.5},\"pattern\":{\"fillmode\":\"overlay\",\"size\":10,\"solidity\":0.2}},\"type\":\"bar\"}],\"scattergeo\":[{\"type\":\"scattergeo\",\"marker\":{\"colorbar\":{\"outlinewidth\":0,\"ticks\":\"\"}}}],\"scatterpolar\":[{\"type\":\"scatterpolar\",\"marker\":{\"colorbar\":{\"outlinewidth\":0,\"ticks\":\"\"}}}],\"histogram\":[{\"marker\":{\"pattern\":{\"fillmode\":\"overlay\",\"size\":10,\"solidity\":0.2}},\"type\":\"histogram\"}],\"scattergl\":[{\"type\":\"scattergl\",\"marker\":{\"colorbar\":{\"outlinewidth\":0,\"ticks\":\"\"}}}],\"scatter3d\":[{\"type\":\"scatter3d\",\"line\":{\"colorbar\":{\"outlinewidth\":0,\"ticks\":\"\"}},\"marker\":{\"colorbar\":{\"outlinewidth\":0,\"ticks\":\"\"}}}],\"scattermapbox\":[{\"type\":\"scattermapbox\",\"marker\":{\"colorbar\":{\"outlinewidth\":0,\"ticks\":\"\"}}}],\"scatterternary\":[{\"type\":\"scatterternary\",\"marker\":{\"colorbar\":{\"outlinewidth\":0,\"ticks\":\"\"}}}],\"scattercarpet\":[{\"type\":\"scattercarpet\",\"marker\":{\"colorbar\":{\"outlinewidth\":0,\"ticks\":\"\"}}}],\"carpet\":[{\"aaxis\":{\"endlinecolor\":\"#2a3f5f\",\"gridcolor\":\"white\",\"linecolor\":\"white\",\"minorgridcolor\":\"white\",\"startlinecolor\":\"#2a3f5f\"},\"baxis\":{\"endlinecolor\":\"#2a3f5f\",\"gridcolor\":\"white\",\"linecolor\":\"white\",\"minorgridcolor\":\"white\",\"startlinecolor\":\"#2a3f5f\"},\"type\":\"carpet\"}],\"table\":[{\"cells\":{\"fill\":{\"color\":\"#EBF0F8\"},\"line\":{\"color\":\"white\"}},\"header\":{\"fill\":{\"color\":\"#C8D4E3\"},\"line\":{\"color\":\"white\"}},\"type\":\"table\"}],\"barpolar\":[{\"marker\":{\"line\":{\"color\":\"#E5ECF6\",\"width\":0.5},\"pattern\":{\"fillmode\":\"overlay\",\"size\":10,\"solidity\":0.2}},\"type\":\"barpolar\"}],\"pie\":[{\"automargin\":true,\"type\":\"pie\"}]},\"layout\":{\"autotypenumbers\":\"strict\",\"colorway\":[\"#636efa\",\"#EF553B\",\"#00cc96\",\"#ab63fa\",\"#FFA15A\",\"#19d3f3\",\"#FF6692\",\"#B6E880\",\"#FF97FF\",\"#FECB52\"],\"font\":{\"color\":\"#2a3f5f\"},\"hovermode\":\"closest\",\"hoverlabel\":{\"align\":\"left\"},\"paper_bgcolor\":\"white\",\"plot_bgcolor\":\"#E5ECF6\",\"polar\":{\"bgcolor\":\"#E5ECF6\",\"angularaxis\":{\"gridcolor\":\"white\",\"linecolor\":\"white\",\"ticks\":\"\"},\"radialaxis\":{\"gridcolor\":\"white\",\"linecolor\":\"white\",\"ticks\":\"\"}},\"ternary\":{\"bgcolor\":\"#E5ECF6\",\"aaxis\":{\"gridcolor\":\"white\",\"linecolor\":\"white\",\"ticks\":\"\"},\"baxis\":{\"gridcolor\":\"white\",\"linecolor\":\"white\",\"ticks\":\"\"},\"caxis\":{\"gridcolor\":\"white\",\"linecolor\":\"white\",\"ticks\":\"\"}},\"coloraxis\":{\"colorbar\":{\"outlinewidth\":0,\"ticks\":\"\"}},\"colorscale\":{\"sequential\":[[0.0,\"#0d0887\"],[0.1111111111111111,\"#46039f\"],[0.2222222222222222,\"#7201a8\"],[0.3333333333333333,\"#9c179e\"],[0.4444444444444444,\"#bd3786\"],[0.5555555555555556,\"#d8576b\"],[0.6666666666666666,\"#ed7953\"],[0.7777777777777778,\"#fb9f3a\"],[0.8888888888888888,\"#fdca26\"],[1.0,\"#f0f921\"]],\"sequentialminus\":[[0.0,\"#0d0887\"],[0.1111111111111111,\"#46039f\"],[0.2222222222222222,\"#7201a8\"],[0.3333333333333333,\"#9c179e\"],[0.4444444444444444,\"#bd3786\"],[0.5555555555555556,\"#d8576b\"],[0.6666666666666666,\"#ed7953\"],[0.7777777777777778,\"#fb9f3a\"],[0.8888888888888888,\"#fdca26\"],[1.0,\"#f0f921\"]],\"diverging\":[[0,\"#8e0152\"],[0.1,\"#c51b7d\"],[0.2,\"#de77ae\"],[0.3,\"#f1b6da\"],[0.4,\"#fde0ef\"],[0.5,\"#f7f7f7\"],[0.6,\"#e6f5d0\"],[0.7,\"#b8e186\"],[0.8,\"#7fbc41\"],[0.9,\"#4d9221\"],[1,\"#276419\"]]},\"xaxis\":{\"gridcolor\":\"white\",\"linecolor\":\"white\",\"ticks\":\"\",\"title\":{\"standoff\":15},\"zerolinecolor\":\"white\",\"automargin\":true,\"zerolinewidth\":2},\"yaxis\":{\"gridcolor\":\"white\",\"linecolor\":\"white\",\"ticks\":\"\",\"title\":{\"standoff\":15},\"zerolinecolor\":\"white\",\"automargin\":true,\"zerolinewidth\":2},\"scene\":{\"xaxis\":{\"backgroundcolor\":\"#E5ECF6\",\"gridcolor\":\"white\",\"linecolor\":\"white\",\"showbackground\":true,\"ticks\":\"\",\"zerolinecolor\":\"white\",\"gridwidth\":2},\"yaxis\":{\"backgroundcolor\":\"#E5ECF6\",\"gridcolor\":\"white\",\"linecolor\":\"white\",\"showbackground\":true,\"ticks\":\"\",\"zerolinecolor\":\"white\",\"gridwidth\":2},\"zaxis\":{\"backgroundcolor\":\"#E5ECF6\",\"gridcolor\":\"white\",\"linecolor\":\"white\",\"showbackground\":true,\"ticks\":\"\",\"zerolinecolor\":\"white\",\"gridwidth\":2}},\"shapedefaults\":{\"line\":{\"color\":\"#2a3f5f\"}},\"annotationdefaults\":{\"arrowcolor\":\"#2a3f5f\",\"arrowhead\":0,\"arrowwidth\":1},\"geo\":{\"bgcolor\":\"white\",\"landcolor\":\"#E5ECF6\",\"subunitcolor\":\"white\",\"showland\":true,\"showlakes\":true,\"lakecolor\":\"white\"},\"title\":{\"x\":0.05},\"mapbox\":{\"style\":\"light\"}}},\"xaxis\":{\"anchor\":\"y\",\"domain\":[0.0,1.0],\"title\":{\"text\":\"\\u00c9quipe\"},\"categoryorder\":\"array\",\"categoryarray\":[\"DR Congo\",\"Ivory Coast\",\"Algeria\",\"Ghana\",\"Egypt\",\"Tunisia\",\"Burkina Faso\",\"Senegal\",\"Nigeria\",\"Zambia\"],\"tickangle\":-45,\"tickmode\":\"array\",\"tickvals\":[0,1,2,3,4,5,6,7,8,9],\"ticktext\":[\"DR Congo\",\"Ivory Coast\",\"Algeria\",\"Ghana\",\"Egypt\",\"Tunisia\",\"Burkina Faso\",\"Senegal\",\"Nigeria\",\"Zambia\"]},\"yaxis\":{\"anchor\":\"x\",\"domain\":[0.0,1.0],\"title\":{\"text\":\"Nombre total de d\\u00e9faites\"}},\"legend\":{\"title\":{\"text\":\"\\u00c9quipe\"},\"tracegroupgap\":0},\"margin\":{\"t\":60},\"barmode\":\"relative\",\"annotations\":[{\"font\":{\"size\":8},\"showarrow\":false,\"text\":\"29\",\"x\":0,\"y\":29},{\"font\":{\"size\":8},\"showarrow\":false,\"text\":\"28\",\"x\":1,\"y\":28},{\"font\":{\"size\":8},\"showarrow\":false,\"text\":\"27\",\"x\":2,\"y\":27},{\"font\":{\"size\":8},\"showarrow\":false,\"text\":\"27\",\"x\":3,\"y\":27},{\"font\":{\"size\":8},\"showarrow\":false,\"text\":\"27\",\"x\":4,\"y\":27},{\"font\":{\"size\":8},\"showarrow\":false,\"text\":\"26\",\"x\":5,\"y\":26},{\"font\":{\"size\":8},\"showarrow\":false,\"text\":\"23\",\"x\":6,\"y\":23},{\"font\":{\"size\":8},\"showarrow\":false,\"text\":\"23\",\"x\":7,\"y\":23},{\"font\":{\"size\":8},\"showarrow\":false,\"text\":\"22\",\"x\":8,\"y\":22},{\"font\":{\"size\":8},\"showarrow\":false,\"text\":\"21\",\"x\":9,\"y\":21}],\"title\":{\"text\":\"Top 10 des \\u00e9quipes avec le plus grand nombre de d\\u00e9faites\"}},                        {\"responsive\": true}                    ).then(function(){\n                            \nvar gd = document.getElementById('085c6ef6-bb91-46bb-bc50-3dbceb71b01f');\nvar x = new MutationObserver(function (mutations, observer) {{\n        var display = window.getComputedStyle(gd).display;\n        if (!display || display === 'none') {{\n            console.log([gd, 'removed!']);\n            Plotly.purge(gd);\n            observer.disconnect();\n        }}\n}});\n\n// Listen for the removal of the full notebook cells\nvar notebookContainer = gd.closest('#notebook-container');\nif (notebookContainer) {{\n    x.observe(notebookContainer, {childList: true});\n}}\n\n// Listen for the clearing of the current output cell\nvar outputEl = gd.closest('.output');\nif (outputEl) {{\n    x.observe(outputEl, {childList: true});\n}}\n\n                        })                };                });            </script>        </div>"
     },
     "metadata": {},
     "output_type": "display_data"
    }
   ],
   "source": [
    "# Trier les équipes en fonction du nombre total de victoires\n",
    "total_loss = total_loss.sort_values(ascending=False)\n",
    "\n",
    "# Sélectionner les 10 premiers résultats\n",
    "top_10_loss = total_loss.head(10)\n",
    "\n",
    "# Définir des couleurs personnalisées pour chaque barre\n",
    "colors = ['skyblue', 'lightcoral', 'lightgreen', 'gold', 'lightsalmon',\n",
    "          'lightsteelblue', 'lightpink', 'lightseagreen', 'lightcyan', 'yellow']\n",
    "\n",
    "# Tracer le graphique avec Plotly\n",
    "fig = px.bar(top_10_loss, x=top_10_loss.index, y=top_10_loss.values, color=top_10_loss.index,\n",
    "             color_discrete_sequence=colors, labels={'index': 'Équipe', 'y': 'Nombre total de défaites'})\n",
    "\n",
    "# Ajouter le texte au-dessus de chaque barre\n",
    "for i, value in enumerate(top_10_loss.values):\n",
    "    fig.add_annotation(x=i, y=value, text=str(value), showarrow=False, font=dict(size=8))\n",
    "\n",
    "# Personnaliser la disposition\n",
    "fig.update_layout(\n",
    "    title='Top 10 des équipes avec le plus grand nombre de défaites',\n",
    "    xaxis_title='Équipe',\n",
    "    yaxis_title='Nombre total de défaites',\n",
    "    xaxis=dict(tickangle=-45, tickmode='array', tickvals=list(range(10)), ticktext=top_10_loss.index)\n",
    ")\n",
    "\n",
    "# Afficher le graphique\n",
    "fig.show()"
   ],
   "metadata": {
    "collapsed": false,
    "ExecuteTime": {
     "end_time": "2023-12-29T03:27:22.285907100Z",
     "start_time": "2023-12-29T03:27:21.867785900Z"
    }
   },
   "id": "68224f24ab3a1ae",
   "execution_count": 107
  },
  {
   "cell_type": "markdown",
   "source": [
    "**Nous allons refaire le même travail en se basant sur les pourcentages**"
   ],
   "metadata": {
    "collapsed": false
   },
   "id": "7a33fa8fbc7a6811"
  },
  {
   "cell_type": "code",
   "outputs": [],
   "source": [
    "# Nombre total de matches par équipe\n",
    "total_games = pd.concat([df['home_team'].value_counts(),\n",
    "                         df['away_team'].value_counts()], axis=1, sort=False).sum(axis=1)"
   ],
   "metadata": {
    "collapsed": false,
    "ExecuteTime": {
     "end_time": "2023-12-29T03:27:22.338463200Z",
     "start_time": "2023-12-29T03:27:22.094115Z"
    }
   },
   "id": "9637189152b1c55b",
   "execution_count": 108
  },
  {
   "cell_type": "code",
   "outputs": [
    {
     "data": {
      "application/vnd.plotly.v1+json": {
       "data": [
        {
         "alignmentgroup": "True",
         "hovertemplate": "Équipe=%{x}<br>Pourcentage de victoires=%{text}<extra></extra>",
         "legendgroup": "Gambia",
         "marker": {
          "color": "skyblue",
          "pattern": {
           "shape": ""
          },
          "line": {
           "color": "black",
           "width": 1.5
          }
         },
         "name": "Gambia",
         "offsetgroup": "Gambia",
         "orientation": "v",
         "showlegend": true,
         "text": [
          60.0
         ],
         "textposition": "outside",
         "x": [
          "Gambia"
         ],
         "xaxis": "x",
         "y": [
          60.0
         ],
         "yaxis": "y",
         "type": "bar"
        },
        {
         "alignmentgroup": "True",
         "hovertemplate": "Équipe=%{x}<br>Pourcentage de victoires=%{text}<extra></extra>",
         "legendgroup": "Egypt",
         "marker": {
          "color": "lightcoral",
          "pattern": {
           "shape": ""
          },
          "line": {
           "color": "black",
           "width": 1.5
          }
         },
         "name": "Egypt",
         "offsetgroup": "Egypt",
         "orientation": "v",
         "showlegend": true,
         "text": [
          56.07
         ],
         "textposition": "outside",
         "x": [
          "Egypt"
         ],
         "xaxis": "x",
         "y": [
          56.07
         ],
         "yaxis": "y",
         "type": "bar"
        },
        {
         "alignmentgroup": "True",
         "hovertemplate": "Équipe=%{x}<br>Pourcentage de victoires=%{text}<extra></extra>",
         "legendgroup": "Nigeria",
         "marker": {
          "color": "lightgreen",
          "pattern": {
           "shape": ""
          },
          "line": {
           "color": "black",
           "width": 1.5
          }
         },
         "name": "Nigeria",
         "offsetgroup": "Nigeria",
         "orientation": "v",
         "showlegend": true,
         "text": [
          55.21
         ],
         "textposition": "outside",
         "x": [
          "Nigeria"
         ],
         "xaxis": "x",
         "y": [
          55.21
         ],
         "yaxis": "y",
         "type": "bar"
        },
        {
         "alignmentgroup": "True",
         "hovertemplate": "Équipe=%{x}<br>Pourcentage de victoires=%{text}<extra></extra>",
         "legendgroup": "Ghana",
         "marker": {
          "color": "gold",
          "pattern": {
           "shape": ""
          },
          "line": {
           "color": "black",
           "width": 1.5
          }
         },
         "name": "Ghana",
         "offsetgroup": "Ghana",
         "orientation": "v",
         "showlegend": true,
         "text": [
          52.94
         ],
         "textposition": "outside",
         "x": [
          "Ghana"
         ],
         "xaxis": "x",
         "y": [
          52.94
         ],
         "yaxis": "y",
         "type": "bar"
        },
        {
         "alignmentgroup": "True",
         "hovertemplate": "Équipe=%{x}<br>Pourcentage de victoires=%{text}<extra></extra>",
         "legendgroup": "Cameroon",
         "marker": {
          "color": "lightsalmon",
          "pattern": {
           "shape": ""
          },
          "line": {
           "color": "black",
           "width": 1.5
          }
         },
         "name": "Cameroon",
         "offsetgroup": "Cameroon",
         "orientation": "v",
         "showlegend": true,
         "text": [
          49.45
         ],
         "textposition": "outside",
         "x": [
          "Cameroon"
         ],
         "xaxis": "x",
         "y": [
          49.45
         ],
         "yaxis": "y",
         "type": "bar"
        },
        {
         "alignmentgroup": "True",
         "hovertemplate": "Équipe=%{x}<br>Pourcentage de victoires=%{text}<extra></extra>",
         "legendgroup": "Ivory Coast",
         "marker": {
          "color": "lightsteelblue",
          "pattern": {
           "shape": ""
          },
          "line": {
           "color": "black",
           "width": 1.5
          }
         },
         "name": "Ivory Coast",
         "offsetgroup": "Ivory Coast",
         "orientation": "v",
         "showlegend": true,
         "text": [
          44.44
         ],
         "textposition": "outside",
         "x": [
          "Ivory Coast"
         ],
         "xaxis": "x",
         "y": [
          44.44
         ],
         "yaxis": "y",
         "type": "bar"
        },
        {
         "alignmentgroup": "True",
         "hovertemplate": "Équipe=%{x}<br>Pourcentage de victoires=%{text}<extra></extra>",
         "legendgroup": "Senegal",
         "marker": {
          "color": "lightpink",
          "pattern": {
           "shape": ""
          },
          "line": {
           "color": "black",
           "width": 1.5
          }
         },
         "name": "Senegal",
         "offsetgroup": "Senegal",
         "orientation": "v",
         "showlegend": true,
         "text": [
          40.3
         ],
         "textposition": "outside",
         "x": [
          "Senegal"
         ],
         "xaxis": "x",
         "y": [
          40.3
         ],
         "yaxis": "y",
         "type": "bar"
        },
        {
         "alignmentgroup": "True",
         "hovertemplate": "Équipe=%{x}<br>Pourcentage de victoires=%{text}<extra></extra>",
         "legendgroup": "Equatorial Guinea",
         "marker": {
          "color": "lightseagreen",
          "pattern": {
           "shape": ""
          },
          "line": {
           "color": "black",
           "width": 1.5
          }
         },
         "name": "Equatorial Guinea",
         "offsetgroup": "Equatorial Guinea",
         "orientation": "v",
         "showlegend": true,
         "text": [
          40.0
         ],
         "textposition": "outside",
         "x": [
          "Equatorial Guinea"
         ],
         "xaxis": "x",
         "y": [
          40.0
         ],
         "yaxis": "y",
         "type": "bar"
        },
        {
         "alignmentgroup": "True",
         "hovertemplate": "Équipe=%{x}<br>Pourcentage de victoires=%{text}<extra></extra>",
         "legendgroup": "Madagascar",
         "marker": {
          "color": "lightcyan",
          "pattern": {
           "shape": ""
          },
          "line": {
           "color": "black",
           "width": 1.5
          }
         },
         "name": "Madagascar",
         "offsetgroup": "Madagascar",
         "orientation": "v",
         "showlegend": true,
         "text": [
          40.0
         ],
         "textposition": "outside",
         "x": [
          "Madagascar"
         ],
         "xaxis": "x",
         "y": [
          40.0
         ],
         "yaxis": "y",
         "type": "bar"
        },
        {
         "alignmentgroup": "True",
         "hovertemplate": "Équipe=%{x}<br>Pourcentage de victoires=%{text}<extra></extra>",
         "legendgroup": "Zambia",
         "marker": {
          "color": "yellow",
          "pattern": {
           "shape": ""
          },
          "line": {
           "color": "black",
           "width": 1.5
          }
         },
         "name": "Zambia",
         "offsetgroup": "Zambia",
         "orientation": "v",
         "showlegend": true,
         "text": [
          38.81
         ],
         "textposition": "outside",
         "x": [
          "Zambia"
         ],
         "xaxis": "x",
         "y": [
          38.81
         ],
         "yaxis": "y",
         "type": "bar"
        }
       ],
       "layout": {
        "template": {
         "data": {
          "histogram2dcontour": [
           {
            "type": "histogram2dcontour",
            "colorbar": {
             "outlinewidth": 0,
             "ticks": ""
            },
            "colorscale": [
             [
              0.0,
              "#0d0887"
             ],
             [
              0.1111111111111111,
              "#46039f"
             ],
             [
              0.2222222222222222,
              "#7201a8"
             ],
             [
              0.3333333333333333,
              "#9c179e"
             ],
             [
              0.4444444444444444,
              "#bd3786"
             ],
             [
              0.5555555555555556,
              "#d8576b"
             ],
             [
              0.6666666666666666,
              "#ed7953"
             ],
             [
              0.7777777777777778,
              "#fb9f3a"
             ],
             [
              0.8888888888888888,
              "#fdca26"
             ],
             [
              1.0,
              "#f0f921"
             ]
            ]
           }
          ],
          "choropleth": [
           {
            "type": "choropleth",
            "colorbar": {
             "outlinewidth": 0,
             "ticks": ""
            }
           }
          ],
          "histogram2d": [
           {
            "type": "histogram2d",
            "colorbar": {
             "outlinewidth": 0,
             "ticks": ""
            },
            "colorscale": [
             [
              0.0,
              "#0d0887"
             ],
             [
              0.1111111111111111,
              "#46039f"
             ],
             [
              0.2222222222222222,
              "#7201a8"
             ],
             [
              0.3333333333333333,
              "#9c179e"
             ],
             [
              0.4444444444444444,
              "#bd3786"
             ],
             [
              0.5555555555555556,
              "#d8576b"
             ],
             [
              0.6666666666666666,
              "#ed7953"
             ],
             [
              0.7777777777777778,
              "#fb9f3a"
             ],
             [
              0.8888888888888888,
              "#fdca26"
             ],
             [
              1.0,
              "#f0f921"
             ]
            ]
           }
          ],
          "heatmap": [
           {
            "type": "heatmap",
            "colorbar": {
             "outlinewidth": 0,
             "ticks": ""
            },
            "colorscale": [
             [
              0.0,
              "#0d0887"
             ],
             [
              0.1111111111111111,
              "#46039f"
             ],
             [
              0.2222222222222222,
              "#7201a8"
             ],
             [
              0.3333333333333333,
              "#9c179e"
             ],
             [
              0.4444444444444444,
              "#bd3786"
             ],
             [
              0.5555555555555556,
              "#d8576b"
             ],
             [
              0.6666666666666666,
              "#ed7953"
             ],
             [
              0.7777777777777778,
              "#fb9f3a"
             ],
             [
              0.8888888888888888,
              "#fdca26"
             ],
             [
              1.0,
              "#f0f921"
             ]
            ]
           }
          ],
          "heatmapgl": [
           {
            "type": "heatmapgl",
            "colorbar": {
             "outlinewidth": 0,
             "ticks": ""
            },
            "colorscale": [
             [
              0.0,
              "#0d0887"
             ],
             [
              0.1111111111111111,
              "#46039f"
             ],
             [
              0.2222222222222222,
              "#7201a8"
             ],
             [
              0.3333333333333333,
              "#9c179e"
             ],
             [
              0.4444444444444444,
              "#bd3786"
             ],
             [
              0.5555555555555556,
              "#d8576b"
             ],
             [
              0.6666666666666666,
              "#ed7953"
             ],
             [
              0.7777777777777778,
              "#fb9f3a"
             ],
             [
              0.8888888888888888,
              "#fdca26"
             ],
             [
              1.0,
              "#f0f921"
             ]
            ]
           }
          ],
          "contourcarpet": [
           {
            "type": "contourcarpet",
            "colorbar": {
             "outlinewidth": 0,
             "ticks": ""
            }
           }
          ],
          "contour": [
           {
            "type": "contour",
            "colorbar": {
             "outlinewidth": 0,
             "ticks": ""
            },
            "colorscale": [
             [
              0.0,
              "#0d0887"
             ],
             [
              0.1111111111111111,
              "#46039f"
             ],
             [
              0.2222222222222222,
              "#7201a8"
             ],
             [
              0.3333333333333333,
              "#9c179e"
             ],
             [
              0.4444444444444444,
              "#bd3786"
             ],
             [
              0.5555555555555556,
              "#d8576b"
             ],
             [
              0.6666666666666666,
              "#ed7953"
             ],
             [
              0.7777777777777778,
              "#fb9f3a"
             ],
             [
              0.8888888888888888,
              "#fdca26"
             ],
             [
              1.0,
              "#f0f921"
             ]
            ]
           }
          ],
          "surface": [
           {
            "type": "surface",
            "colorbar": {
             "outlinewidth": 0,
             "ticks": ""
            },
            "colorscale": [
             [
              0.0,
              "#0d0887"
             ],
             [
              0.1111111111111111,
              "#46039f"
             ],
             [
              0.2222222222222222,
              "#7201a8"
             ],
             [
              0.3333333333333333,
              "#9c179e"
             ],
             [
              0.4444444444444444,
              "#bd3786"
             ],
             [
              0.5555555555555556,
              "#d8576b"
             ],
             [
              0.6666666666666666,
              "#ed7953"
             ],
             [
              0.7777777777777778,
              "#fb9f3a"
             ],
             [
              0.8888888888888888,
              "#fdca26"
             ],
             [
              1.0,
              "#f0f921"
             ]
            ]
           }
          ],
          "mesh3d": [
           {
            "type": "mesh3d",
            "colorbar": {
             "outlinewidth": 0,
             "ticks": ""
            }
           }
          ],
          "scatter": [
           {
            "fillpattern": {
             "fillmode": "overlay",
             "size": 10,
             "solidity": 0.2
            },
            "type": "scatter"
           }
          ],
          "parcoords": [
           {
            "type": "parcoords",
            "line": {
             "colorbar": {
              "outlinewidth": 0,
              "ticks": ""
             }
            }
           }
          ],
          "scatterpolargl": [
           {
            "type": "scatterpolargl",
            "marker": {
             "colorbar": {
              "outlinewidth": 0,
              "ticks": ""
             }
            }
           }
          ],
          "bar": [
           {
            "error_x": {
             "color": "#2a3f5f"
            },
            "error_y": {
             "color": "#2a3f5f"
            },
            "marker": {
             "line": {
              "color": "#E5ECF6",
              "width": 0.5
             },
             "pattern": {
              "fillmode": "overlay",
              "size": 10,
              "solidity": 0.2
             }
            },
            "type": "bar"
           }
          ],
          "scattergeo": [
           {
            "type": "scattergeo",
            "marker": {
             "colorbar": {
              "outlinewidth": 0,
              "ticks": ""
             }
            }
           }
          ],
          "scatterpolar": [
           {
            "type": "scatterpolar",
            "marker": {
             "colorbar": {
              "outlinewidth": 0,
              "ticks": ""
             }
            }
           }
          ],
          "histogram": [
           {
            "marker": {
             "pattern": {
              "fillmode": "overlay",
              "size": 10,
              "solidity": 0.2
             }
            },
            "type": "histogram"
           }
          ],
          "scattergl": [
           {
            "type": "scattergl",
            "marker": {
             "colorbar": {
              "outlinewidth": 0,
              "ticks": ""
             }
            }
           }
          ],
          "scatter3d": [
           {
            "type": "scatter3d",
            "line": {
             "colorbar": {
              "outlinewidth": 0,
              "ticks": ""
             }
            },
            "marker": {
             "colorbar": {
              "outlinewidth": 0,
              "ticks": ""
             }
            }
           }
          ],
          "scattermapbox": [
           {
            "type": "scattermapbox",
            "marker": {
             "colorbar": {
              "outlinewidth": 0,
              "ticks": ""
             }
            }
           }
          ],
          "scatterternary": [
           {
            "type": "scatterternary",
            "marker": {
             "colorbar": {
              "outlinewidth": 0,
              "ticks": ""
             }
            }
           }
          ],
          "scattercarpet": [
           {
            "type": "scattercarpet",
            "marker": {
             "colorbar": {
              "outlinewidth": 0,
              "ticks": ""
             }
            }
           }
          ],
          "carpet": [
           {
            "aaxis": {
             "endlinecolor": "#2a3f5f",
             "gridcolor": "white",
             "linecolor": "white",
             "minorgridcolor": "white",
             "startlinecolor": "#2a3f5f"
            },
            "baxis": {
             "endlinecolor": "#2a3f5f",
             "gridcolor": "white",
             "linecolor": "white",
             "minorgridcolor": "white",
             "startlinecolor": "#2a3f5f"
            },
            "type": "carpet"
           }
          ],
          "table": [
           {
            "cells": {
             "fill": {
              "color": "#EBF0F8"
             },
             "line": {
              "color": "white"
             }
            },
            "header": {
             "fill": {
              "color": "#C8D4E3"
             },
             "line": {
              "color": "white"
             }
            },
            "type": "table"
           }
          ],
          "barpolar": [
           {
            "marker": {
             "line": {
              "color": "#E5ECF6",
              "width": 0.5
             },
             "pattern": {
              "fillmode": "overlay",
              "size": 10,
              "solidity": 0.2
             }
            },
            "type": "barpolar"
           }
          ],
          "pie": [
           {
            "automargin": true,
            "type": "pie"
           }
          ]
         },
         "layout": {
          "autotypenumbers": "strict",
          "colorway": [
           "#636efa",
           "#EF553B",
           "#00cc96",
           "#ab63fa",
           "#FFA15A",
           "#19d3f3",
           "#FF6692",
           "#B6E880",
           "#FF97FF",
           "#FECB52"
          ],
          "font": {
           "color": "#2a3f5f"
          },
          "hovermode": "closest",
          "hoverlabel": {
           "align": "left"
          },
          "paper_bgcolor": "white",
          "plot_bgcolor": "#E5ECF6",
          "polar": {
           "bgcolor": "#E5ECF6",
           "angularaxis": {
            "gridcolor": "white",
            "linecolor": "white",
            "ticks": ""
           },
           "radialaxis": {
            "gridcolor": "white",
            "linecolor": "white",
            "ticks": ""
           }
          },
          "ternary": {
           "bgcolor": "#E5ECF6",
           "aaxis": {
            "gridcolor": "white",
            "linecolor": "white",
            "ticks": ""
           },
           "baxis": {
            "gridcolor": "white",
            "linecolor": "white",
            "ticks": ""
           },
           "caxis": {
            "gridcolor": "white",
            "linecolor": "white",
            "ticks": ""
           }
          },
          "coloraxis": {
           "colorbar": {
            "outlinewidth": 0,
            "ticks": ""
           }
          },
          "colorscale": {
           "sequential": [
            [
             0.0,
             "#0d0887"
            ],
            [
             0.1111111111111111,
             "#46039f"
            ],
            [
             0.2222222222222222,
             "#7201a8"
            ],
            [
             0.3333333333333333,
             "#9c179e"
            ],
            [
             0.4444444444444444,
             "#bd3786"
            ],
            [
             0.5555555555555556,
             "#d8576b"
            ],
            [
             0.6666666666666666,
             "#ed7953"
            ],
            [
             0.7777777777777778,
             "#fb9f3a"
            ],
            [
             0.8888888888888888,
             "#fdca26"
            ],
            [
             1.0,
             "#f0f921"
            ]
           ],
           "sequentialminus": [
            [
             0.0,
             "#0d0887"
            ],
            [
             0.1111111111111111,
             "#46039f"
            ],
            [
             0.2222222222222222,
             "#7201a8"
            ],
            [
             0.3333333333333333,
             "#9c179e"
            ],
            [
             0.4444444444444444,
             "#bd3786"
            ],
            [
             0.5555555555555556,
             "#d8576b"
            ],
            [
             0.6666666666666666,
             "#ed7953"
            ],
            [
             0.7777777777777778,
             "#fb9f3a"
            ],
            [
             0.8888888888888888,
             "#fdca26"
            ],
            [
             1.0,
             "#f0f921"
            ]
           ],
           "diverging": [
            [
             0,
             "#8e0152"
            ],
            [
             0.1,
             "#c51b7d"
            ],
            [
             0.2,
             "#de77ae"
            ],
            [
             0.3,
             "#f1b6da"
            ],
            [
             0.4,
             "#fde0ef"
            ],
            [
             0.5,
             "#f7f7f7"
            ],
            [
             0.6,
             "#e6f5d0"
            ],
            [
             0.7,
             "#b8e186"
            ],
            [
             0.8,
             "#7fbc41"
            ],
            [
             0.9,
             "#4d9221"
            ],
            [
             1,
             "#276419"
            ]
           ]
          },
          "xaxis": {
           "gridcolor": "white",
           "linecolor": "white",
           "ticks": "",
           "title": {
            "standoff": 15
           },
           "zerolinecolor": "white",
           "automargin": true,
           "zerolinewidth": 2
          },
          "yaxis": {
           "gridcolor": "white",
           "linecolor": "white",
           "ticks": "",
           "title": {
            "standoff": 15
           },
           "zerolinecolor": "white",
           "automargin": true,
           "zerolinewidth": 2
          },
          "scene": {
           "xaxis": {
            "backgroundcolor": "#E5ECF6",
            "gridcolor": "white",
            "linecolor": "white",
            "showbackground": true,
            "ticks": "",
            "zerolinecolor": "white",
            "gridwidth": 2
           },
           "yaxis": {
            "backgroundcolor": "#E5ECF6",
            "gridcolor": "white",
            "linecolor": "white",
            "showbackground": true,
            "ticks": "",
            "zerolinecolor": "white",
            "gridwidth": 2
           },
           "zaxis": {
            "backgroundcolor": "#E5ECF6",
            "gridcolor": "white",
            "linecolor": "white",
            "showbackground": true,
            "ticks": "",
            "zerolinecolor": "white",
            "gridwidth": 2
           }
          },
          "shapedefaults": {
           "line": {
            "color": "#2a3f5f"
           }
          },
          "annotationdefaults": {
           "arrowcolor": "#2a3f5f",
           "arrowhead": 0,
           "arrowwidth": 1
          },
          "geo": {
           "bgcolor": "white",
           "landcolor": "#E5ECF6",
           "subunitcolor": "white",
           "showland": true,
           "showlakes": true,
           "lakecolor": "white"
          },
          "title": {
           "x": 0.05
          },
          "mapbox": {
           "style": "light"
          }
         }
        },
        "xaxis": {
         "anchor": "y",
         "domain": [
          0.0,
          1.0
         ],
         "title": {
          "text": "Équipe"
         },
         "categoryorder": "array",
         "categoryarray": [
          "Gambia",
          "Egypt",
          "Nigeria",
          "Ghana",
          "Cameroon",
          "Ivory Coast",
          "Senegal",
          "Equatorial Guinea",
          "Madagascar",
          "Zambia"
         ],
         "tickangle": 45,
         "tickmode": "array",
         "tickvals": [
          0,
          1,
          2,
          3,
          4,
          5,
          6,
          7,
          8,
          9
         ],
         "ticktext": [
          "Gambia",
          "Egypt",
          "Nigeria",
          "Ghana",
          "Cameroon",
          "Ivory Coast",
          "Senegal",
          "Equatorial Guinea",
          "Madagascar",
          "Zambia"
         ]
        },
        "yaxis": {
         "anchor": "x",
         "domain": [
          0.0,
          1.0
         ],
         "title": {
          "text": "Pourcentage de victoires"
         }
        },
        "legend": {
         "title": {
          "text": "Équipe"
         },
         "tracegroupgap": 0
        },
        "title": {
         "text": "Top 10 des équipes avec le plus haut pourcentage de victoires"
        },
        "barmode": "relative",
        "height": 500
       },
       "config": {
        "plotlyServerURL": "https://plot.ly"
       }
      },
      "text/html": "<div>                            <div id=\"27f0eb69-9d2e-4aed-a648-3db38f508dc2\" class=\"plotly-graph-div\" style=\"height:500px; width:100%;\"></div>            <script type=\"text/javascript\">                require([\"plotly\"], function(Plotly) {                    window.PLOTLYENV=window.PLOTLYENV || {};                                    if (document.getElementById(\"27f0eb69-9d2e-4aed-a648-3db38f508dc2\")) {                    Plotly.newPlot(                        \"27f0eb69-9d2e-4aed-a648-3db38f508dc2\",                        [{\"alignmentgroup\":\"True\",\"hovertemplate\":\"\\u00c9quipe=%{x}<br>Pourcentage de victoires=%{text}<extra></extra>\",\"legendgroup\":\"Gambia\",\"marker\":{\"color\":\"skyblue\",\"pattern\":{\"shape\":\"\"},\"line\":{\"color\":\"black\",\"width\":1.5}},\"name\":\"Gambia\",\"offsetgroup\":\"Gambia\",\"orientation\":\"v\",\"showlegend\":true,\"text\":[60.0],\"textposition\":\"outside\",\"x\":[\"Gambia\"],\"xaxis\":\"x\",\"y\":[60.0],\"yaxis\":\"y\",\"type\":\"bar\"},{\"alignmentgroup\":\"True\",\"hovertemplate\":\"\\u00c9quipe=%{x}<br>Pourcentage de victoires=%{text}<extra></extra>\",\"legendgroup\":\"Egypt\",\"marker\":{\"color\":\"lightcoral\",\"pattern\":{\"shape\":\"\"},\"line\":{\"color\":\"black\",\"width\":1.5}},\"name\":\"Egypt\",\"offsetgroup\":\"Egypt\",\"orientation\":\"v\",\"showlegend\":true,\"text\":[56.07],\"textposition\":\"outside\",\"x\":[\"Egypt\"],\"xaxis\":\"x\",\"y\":[56.07],\"yaxis\":\"y\",\"type\":\"bar\"},{\"alignmentgroup\":\"True\",\"hovertemplate\":\"\\u00c9quipe=%{x}<br>Pourcentage de victoires=%{text}<extra></extra>\",\"legendgroup\":\"Nigeria\",\"marker\":{\"color\":\"lightgreen\",\"pattern\":{\"shape\":\"\"},\"line\":{\"color\":\"black\",\"width\":1.5}},\"name\":\"Nigeria\",\"offsetgroup\":\"Nigeria\",\"orientation\":\"v\",\"showlegend\":true,\"text\":[55.21],\"textposition\":\"outside\",\"x\":[\"Nigeria\"],\"xaxis\":\"x\",\"y\":[55.21],\"yaxis\":\"y\",\"type\":\"bar\"},{\"alignmentgroup\":\"True\",\"hovertemplate\":\"\\u00c9quipe=%{x}<br>Pourcentage de victoires=%{text}<extra></extra>\",\"legendgroup\":\"Ghana\",\"marker\":{\"color\":\"gold\",\"pattern\":{\"shape\":\"\"},\"line\":{\"color\":\"black\",\"width\":1.5}},\"name\":\"Ghana\",\"offsetgroup\":\"Ghana\",\"orientation\":\"v\",\"showlegend\":true,\"text\":[52.94],\"textposition\":\"outside\",\"x\":[\"Ghana\"],\"xaxis\":\"x\",\"y\":[52.94],\"yaxis\":\"y\",\"type\":\"bar\"},{\"alignmentgroup\":\"True\",\"hovertemplate\":\"\\u00c9quipe=%{x}<br>Pourcentage de victoires=%{text}<extra></extra>\",\"legendgroup\":\"Cameroon\",\"marker\":{\"color\":\"lightsalmon\",\"pattern\":{\"shape\":\"\"},\"line\":{\"color\":\"black\",\"width\":1.5}},\"name\":\"Cameroon\",\"offsetgroup\":\"Cameroon\",\"orientation\":\"v\",\"showlegend\":true,\"text\":[49.45],\"textposition\":\"outside\",\"x\":[\"Cameroon\"],\"xaxis\":\"x\",\"y\":[49.45],\"yaxis\":\"y\",\"type\":\"bar\"},{\"alignmentgroup\":\"True\",\"hovertemplate\":\"\\u00c9quipe=%{x}<br>Pourcentage de victoires=%{text}<extra></extra>\",\"legendgroup\":\"Ivory Coast\",\"marker\":{\"color\":\"lightsteelblue\",\"pattern\":{\"shape\":\"\"},\"line\":{\"color\":\"black\",\"width\":1.5}},\"name\":\"Ivory Coast\",\"offsetgroup\":\"Ivory Coast\",\"orientation\":\"v\",\"showlegend\":true,\"text\":[44.44],\"textposition\":\"outside\",\"x\":[\"Ivory Coast\"],\"xaxis\":\"x\",\"y\":[44.44],\"yaxis\":\"y\",\"type\":\"bar\"},{\"alignmentgroup\":\"True\",\"hovertemplate\":\"\\u00c9quipe=%{x}<br>Pourcentage de victoires=%{text}<extra></extra>\",\"legendgroup\":\"Senegal\",\"marker\":{\"color\":\"lightpink\",\"pattern\":{\"shape\":\"\"},\"line\":{\"color\":\"black\",\"width\":1.5}},\"name\":\"Senegal\",\"offsetgroup\":\"Senegal\",\"orientation\":\"v\",\"showlegend\":true,\"text\":[40.3],\"textposition\":\"outside\",\"x\":[\"Senegal\"],\"xaxis\":\"x\",\"y\":[40.3],\"yaxis\":\"y\",\"type\":\"bar\"},{\"alignmentgroup\":\"True\",\"hovertemplate\":\"\\u00c9quipe=%{x}<br>Pourcentage de victoires=%{text}<extra></extra>\",\"legendgroup\":\"Equatorial Guinea\",\"marker\":{\"color\":\"lightseagreen\",\"pattern\":{\"shape\":\"\"},\"line\":{\"color\":\"black\",\"width\":1.5}},\"name\":\"Equatorial Guinea\",\"offsetgroup\":\"Equatorial Guinea\",\"orientation\":\"v\",\"showlegend\":true,\"text\":[40.0],\"textposition\":\"outside\",\"x\":[\"Equatorial Guinea\"],\"xaxis\":\"x\",\"y\":[40.0],\"yaxis\":\"y\",\"type\":\"bar\"},{\"alignmentgroup\":\"True\",\"hovertemplate\":\"\\u00c9quipe=%{x}<br>Pourcentage de victoires=%{text}<extra></extra>\",\"legendgroup\":\"Madagascar\",\"marker\":{\"color\":\"lightcyan\",\"pattern\":{\"shape\":\"\"},\"line\":{\"color\":\"black\",\"width\":1.5}},\"name\":\"Madagascar\",\"offsetgroup\":\"Madagascar\",\"orientation\":\"v\",\"showlegend\":true,\"text\":[40.0],\"textposition\":\"outside\",\"x\":[\"Madagascar\"],\"xaxis\":\"x\",\"y\":[40.0],\"yaxis\":\"y\",\"type\":\"bar\"},{\"alignmentgroup\":\"True\",\"hovertemplate\":\"\\u00c9quipe=%{x}<br>Pourcentage de victoires=%{text}<extra></extra>\",\"legendgroup\":\"Zambia\",\"marker\":{\"color\":\"yellow\",\"pattern\":{\"shape\":\"\"},\"line\":{\"color\":\"black\",\"width\":1.5}},\"name\":\"Zambia\",\"offsetgroup\":\"Zambia\",\"orientation\":\"v\",\"showlegend\":true,\"text\":[38.81],\"textposition\":\"outside\",\"x\":[\"Zambia\"],\"xaxis\":\"x\",\"y\":[38.81],\"yaxis\":\"y\",\"type\":\"bar\"}],                        {\"template\":{\"data\":{\"histogram2dcontour\":[{\"type\":\"histogram2dcontour\",\"colorbar\":{\"outlinewidth\":0,\"ticks\":\"\"},\"colorscale\":[[0.0,\"#0d0887\"],[0.1111111111111111,\"#46039f\"],[0.2222222222222222,\"#7201a8\"],[0.3333333333333333,\"#9c179e\"],[0.4444444444444444,\"#bd3786\"],[0.5555555555555556,\"#d8576b\"],[0.6666666666666666,\"#ed7953\"],[0.7777777777777778,\"#fb9f3a\"],[0.8888888888888888,\"#fdca26\"],[1.0,\"#f0f921\"]]}],\"choropleth\":[{\"type\":\"choropleth\",\"colorbar\":{\"outlinewidth\":0,\"ticks\":\"\"}}],\"histogram2d\":[{\"type\":\"histogram2d\",\"colorbar\":{\"outlinewidth\":0,\"ticks\":\"\"},\"colorscale\":[[0.0,\"#0d0887\"],[0.1111111111111111,\"#46039f\"],[0.2222222222222222,\"#7201a8\"],[0.3333333333333333,\"#9c179e\"],[0.4444444444444444,\"#bd3786\"],[0.5555555555555556,\"#d8576b\"],[0.6666666666666666,\"#ed7953\"],[0.7777777777777778,\"#fb9f3a\"],[0.8888888888888888,\"#fdca26\"],[1.0,\"#f0f921\"]]}],\"heatmap\":[{\"type\":\"heatmap\",\"colorbar\":{\"outlinewidth\":0,\"ticks\":\"\"},\"colorscale\":[[0.0,\"#0d0887\"],[0.1111111111111111,\"#46039f\"],[0.2222222222222222,\"#7201a8\"],[0.3333333333333333,\"#9c179e\"],[0.4444444444444444,\"#bd3786\"],[0.5555555555555556,\"#d8576b\"],[0.6666666666666666,\"#ed7953\"],[0.7777777777777778,\"#fb9f3a\"],[0.8888888888888888,\"#fdca26\"],[1.0,\"#f0f921\"]]}],\"heatmapgl\":[{\"type\":\"heatmapgl\",\"colorbar\":{\"outlinewidth\":0,\"ticks\":\"\"},\"colorscale\":[[0.0,\"#0d0887\"],[0.1111111111111111,\"#46039f\"],[0.2222222222222222,\"#7201a8\"],[0.3333333333333333,\"#9c179e\"],[0.4444444444444444,\"#bd3786\"],[0.5555555555555556,\"#d8576b\"],[0.6666666666666666,\"#ed7953\"],[0.7777777777777778,\"#fb9f3a\"],[0.8888888888888888,\"#fdca26\"],[1.0,\"#f0f921\"]]}],\"contourcarpet\":[{\"type\":\"contourcarpet\",\"colorbar\":{\"outlinewidth\":0,\"ticks\":\"\"}}],\"contour\":[{\"type\":\"contour\",\"colorbar\":{\"outlinewidth\":0,\"ticks\":\"\"},\"colorscale\":[[0.0,\"#0d0887\"],[0.1111111111111111,\"#46039f\"],[0.2222222222222222,\"#7201a8\"],[0.3333333333333333,\"#9c179e\"],[0.4444444444444444,\"#bd3786\"],[0.5555555555555556,\"#d8576b\"],[0.6666666666666666,\"#ed7953\"],[0.7777777777777778,\"#fb9f3a\"],[0.8888888888888888,\"#fdca26\"],[1.0,\"#f0f921\"]]}],\"surface\":[{\"type\":\"surface\",\"colorbar\":{\"outlinewidth\":0,\"ticks\":\"\"},\"colorscale\":[[0.0,\"#0d0887\"],[0.1111111111111111,\"#46039f\"],[0.2222222222222222,\"#7201a8\"],[0.3333333333333333,\"#9c179e\"],[0.4444444444444444,\"#bd3786\"],[0.5555555555555556,\"#d8576b\"],[0.6666666666666666,\"#ed7953\"],[0.7777777777777778,\"#fb9f3a\"],[0.8888888888888888,\"#fdca26\"],[1.0,\"#f0f921\"]]}],\"mesh3d\":[{\"type\":\"mesh3d\",\"colorbar\":{\"outlinewidth\":0,\"ticks\":\"\"}}],\"scatter\":[{\"fillpattern\":{\"fillmode\":\"overlay\",\"size\":10,\"solidity\":0.2},\"type\":\"scatter\"}],\"parcoords\":[{\"type\":\"parcoords\",\"line\":{\"colorbar\":{\"outlinewidth\":0,\"ticks\":\"\"}}}],\"scatterpolargl\":[{\"type\":\"scatterpolargl\",\"marker\":{\"colorbar\":{\"outlinewidth\":0,\"ticks\":\"\"}}}],\"bar\":[{\"error_x\":{\"color\":\"#2a3f5f\"},\"error_y\":{\"color\":\"#2a3f5f\"},\"marker\":{\"line\":{\"color\":\"#E5ECF6\",\"width\":0.5},\"pattern\":{\"fillmode\":\"overlay\",\"size\":10,\"solidity\":0.2}},\"type\":\"bar\"}],\"scattergeo\":[{\"type\":\"scattergeo\",\"marker\":{\"colorbar\":{\"outlinewidth\":0,\"ticks\":\"\"}}}],\"scatterpolar\":[{\"type\":\"scatterpolar\",\"marker\":{\"colorbar\":{\"outlinewidth\":0,\"ticks\":\"\"}}}],\"histogram\":[{\"marker\":{\"pattern\":{\"fillmode\":\"overlay\",\"size\":10,\"solidity\":0.2}},\"type\":\"histogram\"}],\"scattergl\":[{\"type\":\"scattergl\",\"marker\":{\"colorbar\":{\"outlinewidth\":0,\"ticks\":\"\"}}}],\"scatter3d\":[{\"type\":\"scatter3d\",\"line\":{\"colorbar\":{\"outlinewidth\":0,\"ticks\":\"\"}},\"marker\":{\"colorbar\":{\"outlinewidth\":0,\"ticks\":\"\"}}}],\"scattermapbox\":[{\"type\":\"scattermapbox\",\"marker\":{\"colorbar\":{\"outlinewidth\":0,\"ticks\":\"\"}}}],\"scatterternary\":[{\"type\":\"scatterternary\",\"marker\":{\"colorbar\":{\"outlinewidth\":0,\"ticks\":\"\"}}}],\"scattercarpet\":[{\"type\":\"scattercarpet\",\"marker\":{\"colorbar\":{\"outlinewidth\":0,\"ticks\":\"\"}}}],\"carpet\":[{\"aaxis\":{\"endlinecolor\":\"#2a3f5f\",\"gridcolor\":\"white\",\"linecolor\":\"white\",\"minorgridcolor\":\"white\",\"startlinecolor\":\"#2a3f5f\"},\"baxis\":{\"endlinecolor\":\"#2a3f5f\",\"gridcolor\":\"white\",\"linecolor\":\"white\",\"minorgridcolor\":\"white\",\"startlinecolor\":\"#2a3f5f\"},\"type\":\"carpet\"}],\"table\":[{\"cells\":{\"fill\":{\"color\":\"#EBF0F8\"},\"line\":{\"color\":\"white\"}},\"header\":{\"fill\":{\"color\":\"#C8D4E3\"},\"line\":{\"color\":\"white\"}},\"type\":\"table\"}],\"barpolar\":[{\"marker\":{\"line\":{\"color\":\"#E5ECF6\",\"width\":0.5},\"pattern\":{\"fillmode\":\"overlay\",\"size\":10,\"solidity\":0.2}},\"type\":\"barpolar\"}],\"pie\":[{\"automargin\":true,\"type\":\"pie\"}]},\"layout\":{\"autotypenumbers\":\"strict\",\"colorway\":[\"#636efa\",\"#EF553B\",\"#00cc96\",\"#ab63fa\",\"#FFA15A\",\"#19d3f3\",\"#FF6692\",\"#B6E880\",\"#FF97FF\",\"#FECB52\"],\"font\":{\"color\":\"#2a3f5f\"},\"hovermode\":\"closest\",\"hoverlabel\":{\"align\":\"left\"},\"paper_bgcolor\":\"white\",\"plot_bgcolor\":\"#E5ECF6\",\"polar\":{\"bgcolor\":\"#E5ECF6\",\"angularaxis\":{\"gridcolor\":\"white\",\"linecolor\":\"white\",\"ticks\":\"\"},\"radialaxis\":{\"gridcolor\":\"white\",\"linecolor\":\"white\",\"ticks\":\"\"}},\"ternary\":{\"bgcolor\":\"#E5ECF6\",\"aaxis\":{\"gridcolor\":\"white\",\"linecolor\":\"white\",\"ticks\":\"\"},\"baxis\":{\"gridcolor\":\"white\",\"linecolor\":\"white\",\"ticks\":\"\"},\"caxis\":{\"gridcolor\":\"white\",\"linecolor\":\"white\",\"ticks\":\"\"}},\"coloraxis\":{\"colorbar\":{\"outlinewidth\":0,\"ticks\":\"\"}},\"colorscale\":{\"sequential\":[[0.0,\"#0d0887\"],[0.1111111111111111,\"#46039f\"],[0.2222222222222222,\"#7201a8\"],[0.3333333333333333,\"#9c179e\"],[0.4444444444444444,\"#bd3786\"],[0.5555555555555556,\"#d8576b\"],[0.6666666666666666,\"#ed7953\"],[0.7777777777777778,\"#fb9f3a\"],[0.8888888888888888,\"#fdca26\"],[1.0,\"#f0f921\"]],\"sequentialminus\":[[0.0,\"#0d0887\"],[0.1111111111111111,\"#46039f\"],[0.2222222222222222,\"#7201a8\"],[0.3333333333333333,\"#9c179e\"],[0.4444444444444444,\"#bd3786\"],[0.5555555555555556,\"#d8576b\"],[0.6666666666666666,\"#ed7953\"],[0.7777777777777778,\"#fb9f3a\"],[0.8888888888888888,\"#fdca26\"],[1.0,\"#f0f921\"]],\"diverging\":[[0,\"#8e0152\"],[0.1,\"#c51b7d\"],[0.2,\"#de77ae\"],[0.3,\"#f1b6da\"],[0.4,\"#fde0ef\"],[0.5,\"#f7f7f7\"],[0.6,\"#e6f5d0\"],[0.7,\"#b8e186\"],[0.8,\"#7fbc41\"],[0.9,\"#4d9221\"],[1,\"#276419\"]]},\"xaxis\":{\"gridcolor\":\"white\",\"linecolor\":\"white\",\"ticks\":\"\",\"title\":{\"standoff\":15},\"zerolinecolor\":\"white\",\"automargin\":true,\"zerolinewidth\":2},\"yaxis\":{\"gridcolor\":\"white\",\"linecolor\":\"white\",\"ticks\":\"\",\"title\":{\"standoff\":15},\"zerolinecolor\":\"white\",\"automargin\":true,\"zerolinewidth\":2},\"scene\":{\"xaxis\":{\"backgroundcolor\":\"#E5ECF6\",\"gridcolor\":\"white\",\"linecolor\":\"white\",\"showbackground\":true,\"ticks\":\"\",\"zerolinecolor\":\"white\",\"gridwidth\":2},\"yaxis\":{\"backgroundcolor\":\"#E5ECF6\",\"gridcolor\":\"white\",\"linecolor\":\"white\",\"showbackground\":true,\"ticks\":\"\",\"zerolinecolor\":\"white\",\"gridwidth\":2},\"zaxis\":{\"backgroundcolor\":\"#E5ECF6\",\"gridcolor\":\"white\",\"linecolor\":\"white\",\"showbackground\":true,\"ticks\":\"\",\"zerolinecolor\":\"white\",\"gridwidth\":2}},\"shapedefaults\":{\"line\":{\"color\":\"#2a3f5f\"}},\"annotationdefaults\":{\"arrowcolor\":\"#2a3f5f\",\"arrowhead\":0,\"arrowwidth\":1},\"geo\":{\"bgcolor\":\"white\",\"landcolor\":\"#E5ECF6\",\"subunitcolor\":\"white\",\"showland\":true,\"showlakes\":true,\"lakecolor\":\"white\"},\"title\":{\"x\":0.05},\"mapbox\":{\"style\":\"light\"}}},\"xaxis\":{\"anchor\":\"y\",\"domain\":[0.0,1.0],\"title\":{\"text\":\"\\u00c9quipe\"},\"categoryorder\":\"array\",\"categoryarray\":[\"Gambia\",\"Egypt\",\"Nigeria\",\"Ghana\",\"Cameroon\",\"Ivory Coast\",\"Senegal\",\"Equatorial Guinea\",\"Madagascar\",\"Zambia\"],\"tickangle\":45,\"tickmode\":\"array\",\"tickvals\":[0,1,2,3,4,5,6,7,8,9],\"ticktext\":[\"Gambia\",\"Egypt\",\"Nigeria\",\"Ghana\",\"Cameroon\",\"Ivory Coast\",\"Senegal\",\"Equatorial Guinea\",\"Madagascar\",\"Zambia\"]},\"yaxis\":{\"anchor\":\"x\",\"domain\":[0.0,1.0],\"title\":{\"text\":\"Pourcentage de victoires\"}},\"legend\":{\"title\":{\"text\":\"\\u00c9quipe\"},\"tracegroupgap\":0},\"title\":{\"text\":\"Top 10 des \\u00e9quipes avec le plus haut pourcentage de victoires\"},\"barmode\":\"relative\",\"height\":500},                        {\"responsive\": true}                    ).then(function(){\n                            \nvar gd = document.getElementById('27f0eb69-9d2e-4aed-a648-3db38f508dc2');\nvar x = new MutationObserver(function (mutations, observer) {{\n        var display = window.getComputedStyle(gd).display;\n        if (!display || display === 'none') {{\n            console.log([gd, 'removed!']);\n            Plotly.purge(gd);\n            observer.disconnect();\n        }}\n}});\n\n// Listen for the removal of the full notebook cells\nvar notebookContainer = gd.closest('#notebook-container');\nif (notebookContainer) {{\n    x.observe(notebookContainer, {childList: true});\n}}\n\n// Listen for the clearing of the current output cell\nvar outputEl = gd.closest('.output');\nif (outputEl) {{\n    x.observe(outputEl, {childList: true});\n}}\n\n                        })                };                });            </script>        </div>"
     },
     "metadata": {},
     "output_type": "display_data"
    }
   ],
   "source": [
    "# Pourcentage de victoires\n",
    "win_percentage = (total_wins / total_games) * 100\n",
    "\n",
    "# Les 10 équipes avec les plus grands pourcentages de victoires\n",
    "top_10_win_percentage = win_percentage.nlargest(10).reset_index()\n",
    "top_10_win_percentage.columns = ['Équipe', 'Pourcentage de victoires']\n",
    "\n",
    "top_10_win_percentage['Pourcentage de victoires'] = top_10_win_percentage['Pourcentage de victoires'].round(2)\n",
    "\n",
    "# Tracer le graphique avec Plotly\n",
    "fig = px.bar(top_10_win_percentage, x='Équipe', y='Pourcentage de victoires',\n",
    "             title='Top 10 des équipes avec le plus haut pourcentage de victoires',\n",
    "             labels={'Pourcentage de victoires': 'Pourcentage de victoires'},\n",
    "             text='Pourcentage de victoires',\n",
    "             height=500, color='Équipe', color_discrete_sequence=colors)\n",
    "\n",
    "# Personnaliser l'apparence\n",
    "fig.update_traces(marker_line_color='black', marker_line_width=1.5, textposition='outside')\n",
    "fig.update_layout(xaxis=dict(tickangle=45, tickmode='array', tickvals=list(range(10)), ticktext=top_10_win_percentage['Équipe']))\n",
    "\n",
    "# Afficher le graphique\n",
    "fig.show()"
   ],
   "metadata": {
    "collapsed": false,
    "ExecuteTime": {
     "end_time": "2023-12-29T03:27:22.626302300Z",
     "start_time": "2023-12-29T03:27:22.150512800Z"
    }
   },
   "id": "cdd56331e72a88b3",
   "execution_count": 109
  },
  {
   "cell_type": "code",
   "outputs": [
    {
     "data": {
      "application/vnd.plotly.v1+json": {
       "data": [
        {
         "alignmentgroup": "True",
         "hovertemplate": "Équipe=%{x}<br>Pourcentage de défaites=%{text}<extra></extra>",
         "legendgroup": "Botswana",
         "marker": {
          "color": "skyblue",
          "pattern": {
           "shape": ""
          },
          "line": {
           "color": "black",
           "width": 1.5
          }
         },
         "name": "Botswana",
         "offsetgroup": "Botswana",
         "orientation": "v",
         "showlegend": true,
         "text": [
          100.0
         ],
         "textposition": "outside",
         "x": [
          "Botswana"
         ],
         "xaxis": "x",
         "y": [
          100.0
         ],
         "yaxis": "y",
         "type": "bar"
        },
        {
         "alignmentgroup": "True",
         "hovertemplate": "Équipe=%{x}<br>Pourcentage de défaites=%{text}<extra></extra>",
         "legendgroup": "Burundi",
         "marker": {
          "color": "lightcoral",
          "pattern": {
           "shape": ""
          },
          "line": {
           "color": "black",
           "width": 1.5
          }
         },
         "name": "Burundi",
         "offsetgroup": "Burundi",
         "orientation": "v",
         "showlegend": true,
         "text": [
          100.0
         ],
         "textposition": "outside",
         "x": [
          "Burundi"
         ],
         "xaxis": "x",
         "y": [
          100.0
         ],
         "yaxis": "y",
         "type": "bar"
        },
        {
         "alignmentgroup": "True",
         "hovertemplate": "Équipe=%{x}<br>Pourcentage de défaites=%{text}<extra></extra>",
         "legendgroup": "Mauritius",
         "marker": {
          "color": "lightgreen",
          "pattern": {
           "shape": ""
          },
          "line": {
           "color": "black",
           "width": 1.5
          }
         },
         "name": "Mauritius",
         "offsetgroup": "Mauritius",
         "orientation": "v",
         "showlegend": true,
         "text": [
          100.0
         ],
         "textposition": "outside",
         "x": [
          "Mauritius"
         ],
         "xaxis": "x",
         "y": [
          100.0
         ],
         "yaxis": "y",
         "type": "bar"
        },
        {
         "alignmentgroup": "True",
         "hovertemplate": "Équipe=%{x}<br>Pourcentage de défaites=%{text}<extra></extra>",
         "legendgroup": "Mozambique",
         "marker": {
          "color": "gold",
          "pattern": {
           "shape": ""
          },
          "line": {
           "color": "black",
           "width": 1.5
          }
         },
         "name": "Mozambique",
         "offsetgroup": "Mozambique",
         "orientation": "v",
         "showlegend": true,
         "text": [
          83.33
         ],
         "textposition": "outside",
         "x": [
          "Mozambique"
         ],
         "xaxis": "x",
         "y": [
          83.33
         ],
         "yaxis": "y",
         "type": "bar"
        },
        {
         "alignmentgroup": "True",
         "hovertemplate": "Équipe=%{x}<br>Pourcentage de défaites=%{text}<extra></extra>",
         "legendgroup": "Niger",
         "marker": {
          "color": "lightsalmon",
          "pattern": {
           "shape": ""
          },
          "line": {
           "color": "black",
           "width": 1.5
          }
         },
         "name": "Niger",
         "offsetgroup": "Niger",
         "orientation": "v",
         "showlegend": true,
         "text": [
          83.33
         ],
         "textposition": "outside",
         "x": [
          "Niger"
         ],
         "xaxis": "x",
         "y": [
          83.33
         ],
         "yaxis": "y",
         "type": "bar"
        },
        {
         "alignmentgroup": "True",
         "hovertemplate": "Équipe=%{x}<br>Pourcentage de défaites=%{text}<extra></extra>",
         "legendgroup": "Tanzania",
         "marker": {
          "color": "lightsteelblue",
          "pattern": {
           "shape": ""
          },
          "line": {
           "color": "black",
           "width": 1.5
          }
         },
         "name": "Tanzania",
         "offsetgroup": "Tanzania",
         "orientation": "v",
         "showlegend": true,
         "text": [
          83.33
         ],
         "textposition": "outside",
         "x": [
          "Tanzania"
         ],
         "xaxis": "x",
         "y": [
          83.33
         ],
         "yaxis": "y",
         "type": "bar"
        },
        {
         "alignmentgroup": "True",
         "hovertemplate": "Équipe=%{x}<br>Pourcentage de défaites=%{text}<extra></extra>",
         "legendgroup": "Namibia",
         "marker": {
          "color": "lightpink",
          "pattern": {
           "shape": ""
          },
          "line": {
           "color": "black",
           "width": 1.5
          }
         },
         "name": "Namibia",
         "offsetgroup": "Namibia",
         "orientation": "v",
         "showlegend": true,
         "text": [
          77.78
         ],
         "textposition": "outside",
         "x": [
          "Namibia"
         ],
         "xaxis": "x",
         "y": [
          77.78
         ],
         "yaxis": "y",
         "type": "bar"
        },
        {
         "alignmentgroup": "True",
         "hovertemplate": "Équipe=%{x}<br>Pourcentage de défaites=%{text}<extra></extra>",
         "legendgroup": "Comoros",
         "marker": {
          "color": "lightseagreen",
          "pattern": {
           "shape": ""
          },
          "line": {
           "color": "black",
           "width": 1.5
          }
         },
         "name": "Comoros",
         "offsetgroup": "Comoros",
         "orientation": "v",
         "showlegend": true,
         "text": [
          75.0
         ],
         "textposition": "outside",
         "x": [
          "Comoros"
         ],
         "xaxis": "x",
         "y": [
          75.0
         ],
         "yaxis": "y",
         "type": "bar"
        },
        {
         "alignmentgroup": "True",
         "hovertemplate": "Équipe=%{x}<br>Pourcentage de défaites=%{text}<extra></extra>",
         "legendgroup": "Uganda",
         "marker": {
          "color": "lightcyan",
          "pattern": {
           "shape": ""
          },
          "line": {
           "color": "black",
           "width": 1.5
          }
         },
         "name": "Uganda",
         "offsetgroup": "Uganda",
         "orientation": "v",
         "showlegend": true,
         "text": [
          69.57
         ],
         "textposition": "outside",
         "x": [
          "Uganda"
         ],
         "xaxis": "x",
         "y": [
          69.57
         ],
         "yaxis": "y",
         "type": "bar"
        },
        {
         "alignmentgroup": "True",
         "hovertemplate": "Équipe=%{x}<br>Pourcentage de défaites=%{text}<extra></extra>",
         "legendgroup": "Guinea-Bissau",
         "marker": {
          "color": "yellow",
          "pattern": {
           "shape": ""
          },
          "line": {
           "color": "black",
           "width": 1.5
          }
         },
         "name": "Guinea-Bissau",
         "offsetgroup": "Guinea-Bissau",
         "orientation": "v",
         "showlegend": true,
         "text": [
          66.67
         ],
         "textposition": "outside",
         "x": [
          "Guinea-Bissau"
         ],
         "xaxis": "x",
         "y": [
          66.67
         ],
         "yaxis": "y",
         "type": "bar"
        }
       ],
       "layout": {
        "template": {
         "data": {
          "histogram2dcontour": [
           {
            "type": "histogram2dcontour",
            "colorbar": {
             "outlinewidth": 0,
             "ticks": ""
            },
            "colorscale": [
             [
              0.0,
              "#0d0887"
             ],
             [
              0.1111111111111111,
              "#46039f"
             ],
             [
              0.2222222222222222,
              "#7201a8"
             ],
             [
              0.3333333333333333,
              "#9c179e"
             ],
             [
              0.4444444444444444,
              "#bd3786"
             ],
             [
              0.5555555555555556,
              "#d8576b"
             ],
             [
              0.6666666666666666,
              "#ed7953"
             ],
             [
              0.7777777777777778,
              "#fb9f3a"
             ],
             [
              0.8888888888888888,
              "#fdca26"
             ],
             [
              1.0,
              "#f0f921"
             ]
            ]
           }
          ],
          "choropleth": [
           {
            "type": "choropleth",
            "colorbar": {
             "outlinewidth": 0,
             "ticks": ""
            }
           }
          ],
          "histogram2d": [
           {
            "type": "histogram2d",
            "colorbar": {
             "outlinewidth": 0,
             "ticks": ""
            },
            "colorscale": [
             [
              0.0,
              "#0d0887"
             ],
             [
              0.1111111111111111,
              "#46039f"
             ],
             [
              0.2222222222222222,
              "#7201a8"
             ],
             [
              0.3333333333333333,
              "#9c179e"
             ],
             [
              0.4444444444444444,
              "#bd3786"
             ],
             [
              0.5555555555555556,
              "#d8576b"
             ],
             [
              0.6666666666666666,
              "#ed7953"
             ],
             [
              0.7777777777777778,
              "#fb9f3a"
             ],
             [
              0.8888888888888888,
              "#fdca26"
             ],
             [
              1.0,
              "#f0f921"
             ]
            ]
           }
          ],
          "heatmap": [
           {
            "type": "heatmap",
            "colorbar": {
             "outlinewidth": 0,
             "ticks": ""
            },
            "colorscale": [
             [
              0.0,
              "#0d0887"
             ],
             [
              0.1111111111111111,
              "#46039f"
             ],
             [
              0.2222222222222222,
              "#7201a8"
             ],
             [
              0.3333333333333333,
              "#9c179e"
             ],
             [
              0.4444444444444444,
              "#bd3786"
             ],
             [
              0.5555555555555556,
              "#d8576b"
             ],
             [
              0.6666666666666666,
              "#ed7953"
             ],
             [
              0.7777777777777778,
              "#fb9f3a"
             ],
             [
              0.8888888888888888,
              "#fdca26"
             ],
             [
              1.0,
              "#f0f921"
             ]
            ]
           }
          ],
          "heatmapgl": [
           {
            "type": "heatmapgl",
            "colorbar": {
             "outlinewidth": 0,
             "ticks": ""
            },
            "colorscale": [
             [
              0.0,
              "#0d0887"
             ],
             [
              0.1111111111111111,
              "#46039f"
             ],
             [
              0.2222222222222222,
              "#7201a8"
             ],
             [
              0.3333333333333333,
              "#9c179e"
             ],
             [
              0.4444444444444444,
              "#bd3786"
             ],
             [
              0.5555555555555556,
              "#d8576b"
             ],
             [
              0.6666666666666666,
              "#ed7953"
             ],
             [
              0.7777777777777778,
              "#fb9f3a"
             ],
             [
              0.8888888888888888,
              "#fdca26"
             ],
             [
              1.0,
              "#f0f921"
             ]
            ]
           }
          ],
          "contourcarpet": [
           {
            "type": "contourcarpet",
            "colorbar": {
             "outlinewidth": 0,
             "ticks": ""
            }
           }
          ],
          "contour": [
           {
            "type": "contour",
            "colorbar": {
             "outlinewidth": 0,
             "ticks": ""
            },
            "colorscale": [
             [
              0.0,
              "#0d0887"
             ],
             [
              0.1111111111111111,
              "#46039f"
             ],
             [
              0.2222222222222222,
              "#7201a8"
             ],
             [
              0.3333333333333333,
              "#9c179e"
             ],
             [
              0.4444444444444444,
              "#bd3786"
             ],
             [
              0.5555555555555556,
              "#d8576b"
             ],
             [
              0.6666666666666666,
              "#ed7953"
             ],
             [
              0.7777777777777778,
              "#fb9f3a"
             ],
             [
              0.8888888888888888,
              "#fdca26"
             ],
             [
              1.0,
              "#f0f921"
             ]
            ]
           }
          ],
          "surface": [
           {
            "type": "surface",
            "colorbar": {
             "outlinewidth": 0,
             "ticks": ""
            },
            "colorscale": [
             [
              0.0,
              "#0d0887"
             ],
             [
              0.1111111111111111,
              "#46039f"
             ],
             [
              0.2222222222222222,
              "#7201a8"
             ],
             [
              0.3333333333333333,
              "#9c179e"
             ],
             [
              0.4444444444444444,
              "#bd3786"
             ],
             [
              0.5555555555555556,
              "#d8576b"
             ],
             [
              0.6666666666666666,
              "#ed7953"
             ],
             [
              0.7777777777777778,
              "#fb9f3a"
             ],
             [
              0.8888888888888888,
              "#fdca26"
             ],
             [
              1.0,
              "#f0f921"
             ]
            ]
           }
          ],
          "mesh3d": [
           {
            "type": "mesh3d",
            "colorbar": {
             "outlinewidth": 0,
             "ticks": ""
            }
           }
          ],
          "scatter": [
           {
            "fillpattern": {
             "fillmode": "overlay",
             "size": 10,
             "solidity": 0.2
            },
            "type": "scatter"
           }
          ],
          "parcoords": [
           {
            "type": "parcoords",
            "line": {
             "colorbar": {
              "outlinewidth": 0,
              "ticks": ""
             }
            }
           }
          ],
          "scatterpolargl": [
           {
            "type": "scatterpolargl",
            "marker": {
             "colorbar": {
              "outlinewidth": 0,
              "ticks": ""
             }
            }
           }
          ],
          "bar": [
           {
            "error_x": {
             "color": "#2a3f5f"
            },
            "error_y": {
             "color": "#2a3f5f"
            },
            "marker": {
             "line": {
              "color": "#E5ECF6",
              "width": 0.5
             },
             "pattern": {
              "fillmode": "overlay",
              "size": 10,
              "solidity": 0.2
             }
            },
            "type": "bar"
           }
          ],
          "scattergeo": [
           {
            "type": "scattergeo",
            "marker": {
             "colorbar": {
              "outlinewidth": 0,
              "ticks": ""
             }
            }
           }
          ],
          "scatterpolar": [
           {
            "type": "scatterpolar",
            "marker": {
             "colorbar": {
              "outlinewidth": 0,
              "ticks": ""
             }
            }
           }
          ],
          "histogram": [
           {
            "marker": {
             "pattern": {
              "fillmode": "overlay",
              "size": 10,
              "solidity": 0.2
             }
            },
            "type": "histogram"
           }
          ],
          "scattergl": [
           {
            "type": "scattergl",
            "marker": {
             "colorbar": {
              "outlinewidth": 0,
              "ticks": ""
             }
            }
           }
          ],
          "scatter3d": [
           {
            "type": "scatter3d",
            "line": {
             "colorbar": {
              "outlinewidth": 0,
              "ticks": ""
             }
            },
            "marker": {
             "colorbar": {
              "outlinewidth": 0,
              "ticks": ""
             }
            }
           }
          ],
          "scattermapbox": [
           {
            "type": "scattermapbox",
            "marker": {
             "colorbar": {
              "outlinewidth": 0,
              "ticks": ""
             }
            }
           }
          ],
          "scatterternary": [
           {
            "type": "scatterternary",
            "marker": {
             "colorbar": {
              "outlinewidth": 0,
              "ticks": ""
             }
            }
           }
          ],
          "scattercarpet": [
           {
            "type": "scattercarpet",
            "marker": {
             "colorbar": {
              "outlinewidth": 0,
              "ticks": ""
             }
            }
           }
          ],
          "carpet": [
           {
            "aaxis": {
             "endlinecolor": "#2a3f5f",
             "gridcolor": "white",
             "linecolor": "white",
             "minorgridcolor": "white",
             "startlinecolor": "#2a3f5f"
            },
            "baxis": {
             "endlinecolor": "#2a3f5f",
             "gridcolor": "white",
             "linecolor": "white",
             "minorgridcolor": "white",
             "startlinecolor": "#2a3f5f"
            },
            "type": "carpet"
           }
          ],
          "table": [
           {
            "cells": {
             "fill": {
              "color": "#EBF0F8"
             },
             "line": {
              "color": "white"
             }
            },
            "header": {
             "fill": {
              "color": "#C8D4E3"
             },
             "line": {
              "color": "white"
             }
            },
            "type": "table"
           }
          ],
          "barpolar": [
           {
            "marker": {
             "line": {
              "color": "#E5ECF6",
              "width": 0.5
             },
             "pattern": {
              "fillmode": "overlay",
              "size": 10,
              "solidity": 0.2
             }
            },
            "type": "barpolar"
           }
          ],
          "pie": [
           {
            "automargin": true,
            "type": "pie"
           }
          ]
         },
         "layout": {
          "autotypenumbers": "strict",
          "colorway": [
           "#636efa",
           "#EF553B",
           "#00cc96",
           "#ab63fa",
           "#FFA15A",
           "#19d3f3",
           "#FF6692",
           "#B6E880",
           "#FF97FF",
           "#FECB52"
          ],
          "font": {
           "color": "#2a3f5f"
          },
          "hovermode": "closest",
          "hoverlabel": {
           "align": "left"
          },
          "paper_bgcolor": "white",
          "plot_bgcolor": "#E5ECF6",
          "polar": {
           "bgcolor": "#E5ECF6",
           "angularaxis": {
            "gridcolor": "white",
            "linecolor": "white",
            "ticks": ""
           },
           "radialaxis": {
            "gridcolor": "white",
            "linecolor": "white",
            "ticks": ""
           }
          },
          "ternary": {
           "bgcolor": "#E5ECF6",
           "aaxis": {
            "gridcolor": "white",
            "linecolor": "white",
            "ticks": ""
           },
           "baxis": {
            "gridcolor": "white",
            "linecolor": "white",
            "ticks": ""
           },
           "caxis": {
            "gridcolor": "white",
            "linecolor": "white",
            "ticks": ""
           }
          },
          "coloraxis": {
           "colorbar": {
            "outlinewidth": 0,
            "ticks": ""
           }
          },
          "colorscale": {
           "sequential": [
            [
             0.0,
             "#0d0887"
            ],
            [
             0.1111111111111111,
             "#46039f"
            ],
            [
             0.2222222222222222,
             "#7201a8"
            ],
            [
             0.3333333333333333,
             "#9c179e"
            ],
            [
             0.4444444444444444,
             "#bd3786"
            ],
            [
             0.5555555555555556,
             "#d8576b"
            ],
            [
             0.6666666666666666,
             "#ed7953"
            ],
            [
             0.7777777777777778,
             "#fb9f3a"
            ],
            [
             0.8888888888888888,
             "#fdca26"
            ],
            [
             1.0,
             "#f0f921"
            ]
           ],
           "sequentialminus": [
            [
             0.0,
             "#0d0887"
            ],
            [
             0.1111111111111111,
             "#46039f"
            ],
            [
             0.2222222222222222,
             "#7201a8"
            ],
            [
             0.3333333333333333,
             "#9c179e"
            ],
            [
             0.4444444444444444,
             "#bd3786"
            ],
            [
             0.5555555555555556,
             "#d8576b"
            ],
            [
             0.6666666666666666,
             "#ed7953"
            ],
            [
             0.7777777777777778,
             "#fb9f3a"
            ],
            [
             0.8888888888888888,
             "#fdca26"
            ],
            [
             1.0,
             "#f0f921"
            ]
           ],
           "diverging": [
            [
             0,
             "#8e0152"
            ],
            [
             0.1,
             "#c51b7d"
            ],
            [
             0.2,
             "#de77ae"
            ],
            [
             0.3,
             "#f1b6da"
            ],
            [
             0.4,
             "#fde0ef"
            ],
            [
             0.5,
             "#f7f7f7"
            ],
            [
             0.6,
             "#e6f5d0"
            ],
            [
             0.7,
             "#b8e186"
            ],
            [
             0.8,
             "#7fbc41"
            ],
            [
             0.9,
             "#4d9221"
            ],
            [
             1,
             "#276419"
            ]
           ]
          },
          "xaxis": {
           "gridcolor": "white",
           "linecolor": "white",
           "ticks": "",
           "title": {
            "standoff": 15
           },
           "zerolinecolor": "white",
           "automargin": true,
           "zerolinewidth": 2
          },
          "yaxis": {
           "gridcolor": "white",
           "linecolor": "white",
           "ticks": "",
           "title": {
            "standoff": 15
           },
           "zerolinecolor": "white",
           "automargin": true,
           "zerolinewidth": 2
          },
          "scene": {
           "xaxis": {
            "backgroundcolor": "#E5ECF6",
            "gridcolor": "white",
            "linecolor": "white",
            "showbackground": true,
            "ticks": "",
            "zerolinecolor": "white",
            "gridwidth": 2
           },
           "yaxis": {
            "backgroundcolor": "#E5ECF6",
            "gridcolor": "white",
            "linecolor": "white",
            "showbackground": true,
            "ticks": "",
            "zerolinecolor": "white",
            "gridwidth": 2
           },
           "zaxis": {
            "backgroundcolor": "#E5ECF6",
            "gridcolor": "white",
            "linecolor": "white",
            "showbackground": true,
            "ticks": "",
            "zerolinecolor": "white",
            "gridwidth": 2
           }
          },
          "shapedefaults": {
           "line": {
            "color": "#2a3f5f"
           }
          },
          "annotationdefaults": {
           "arrowcolor": "#2a3f5f",
           "arrowhead": 0,
           "arrowwidth": 1
          },
          "geo": {
           "bgcolor": "white",
           "landcolor": "#E5ECF6",
           "subunitcolor": "white",
           "showland": true,
           "showlakes": true,
           "lakecolor": "white"
          },
          "title": {
           "x": 0.05
          },
          "mapbox": {
           "style": "light"
          }
         }
        },
        "xaxis": {
         "anchor": "y",
         "domain": [
          0.0,
          1.0
         ],
         "title": {
          "text": "Équipe"
         },
         "categoryorder": "array",
         "categoryarray": [
          "Botswana",
          "Burundi",
          "Mauritius",
          "Mozambique",
          "Niger",
          "Tanzania",
          "Namibia",
          "Comoros",
          "Uganda",
          "Guinea-Bissau"
         ],
         "tickangle": 45,
         "tickmode": "array",
         "tickvals": [
          0,
          1,
          2,
          3,
          4,
          5,
          6,
          7,
          8,
          9
         ],
         "ticktext": [
          "Botswana",
          "Burundi",
          "Mauritius",
          "Mozambique",
          "Niger",
          "Tanzania",
          "Namibia",
          "Comoros",
          "Uganda",
          "Guinea-Bissau"
         ]
        },
        "yaxis": {
         "anchor": "x",
         "domain": [
          0.0,
          1.0
         ],
         "title": {
          "text": "Pourcentage de défaites"
         }
        },
        "legend": {
         "title": {
          "text": "Équipe"
         },
         "tracegroupgap": 0
        },
        "title": {
         "text": "Top 10 des équipes avec le plus haut pourcentage de défaites"
        },
        "barmode": "relative",
        "height": 500
       },
       "config": {
        "plotlyServerURL": "https://plot.ly"
       }
      },
      "text/html": "<div>                            <div id=\"d3ede0a9-f7bc-4a36-a5aa-5037e60f8caa\" class=\"plotly-graph-div\" style=\"height:500px; width:100%;\"></div>            <script type=\"text/javascript\">                require([\"plotly\"], function(Plotly) {                    window.PLOTLYENV=window.PLOTLYENV || {};                                    if (document.getElementById(\"d3ede0a9-f7bc-4a36-a5aa-5037e60f8caa\")) {                    Plotly.newPlot(                        \"d3ede0a9-f7bc-4a36-a5aa-5037e60f8caa\",                        [{\"alignmentgroup\":\"True\",\"hovertemplate\":\"\\u00c9quipe=%{x}<br>Pourcentage de d\\u00e9faites=%{text}<extra></extra>\",\"legendgroup\":\"Botswana\",\"marker\":{\"color\":\"skyblue\",\"pattern\":{\"shape\":\"\"},\"line\":{\"color\":\"black\",\"width\":1.5}},\"name\":\"Botswana\",\"offsetgroup\":\"Botswana\",\"orientation\":\"v\",\"showlegend\":true,\"text\":[100.0],\"textposition\":\"outside\",\"x\":[\"Botswana\"],\"xaxis\":\"x\",\"y\":[100.0],\"yaxis\":\"y\",\"type\":\"bar\"},{\"alignmentgroup\":\"True\",\"hovertemplate\":\"\\u00c9quipe=%{x}<br>Pourcentage de d\\u00e9faites=%{text}<extra></extra>\",\"legendgroup\":\"Burundi\",\"marker\":{\"color\":\"lightcoral\",\"pattern\":{\"shape\":\"\"},\"line\":{\"color\":\"black\",\"width\":1.5}},\"name\":\"Burundi\",\"offsetgroup\":\"Burundi\",\"orientation\":\"v\",\"showlegend\":true,\"text\":[100.0],\"textposition\":\"outside\",\"x\":[\"Burundi\"],\"xaxis\":\"x\",\"y\":[100.0],\"yaxis\":\"y\",\"type\":\"bar\"},{\"alignmentgroup\":\"True\",\"hovertemplate\":\"\\u00c9quipe=%{x}<br>Pourcentage de d\\u00e9faites=%{text}<extra></extra>\",\"legendgroup\":\"Mauritius\",\"marker\":{\"color\":\"lightgreen\",\"pattern\":{\"shape\":\"\"},\"line\":{\"color\":\"black\",\"width\":1.5}},\"name\":\"Mauritius\",\"offsetgroup\":\"Mauritius\",\"orientation\":\"v\",\"showlegend\":true,\"text\":[100.0],\"textposition\":\"outside\",\"x\":[\"Mauritius\"],\"xaxis\":\"x\",\"y\":[100.0],\"yaxis\":\"y\",\"type\":\"bar\"},{\"alignmentgroup\":\"True\",\"hovertemplate\":\"\\u00c9quipe=%{x}<br>Pourcentage de d\\u00e9faites=%{text}<extra></extra>\",\"legendgroup\":\"Mozambique\",\"marker\":{\"color\":\"gold\",\"pattern\":{\"shape\":\"\"},\"line\":{\"color\":\"black\",\"width\":1.5}},\"name\":\"Mozambique\",\"offsetgroup\":\"Mozambique\",\"orientation\":\"v\",\"showlegend\":true,\"text\":[83.33],\"textposition\":\"outside\",\"x\":[\"Mozambique\"],\"xaxis\":\"x\",\"y\":[83.33],\"yaxis\":\"y\",\"type\":\"bar\"},{\"alignmentgroup\":\"True\",\"hovertemplate\":\"\\u00c9quipe=%{x}<br>Pourcentage de d\\u00e9faites=%{text}<extra></extra>\",\"legendgroup\":\"Niger\",\"marker\":{\"color\":\"lightsalmon\",\"pattern\":{\"shape\":\"\"},\"line\":{\"color\":\"black\",\"width\":1.5}},\"name\":\"Niger\",\"offsetgroup\":\"Niger\",\"orientation\":\"v\",\"showlegend\":true,\"text\":[83.33],\"textposition\":\"outside\",\"x\":[\"Niger\"],\"xaxis\":\"x\",\"y\":[83.33],\"yaxis\":\"y\",\"type\":\"bar\"},{\"alignmentgroup\":\"True\",\"hovertemplate\":\"\\u00c9quipe=%{x}<br>Pourcentage de d\\u00e9faites=%{text}<extra></extra>\",\"legendgroup\":\"Tanzania\",\"marker\":{\"color\":\"lightsteelblue\",\"pattern\":{\"shape\":\"\"},\"line\":{\"color\":\"black\",\"width\":1.5}},\"name\":\"Tanzania\",\"offsetgroup\":\"Tanzania\",\"orientation\":\"v\",\"showlegend\":true,\"text\":[83.33],\"textposition\":\"outside\",\"x\":[\"Tanzania\"],\"xaxis\":\"x\",\"y\":[83.33],\"yaxis\":\"y\",\"type\":\"bar\"},{\"alignmentgroup\":\"True\",\"hovertemplate\":\"\\u00c9quipe=%{x}<br>Pourcentage de d\\u00e9faites=%{text}<extra></extra>\",\"legendgroup\":\"Namibia\",\"marker\":{\"color\":\"lightpink\",\"pattern\":{\"shape\":\"\"},\"line\":{\"color\":\"black\",\"width\":1.5}},\"name\":\"Namibia\",\"offsetgroup\":\"Namibia\",\"orientation\":\"v\",\"showlegend\":true,\"text\":[77.78],\"textposition\":\"outside\",\"x\":[\"Namibia\"],\"xaxis\":\"x\",\"y\":[77.78],\"yaxis\":\"y\",\"type\":\"bar\"},{\"alignmentgroup\":\"True\",\"hovertemplate\":\"\\u00c9quipe=%{x}<br>Pourcentage de d\\u00e9faites=%{text}<extra></extra>\",\"legendgroup\":\"Comoros\",\"marker\":{\"color\":\"lightseagreen\",\"pattern\":{\"shape\":\"\"},\"line\":{\"color\":\"black\",\"width\":1.5}},\"name\":\"Comoros\",\"offsetgroup\":\"Comoros\",\"orientation\":\"v\",\"showlegend\":true,\"text\":[75.0],\"textposition\":\"outside\",\"x\":[\"Comoros\"],\"xaxis\":\"x\",\"y\":[75.0],\"yaxis\":\"y\",\"type\":\"bar\"},{\"alignmentgroup\":\"True\",\"hovertemplate\":\"\\u00c9quipe=%{x}<br>Pourcentage de d\\u00e9faites=%{text}<extra></extra>\",\"legendgroup\":\"Uganda\",\"marker\":{\"color\":\"lightcyan\",\"pattern\":{\"shape\":\"\"},\"line\":{\"color\":\"black\",\"width\":1.5}},\"name\":\"Uganda\",\"offsetgroup\":\"Uganda\",\"orientation\":\"v\",\"showlegend\":true,\"text\":[69.57],\"textposition\":\"outside\",\"x\":[\"Uganda\"],\"xaxis\":\"x\",\"y\":[69.57],\"yaxis\":\"y\",\"type\":\"bar\"},{\"alignmentgroup\":\"True\",\"hovertemplate\":\"\\u00c9quipe=%{x}<br>Pourcentage de d\\u00e9faites=%{text}<extra></extra>\",\"legendgroup\":\"Guinea-Bissau\",\"marker\":{\"color\":\"yellow\",\"pattern\":{\"shape\":\"\"},\"line\":{\"color\":\"black\",\"width\":1.5}},\"name\":\"Guinea-Bissau\",\"offsetgroup\":\"Guinea-Bissau\",\"orientation\":\"v\",\"showlegend\":true,\"text\":[66.67],\"textposition\":\"outside\",\"x\":[\"Guinea-Bissau\"],\"xaxis\":\"x\",\"y\":[66.67],\"yaxis\":\"y\",\"type\":\"bar\"}],                        {\"template\":{\"data\":{\"histogram2dcontour\":[{\"type\":\"histogram2dcontour\",\"colorbar\":{\"outlinewidth\":0,\"ticks\":\"\"},\"colorscale\":[[0.0,\"#0d0887\"],[0.1111111111111111,\"#46039f\"],[0.2222222222222222,\"#7201a8\"],[0.3333333333333333,\"#9c179e\"],[0.4444444444444444,\"#bd3786\"],[0.5555555555555556,\"#d8576b\"],[0.6666666666666666,\"#ed7953\"],[0.7777777777777778,\"#fb9f3a\"],[0.8888888888888888,\"#fdca26\"],[1.0,\"#f0f921\"]]}],\"choropleth\":[{\"type\":\"choropleth\",\"colorbar\":{\"outlinewidth\":0,\"ticks\":\"\"}}],\"histogram2d\":[{\"type\":\"histogram2d\",\"colorbar\":{\"outlinewidth\":0,\"ticks\":\"\"},\"colorscale\":[[0.0,\"#0d0887\"],[0.1111111111111111,\"#46039f\"],[0.2222222222222222,\"#7201a8\"],[0.3333333333333333,\"#9c179e\"],[0.4444444444444444,\"#bd3786\"],[0.5555555555555556,\"#d8576b\"],[0.6666666666666666,\"#ed7953\"],[0.7777777777777778,\"#fb9f3a\"],[0.8888888888888888,\"#fdca26\"],[1.0,\"#f0f921\"]]}],\"heatmap\":[{\"type\":\"heatmap\",\"colorbar\":{\"outlinewidth\":0,\"ticks\":\"\"},\"colorscale\":[[0.0,\"#0d0887\"],[0.1111111111111111,\"#46039f\"],[0.2222222222222222,\"#7201a8\"],[0.3333333333333333,\"#9c179e\"],[0.4444444444444444,\"#bd3786\"],[0.5555555555555556,\"#d8576b\"],[0.6666666666666666,\"#ed7953\"],[0.7777777777777778,\"#fb9f3a\"],[0.8888888888888888,\"#fdca26\"],[1.0,\"#f0f921\"]]}],\"heatmapgl\":[{\"type\":\"heatmapgl\",\"colorbar\":{\"outlinewidth\":0,\"ticks\":\"\"},\"colorscale\":[[0.0,\"#0d0887\"],[0.1111111111111111,\"#46039f\"],[0.2222222222222222,\"#7201a8\"],[0.3333333333333333,\"#9c179e\"],[0.4444444444444444,\"#bd3786\"],[0.5555555555555556,\"#d8576b\"],[0.6666666666666666,\"#ed7953\"],[0.7777777777777778,\"#fb9f3a\"],[0.8888888888888888,\"#fdca26\"],[1.0,\"#f0f921\"]]}],\"contourcarpet\":[{\"type\":\"contourcarpet\",\"colorbar\":{\"outlinewidth\":0,\"ticks\":\"\"}}],\"contour\":[{\"type\":\"contour\",\"colorbar\":{\"outlinewidth\":0,\"ticks\":\"\"},\"colorscale\":[[0.0,\"#0d0887\"],[0.1111111111111111,\"#46039f\"],[0.2222222222222222,\"#7201a8\"],[0.3333333333333333,\"#9c179e\"],[0.4444444444444444,\"#bd3786\"],[0.5555555555555556,\"#d8576b\"],[0.6666666666666666,\"#ed7953\"],[0.7777777777777778,\"#fb9f3a\"],[0.8888888888888888,\"#fdca26\"],[1.0,\"#f0f921\"]]}],\"surface\":[{\"type\":\"surface\",\"colorbar\":{\"outlinewidth\":0,\"ticks\":\"\"},\"colorscale\":[[0.0,\"#0d0887\"],[0.1111111111111111,\"#46039f\"],[0.2222222222222222,\"#7201a8\"],[0.3333333333333333,\"#9c179e\"],[0.4444444444444444,\"#bd3786\"],[0.5555555555555556,\"#d8576b\"],[0.6666666666666666,\"#ed7953\"],[0.7777777777777778,\"#fb9f3a\"],[0.8888888888888888,\"#fdca26\"],[1.0,\"#f0f921\"]]}],\"mesh3d\":[{\"type\":\"mesh3d\",\"colorbar\":{\"outlinewidth\":0,\"ticks\":\"\"}}],\"scatter\":[{\"fillpattern\":{\"fillmode\":\"overlay\",\"size\":10,\"solidity\":0.2},\"type\":\"scatter\"}],\"parcoords\":[{\"type\":\"parcoords\",\"line\":{\"colorbar\":{\"outlinewidth\":0,\"ticks\":\"\"}}}],\"scatterpolargl\":[{\"type\":\"scatterpolargl\",\"marker\":{\"colorbar\":{\"outlinewidth\":0,\"ticks\":\"\"}}}],\"bar\":[{\"error_x\":{\"color\":\"#2a3f5f\"},\"error_y\":{\"color\":\"#2a3f5f\"},\"marker\":{\"line\":{\"color\":\"#E5ECF6\",\"width\":0.5},\"pattern\":{\"fillmode\":\"overlay\",\"size\":10,\"solidity\":0.2}},\"type\":\"bar\"}],\"scattergeo\":[{\"type\":\"scattergeo\",\"marker\":{\"colorbar\":{\"outlinewidth\":0,\"ticks\":\"\"}}}],\"scatterpolar\":[{\"type\":\"scatterpolar\",\"marker\":{\"colorbar\":{\"outlinewidth\":0,\"ticks\":\"\"}}}],\"histogram\":[{\"marker\":{\"pattern\":{\"fillmode\":\"overlay\",\"size\":10,\"solidity\":0.2}},\"type\":\"histogram\"}],\"scattergl\":[{\"type\":\"scattergl\",\"marker\":{\"colorbar\":{\"outlinewidth\":0,\"ticks\":\"\"}}}],\"scatter3d\":[{\"type\":\"scatter3d\",\"line\":{\"colorbar\":{\"outlinewidth\":0,\"ticks\":\"\"}},\"marker\":{\"colorbar\":{\"outlinewidth\":0,\"ticks\":\"\"}}}],\"scattermapbox\":[{\"type\":\"scattermapbox\",\"marker\":{\"colorbar\":{\"outlinewidth\":0,\"ticks\":\"\"}}}],\"scatterternary\":[{\"type\":\"scatterternary\",\"marker\":{\"colorbar\":{\"outlinewidth\":0,\"ticks\":\"\"}}}],\"scattercarpet\":[{\"type\":\"scattercarpet\",\"marker\":{\"colorbar\":{\"outlinewidth\":0,\"ticks\":\"\"}}}],\"carpet\":[{\"aaxis\":{\"endlinecolor\":\"#2a3f5f\",\"gridcolor\":\"white\",\"linecolor\":\"white\",\"minorgridcolor\":\"white\",\"startlinecolor\":\"#2a3f5f\"},\"baxis\":{\"endlinecolor\":\"#2a3f5f\",\"gridcolor\":\"white\",\"linecolor\":\"white\",\"minorgridcolor\":\"white\",\"startlinecolor\":\"#2a3f5f\"},\"type\":\"carpet\"}],\"table\":[{\"cells\":{\"fill\":{\"color\":\"#EBF0F8\"},\"line\":{\"color\":\"white\"}},\"header\":{\"fill\":{\"color\":\"#C8D4E3\"},\"line\":{\"color\":\"white\"}},\"type\":\"table\"}],\"barpolar\":[{\"marker\":{\"line\":{\"color\":\"#E5ECF6\",\"width\":0.5},\"pattern\":{\"fillmode\":\"overlay\",\"size\":10,\"solidity\":0.2}},\"type\":\"barpolar\"}],\"pie\":[{\"automargin\":true,\"type\":\"pie\"}]},\"layout\":{\"autotypenumbers\":\"strict\",\"colorway\":[\"#636efa\",\"#EF553B\",\"#00cc96\",\"#ab63fa\",\"#FFA15A\",\"#19d3f3\",\"#FF6692\",\"#B6E880\",\"#FF97FF\",\"#FECB52\"],\"font\":{\"color\":\"#2a3f5f\"},\"hovermode\":\"closest\",\"hoverlabel\":{\"align\":\"left\"},\"paper_bgcolor\":\"white\",\"plot_bgcolor\":\"#E5ECF6\",\"polar\":{\"bgcolor\":\"#E5ECF6\",\"angularaxis\":{\"gridcolor\":\"white\",\"linecolor\":\"white\",\"ticks\":\"\"},\"radialaxis\":{\"gridcolor\":\"white\",\"linecolor\":\"white\",\"ticks\":\"\"}},\"ternary\":{\"bgcolor\":\"#E5ECF6\",\"aaxis\":{\"gridcolor\":\"white\",\"linecolor\":\"white\",\"ticks\":\"\"},\"baxis\":{\"gridcolor\":\"white\",\"linecolor\":\"white\",\"ticks\":\"\"},\"caxis\":{\"gridcolor\":\"white\",\"linecolor\":\"white\",\"ticks\":\"\"}},\"coloraxis\":{\"colorbar\":{\"outlinewidth\":0,\"ticks\":\"\"}},\"colorscale\":{\"sequential\":[[0.0,\"#0d0887\"],[0.1111111111111111,\"#46039f\"],[0.2222222222222222,\"#7201a8\"],[0.3333333333333333,\"#9c179e\"],[0.4444444444444444,\"#bd3786\"],[0.5555555555555556,\"#d8576b\"],[0.6666666666666666,\"#ed7953\"],[0.7777777777777778,\"#fb9f3a\"],[0.8888888888888888,\"#fdca26\"],[1.0,\"#f0f921\"]],\"sequentialminus\":[[0.0,\"#0d0887\"],[0.1111111111111111,\"#46039f\"],[0.2222222222222222,\"#7201a8\"],[0.3333333333333333,\"#9c179e\"],[0.4444444444444444,\"#bd3786\"],[0.5555555555555556,\"#d8576b\"],[0.6666666666666666,\"#ed7953\"],[0.7777777777777778,\"#fb9f3a\"],[0.8888888888888888,\"#fdca26\"],[1.0,\"#f0f921\"]],\"diverging\":[[0,\"#8e0152\"],[0.1,\"#c51b7d\"],[0.2,\"#de77ae\"],[0.3,\"#f1b6da\"],[0.4,\"#fde0ef\"],[0.5,\"#f7f7f7\"],[0.6,\"#e6f5d0\"],[0.7,\"#b8e186\"],[0.8,\"#7fbc41\"],[0.9,\"#4d9221\"],[1,\"#276419\"]]},\"xaxis\":{\"gridcolor\":\"white\",\"linecolor\":\"white\",\"ticks\":\"\",\"title\":{\"standoff\":15},\"zerolinecolor\":\"white\",\"automargin\":true,\"zerolinewidth\":2},\"yaxis\":{\"gridcolor\":\"white\",\"linecolor\":\"white\",\"ticks\":\"\",\"title\":{\"standoff\":15},\"zerolinecolor\":\"white\",\"automargin\":true,\"zerolinewidth\":2},\"scene\":{\"xaxis\":{\"backgroundcolor\":\"#E5ECF6\",\"gridcolor\":\"white\",\"linecolor\":\"white\",\"showbackground\":true,\"ticks\":\"\",\"zerolinecolor\":\"white\",\"gridwidth\":2},\"yaxis\":{\"backgroundcolor\":\"#E5ECF6\",\"gridcolor\":\"white\",\"linecolor\":\"white\",\"showbackground\":true,\"ticks\":\"\",\"zerolinecolor\":\"white\",\"gridwidth\":2},\"zaxis\":{\"backgroundcolor\":\"#E5ECF6\",\"gridcolor\":\"white\",\"linecolor\":\"white\",\"showbackground\":true,\"ticks\":\"\",\"zerolinecolor\":\"white\",\"gridwidth\":2}},\"shapedefaults\":{\"line\":{\"color\":\"#2a3f5f\"}},\"annotationdefaults\":{\"arrowcolor\":\"#2a3f5f\",\"arrowhead\":0,\"arrowwidth\":1},\"geo\":{\"bgcolor\":\"white\",\"landcolor\":\"#E5ECF6\",\"subunitcolor\":\"white\",\"showland\":true,\"showlakes\":true,\"lakecolor\":\"white\"},\"title\":{\"x\":0.05},\"mapbox\":{\"style\":\"light\"}}},\"xaxis\":{\"anchor\":\"y\",\"domain\":[0.0,1.0],\"title\":{\"text\":\"\\u00c9quipe\"},\"categoryorder\":\"array\",\"categoryarray\":[\"Botswana\",\"Burundi\",\"Mauritius\",\"Mozambique\",\"Niger\",\"Tanzania\",\"Namibia\",\"Comoros\",\"Uganda\",\"Guinea-Bissau\"],\"tickangle\":45,\"tickmode\":\"array\",\"tickvals\":[0,1,2,3,4,5,6,7,8,9],\"ticktext\":[\"Botswana\",\"Burundi\",\"Mauritius\",\"Mozambique\",\"Niger\",\"Tanzania\",\"Namibia\",\"Comoros\",\"Uganda\",\"Guinea-Bissau\"]},\"yaxis\":{\"anchor\":\"x\",\"domain\":[0.0,1.0],\"title\":{\"text\":\"Pourcentage de d\\u00e9faites\"}},\"legend\":{\"title\":{\"text\":\"\\u00c9quipe\"},\"tracegroupgap\":0},\"title\":{\"text\":\"Top 10 des \\u00e9quipes avec le plus haut pourcentage de d\\u00e9faites\"},\"barmode\":\"relative\",\"height\":500},                        {\"responsive\": true}                    ).then(function(){\n                            \nvar gd = document.getElementById('d3ede0a9-f7bc-4a36-a5aa-5037e60f8caa');\nvar x = new MutationObserver(function (mutations, observer) {{\n        var display = window.getComputedStyle(gd).display;\n        if (!display || display === 'none') {{\n            console.log([gd, 'removed!']);\n            Plotly.purge(gd);\n            observer.disconnect();\n        }}\n}});\n\n// Listen for the removal of the full notebook cells\nvar notebookContainer = gd.closest('#notebook-container');\nif (notebookContainer) {{\n    x.observe(notebookContainer, {childList: true});\n}}\n\n// Listen for the clearing of the current output cell\nvar outputEl = gd.closest('.output');\nif (outputEl) {{\n    x.observe(outputEl, {childList: true});\n}}\n\n                        })                };                });            </script>        </div>"
     },
     "metadata": {},
     "output_type": "display_data"
    }
   ],
   "source": [
    "# Pourcentage de défaites\n",
    "loss_percentage = (total_loss / total_games) * 100\n",
    "\n",
    "# Les 10 équipes avec les plus grands pourcentages de défaites\n",
    "top_10_loss_percentage = loss_percentage.nlargest(10).reset_index()\n",
    "top_10_loss_percentage.columns = ['Équipe', 'Pourcentage de défaites']\n",
    "\n",
    "top_10_loss_percentage['Pourcentage de défaites'] = top_10_loss_percentage['Pourcentage de défaites'].round(2)\n",
    "\n",
    "# Tracer le graphique avec Plotly\n",
    "fig = px.bar(top_10_loss_percentage, x='Équipe', y='Pourcentage de défaites',\n",
    "             title='Top 10 des équipes avec le plus haut pourcentage de défaites',\n",
    "             labels={'Pourcentage de défaites': 'Pourcentage de défaites'},\n",
    "             text='Pourcentage de défaites',\n",
    "             height=500, color='Équipe', color_discrete_sequence=colors)\n",
    "\n",
    "# Personnaliser l'apparence\n",
    "fig.update_traces(marker_line_color='black', marker_line_width=1.5, textposition='outside')\n",
    "fig.update_layout(xaxis=dict(tickangle=45, tickmode='array', tickvals=list(range(10)), ticktext=top_10_loss_percentage['Équipe']))\n",
    "\n",
    "# Afficher le graphique\n",
    "fig.show()"
   ],
   "metadata": {
    "collapsed": false,
    "ExecuteTime": {
     "end_time": "2023-12-29T03:27:22.982838900Z",
     "start_time": "2023-12-29T03:27:22.492981400Z"
    }
   },
   "id": "fa9444e538bf9ec0",
   "execution_count": 110
  },
  {
   "cell_type": "code",
   "outputs": [
    {
     "data": {
      "text/plain": "Egypt          107\nGhana          102\nIvory Coast     99\nNigeria         96\nCameroon        91\nTunisia         79\nAlgeria         77\nDR Congo        73\nMorocco         70\nZambia          67\ndtype: int64"
     },
     "execution_count": 111,
     "metadata": {},
     "output_type": "execute_result"
    }
   ],
   "source": [
    "# Les équipes qui ont joué le plus de matchs dans la compétition\n",
    "total_games = total_games.sort_values(ascending=False)\n",
    "top_10_games = total_games.head(10)\n",
    "\n",
    "top_10_games"
   ],
   "metadata": {
    "collapsed": false,
    "ExecuteTime": {
     "end_time": "2023-12-29T03:27:23.067813300Z",
     "start_time": "2023-12-29T03:27:22.799317800Z"
    }
   },
   "id": "6a7f99653e99a48e",
   "execution_count": 111
  },
  {
   "cell_type": "code",
   "outputs": [
    {
     "data": {
      "text/plain": "pandas.core.series.Series"
     },
     "execution_count": 112,
     "metadata": {},
     "output_type": "execute_result"
    }
   ],
   "source": [
    "type(top_10_games)"
   ],
   "metadata": {
    "collapsed": false,
    "ExecuteTime": {
     "end_time": "2023-12-29T03:27:23.122745600Z",
     "start_time": "2023-12-29T03:27:22.831110800Z"
    }
   },
   "id": "a0461c8999f413d5",
   "execution_count": 112
  },
  {
   "cell_type": "code",
   "outputs": [
    {
     "name": "stdout",
     "output_type": "stream",
     "text": [
      "<class 'pandas.core.frame.DataFrame'>\n",
      "Int64Index: 741 entries, 4099 to 43562\n",
      "Data columns (total 12 columns):\n",
      " #   Column      Non-Null Count  Dtype \n",
      "---  ------      --------------  ----- \n",
      " 0   date        741 non-null    object\n",
      " 1   home_team   741 non-null    object\n",
      " 2   away_team   741 non-null    object\n",
      " 3   home_score  741 non-null    int64 \n",
      " 4   away_score  741 non-null    int64 \n",
      " 5   city        741 non-null    object\n",
      " 6   country     741 non-null    object\n",
      " 7   neutral     741 non-null    bool  \n",
      " 8   home_win    741 non-null    bool  \n",
      " 9   away_win    741 non-null    bool  \n",
      " 10  home_loss   741 non-null    bool  \n",
      " 11  away_loss   741 non-null    bool  \n",
      "dtypes: bool(5), int64(2), object(5)\n",
      "memory usage: 49.9+ KB\n"
     ]
    }
   ],
   "source": [
    "df.info()"
   ],
   "metadata": {
    "collapsed": false,
    "ExecuteTime": {
     "end_time": "2023-12-29T03:27:23.173390900Z",
     "start_time": "2023-12-29T03:27:22.864983500Z"
    }
   },
   "id": "42e4a8f021a4ff3e",
   "execution_count": 113
  },
  {
   "cell_type": "code",
   "outputs": [],
   "source": [
    "df[\"date\"] = pd.to_datetime(df[\"date\"])"
   ],
   "metadata": {
    "collapsed": false,
    "ExecuteTime": {
     "end_time": "2023-12-29T03:27:23.255033500Z",
     "start_time": "2023-12-29T03:27:23.006263500Z"
    }
   },
   "id": "d2ec737daa45512",
   "execution_count": 114
  },
  {
   "cell_type": "code",
   "outputs": [
    {
     "name": "stdout",
     "output_type": "stream",
     "text": [
      "<class 'pandas.core.frame.DataFrame'>\n",
      "Int64Index: 741 entries, 4099 to 43562\n",
      "Data columns (total 12 columns):\n",
      " #   Column      Non-Null Count  Dtype         \n",
      "---  ------      --------------  -----         \n",
      " 0   date        741 non-null    datetime64[ns]\n",
      " 1   home_team   741 non-null    object        \n",
      " 2   away_team   741 non-null    object        \n",
      " 3   home_score  741 non-null    int64         \n",
      " 4   away_score  741 non-null    int64         \n",
      " 5   city        741 non-null    object        \n",
      " 6   country     741 non-null    object        \n",
      " 7   neutral     741 non-null    bool          \n",
      " 8   home_win    741 non-null    bool          \n",
      " 9   away_win    741 non-null    bool          \n",
      " 10  home_loss   741 non-null    bool          \n",
      " 11  away_loss   741 non-null    bool          \n",
      "dtypes: bool(5), datetime64[ns](1), int64(2), object(4)\n",
      "memory usage: 49.9+ KB\n"
     ]
    }
   ],
   "source": [
    "df.info()"
   ],
   "metadata": {
    "collapsed": false,
    "ExecuteTime": {
     "end_time": "2023-12-29T03:27:23.530949100Z",
     "start_time": "2023-12-29T03:27:23.215157800Z"
    }
   },
   "id": "a7f66299a19e83b0",
   "execution_count": 115
  },
  {
   "cell_type": "code",
   "outputs": [],
   "source": [
    "# Créer une nouvelle colonne avec l'année de la CAN\n",
    "df[\"year\"] = df[\"date\"].dt.year"
   ],
   "metadata": {
    "collapsed": false,
    "ExecuteTime": {
     "end_time": "2023-12-29T03:27:23.716476800Z",
     "start_time": "2023-12-29T03:27:23.498905900Z"
    }
   },
   "id": "4f19cbe3bff720c0",
   "execution_count": 116
  },
  {
   "cell_type": "code",
   "outputs": [
    {
     "data": {
      "text/plain": "array([1957, 1959, 1962, 1963, 1965, 1968, 1970, 1972, 1974, 1976, 1978,\n       1980, 1982, 1984, 1986, 1988, 1990, 1992, 1994, 1996, 1998, 2000,\n       2002, 2004, 2006, 2008, 2010, 2012, 2013, 2015, 2017, 2019, 2022],\n      dtype=int64)"
     },
     "execution_count": 117,
     "metadata": {},
     "output_type": "execute_result"
    }
   ],
   "source": [
    "df[\"year\"].unique()"
   ],
   "metadata": {
    "collapsed": false,
    "ExecuteTime": {
     "end_time": "2023-12-29T03:27:23.903611200Z",
     "start_time": "2023-12-29T03:27:23.601884700Z"
    }
   },
   "id": "7061dea8cf7cd9d",
   "execution_count": 117
  },
  {
   "cell_type": "code",
   "outputs": [
    {
     "data": {
      "text/plain": "           team  year\n4099      Sudan  1957\n4100      Egypt  1957\n4539      Egypt  1959\n4542   Ethiopia  1959\n5076   Ethiopia  1962\n...         ...   ...\n32293     Benin  2010\n32295   Tunisia  2010\n34229    Angola  2012\n34235   Tunisia  2012\n34237    Guinea  2012\n\n[380 rows x 2 columns]",
      "text/html": "<div>\n<style scoped>\n    .dataframe tbody tr th:only-of-type {\n        vertical-align: middle;\n    }\n\n    .dataframe tbody tr th {\n        vertical-align: top;\n    }\n\n    .dataframe thead th {\n        text-align: right;\n    }\n</style>\n<table border=\"1\" class=\"dataframe\">\n  <thead>\n    <tr style=\"text-align: right;\">\n      <th></th>\n      <th>team</th>\n      <th>year</th>\n    </tr>\n  </thead>\n  <tbody>\n    <tr>\n      <th>4099</th>\n      <td>Sudan</td>\n      <td>1957</td>\n    </tr>\n    <tr>\n      <th>4100</th>\n      <td>Egypt</td>\n      <td>1957</td>\n    </tr>\n    <tr>\n      <th>4539</th>\n      <td>Egypt</td>\n      <td>1959</td>\n    </tr>\n    <tr>\n      <th>4542</th>\n      <td>Ethiopia</td>\n      <td>1959</td>\n    </tr>\n    <tr>\n      <th>5076</th>\n      <td>Ethiopia</td>\n      <td>1962</td>\n    </tr>\n    <tr>\n      <th>...</th>\n      <td>...</td>\n      <td>...</td>\n    </tr>\n    <tr>\n      <th>32293</th>\n      <td>Benin</td>\n      <td>2010</td>\n    </tr>\n    <tr>\n      <th>32295</th>\n      <td>Tunisia</td>\n      <td>2010</td>\n    </tr>\n    <tr>\n      <th>34229</th>\n      <td>Angola</td>\n      <td>2012</td>\n    </tr>\n    <tr>\n      <th>34235</th>\n      <td>Tunisia</td>\n      <td>2012</td>\n    </tr>\n    <tr>\n      <th>34237</th>\n      <td>Guinea</td>\n      <td>2012</td>\n    </tr>\n  </tbody>\n</table>\n<p>380 rows × 2 columns</p>\n</div>"
     },
     "execution_count": 118,
     "metadata": {},
     "output_type": "execute_result"
    }
   ],
   "source": [
    "# Constitution d'un df avec les équipes et le nombre d'éditions auxquels ils ont participé \n",
    "unique_home_teams_and_years = df[[\"home_team\", \"year\"]].drop_duplicates()\n",
    "unique_home_teams_and_years.rename(columns={'home_team': 'team'}, inplace=True)\n",
    "\n",
    "unique_away_teams_and_years = df[[\"away_team\", \"year\"]].drop_duplicates()\n",
    "unique_away_teams_and_years.rename(columns={'away_team': 'team'}, inplace=True)\n",
    "\n",
    "unique_teams_and_years = (pd.concat([unique_home_teams_and_years, unique_away_teams_and_years])).drop_duplicates()\n",
    "\n",
    "unique_teams_and_years"
   ],
   "metadata": {
    "collapsed": false,
    "ExecuteTime": {
     "end_time": "2023-12-29T03:27:24.046312400Z",
     "start_time": "2023-12-29T03:27:23.801550200Z"
    }
   },
   "id": "ac43064ecce17f00",
   "execution_count": 118
  },
  {
   "cell_type": "code",
   "outputs": [
    {
     "data": {
      "text/plain": "{'Egypt': 25,\n 'Ivory Coast': 24,\n 'Ghana': 23,\n 'Tunisia': 20,\n 'Cameroon': 20,\n 'Nigeria': 19,\n 'DR Congo': 19,\n 'Algeria': 19,\n 'Morocco': 18,\n 'Zambia': 17,\n 'Senegal': 16,\n 'Guinea': 13,\n 'Burkina Faso': 12,\n 'Mali': 12,\n 'Ethiopia': 11,\n 'South Africa': 10,\n 'Sudan': 9,\n 'Togo': 8,\n 'Gabon': 8,\n 'Angola': 8,\n 'Uganda': 7,\n 'Congo': 7,\n 'Kenya': 6,\n 'Zimbabwe': 5,\n 'Benin': 4,\n 'Mozambique': 4,\n 'Sierra Leone': 3,\n 'Malawi': 3,\n 'Libya': 3,\n 'Namibia': 3,\n 'Equatorial Guinea': 3,\n 'Cape Verde': 3,\n 'Guinea-Bissau': 3,\n 'Liberia': 2,\n 'Niger': 2,\n 'Tanzania': 2,\n 'Mauritania': 2,\n 'Burundi': 1,\n 'Comoros': 1,\n 'Mauritius': 1,\n 'Rwanda': 1,\n 'Madagascar': 1,\n 'Botswana': 1,\n 'Gambia': 1}"
     },
     "execution_count": 119,
     "metadata": {},
     "output_type": "execute_result"
    }
   ],
   "source": [
    "dict_team_nb_editions = unique_teams_and_years[\"team\"].value_counts().to_dict()\n",
    "dict_team_nb_editions"
   ],
   "metadata": {
    "collapsed": false,
    "ExecuteTime": {
     "end_time": "2023-12-29T03:27:24.204197900Z",
     "start_time": "2023-12-29T03:27:24.011983Z"
    }
   },
   "id": "4563a45f1cfcbef8",
   "execution_count": 119
  },
  {
   "cell_type": "code",
   "outputs": [
    {
     "data": {
      "text/plain": "{'Egypt': 107,\n 'Ghana': 102,\n 'Ivory Coast': 99,\n 'Nigeria': 96,\n 'Cameroon': 91,\n 'Tunisia': 79,\n 'Algeria': 77,\n 'DR Congo': 73,\n 'Morocco': 70,\n 'Zambia': 67,\n 'Senegal': 67,\n 'Mali': 54,\n 'Burkina Faso': 48,\n 'Guinea': 47,\n 'South Africa': 43,\n 'Ethiopia': 30,\n 'Sudan': 27,\n 'Congo': 26,\n 'Angola': 26,\n 'Gabon': 25,\n 'Togo': 25,\n 'Uganda': 23,\n 'Kenya': 17,\n 'Zimbabwe': 15,\n 'Equatorial Guinea': 15,\n 'Benin': 14,\n 'Mozambique': 12,\n 'Cape Verde': 11,\n 'Libya': 11,\n 'Malawi': 10,\n 'Namibia': 9,\n 'Guinea-Bissau': 9,\n 'Sierra Leone': 8,\n 'Mauritania': 6,\n 'Niger': 6,\n 'Tanzania': 6,\n 'Liberia': 5,\n 'Madagascar': 5,\n 'Gambia': 5,\n 'Comoros': 4,\n 'Botswana': 3,\n 'Rwanda': 3,\n 'Mauritius': 3,\n 'Burundi': 3}"
     },
     "execution_count": 120,
     "metadata": {},
     "output_type": "execute_result"
    }
   ],
   "source": [
    "dict_team_nb_games = total_games.to_dict()\n",
    "dict_team_nb_games"
   ],
   "metadata": {
    "collapsed": false,
    "ExecuteTime": {
     "end_time": "2023-12-29T03:27:24.286854600Z",
     "start_time": "2023-12-29T03:27:24.164329200Z"
    }
   },
   "id": "9dbf48bf0e7f935",
   "execution_count": 120
  },
  {
   "cell_type": "code",
   "outputs": [
    {
     "data": {
      "text/plain": "                   nb_editions  nb_games\nEgypt                       25       107\nIvory Coast                 24        99\nGhana                       23       102\nTunisia                     20        79\nCameroon                    20        91\nNigeria                     19        96\nDR Congo                    19        73\nAlgeria                     19        77\nMorocco                     18        70\nZambia                      17        67\nSenegal                     16        67\nGuinea                      13        47\nBurkina Faso                12        48\nMali                        12        54\nEthiopia                    11        30\nSouth Africa                10        43\nSudan                        9        27\nTogo                         8        25\nGabon                        8        25\nAngola                       8        26\nUganda                       7        23\nCongo                        7        26\nKenya                        6        17\nZimbabwe                     5        15\nBenin                        4        14\nMozambique                   4        12\nSierra Leone                 3         8\nMalawi                       3        10\nLibya                        3        11\nNamibia                      3         9\nEquatorial Guinea            3        15\nCape Verde                   3        11\nGuinea-Bissau                3         9\nLiberia                      2         5\nNiger                        2         6\nTanzania                     2         6\nMauritania                   2         6\nBurundi                      1         3\nComoros                      1         4\nMauritius                    1         3\nRwanda                       1         3\nMadagascar                   1         5\nBotswana                     1         3\nGambia                       1         5",
      "text/html": "<div>\n<style scoped>\n    .dataframe tbody tr th:only-of-type {\n        vertical-align: middle;\n    }\n\n    .dataframe tbody tr th {\n        vertical-align: top;\n    }\n\n    .dataframe thead th {\n        text-align: right;\n    }\n</style>\n<table border=\"1\" class=\"dataframe\">\n  <thead>\n    <tr style=\"text-align: right;\">\n      <th></th>\n      <th>nb_editions</th>\n      <th>nb_games</th>\n    </tr>\n  </thead>\n  <tbody>\n    <tr>\n      <th>Egypt</th>\n      <td>25</td>\n      <td>107</td>\n    </tr>\n    <tr>\n      <th>Ivory Coast</th>\n      <td>24</td>\n      <td>99</td>\n    </tr>\n    <tr>\n      <th>Ghana</th>\n      <td>23</td>\n      <td>102</td>\n    </tr>\n    <tr>\n      <th>Tunisia</th>\n      <td>20</td>\n      <td>79</td>\n    </tr>\n    <tr>\n      <th>Cameroon</th>\n      <td>20</td>\n      <td>91</td>\n    </tr>\n    <tr>\n      <th>Nigeria</th>\n      <td>19</td>\n      <td>96</td>\n    </tr>\n    <tr>\n      <th>DR Congo</th>\n      <td>19</td>\n      <td>73</td>\n    </tr>\n    <tr>\n      <th>Algeria</th>\n      <td>19</td>\n      <td>77</td>\n    </tr>\n    <tr>\n      <th>Morocco</th>\n      <td>18</td>\n      <td>70</td>\n    </tr>\n    <tr>\n      <th>Zambia</th>\n      <td>17</td>\n      <td>67</td>\n    </tr>\n    <tr>\n      <th>Senegal</th>\n      <td>16</td>\n      <td>67</td>\n    </tr>\n    <tr>\n      <th>Guinea</th>\n      <td>13</td>\n      <td>47</td>\n    </tr>\n    <tr>\n      <th>Burkina Faso</th>\n      <td>12</td>\n      <td>48</td>\n    </tr>\n    <tr>\n      <th>Mali</th>\n      <td>12</td>\n      <td>54</td>\n    </tr>\n    <tr>\n      <th>Ethiopia</th>\n      <td>11</td>\n      <td>30</td>\n    </tr>\n    <tr>\n      <th>South Africa</th>\n      <td>10</td>\n      <td>43</td>\n    </tr>\n    <tr>\n      <th>Sudan</th>\n      <td>9</td>\n      <td>27</td>\n    </tr>\n    <tr>\n      <th>Togo</th>\n      <td>8</td>\n      <td>25</td>\n    </tr>\n    <tr>\n      <th>Gabon</th>\n      <td>8</td>\n      <td>25</td>\n    </tr>\n    <tr>\n      <th>Angola</th>\n      <td>8</td>\n      <td>26</td>\n    </tr>\n    <tr>\n      <th>Uganda</th>\n      <td>7</td>\n      <td>23</td>\n    </tr>\n    <tr>\n      <th>Congo</th>\n      <td>7</td>\n      <td>26</td>\n    </tr>\n    <tr>\n      <th>Kenya</th>\n      <td>6</td>\n      <td>17</td>\n    </tr>\n    <tr>\n      <th>Zimbabwe</th>\n      <td>5</td>\n      <td>15</td>\n    </tr>\n    <tr>\n      <th>Benin</th>\n      <td>4</td>\n      <td>14</td>\n    </tr>\n    <tr>\n      <th>Mozambique</th>\n      <td>4</td>\n      <td>12</td>\n    </tr>\n    <tr>\n      <th>Sierra Leone</th>\n      <td>3</td>\n      <td>8</td>\n    </tr>\n    <tr>\n      <th>Malawi</th>\n      <td>3</td>\n      <td>10</td>\n    </tr>\n    <tr>\n      <th>Libya</th>\n      <td>3</td>\n      <td>11</td>\n    </tr>\n    <tr>\n      <th>Namibia</th>\n      <td>3</td>\n      <td>9</td>\n    </tr>\n    <tr>\n      <th>Equatorial Guinea</th>\n      <td>3</td>\n      <td>15</td>\n    </tr>\n    <tr>\n      <th>Cape Verde</th>\n      <td>3</td>\n      <td>11</td>\n    </tr>\n    <tr>\n      <th>Guinea-Bissau</th>\n      <td>3</td>\n      <td>9</td>\n    </tr>\n    <tr>\n      <th>Liberia</th>\n      <td>2</td>\n      <td>5</td>\n    </tr>\n    <tr>\n      <th>Niger</th>\n      <td>2</td>\n      <td>6</td>\n    </tr>\n    <tr>\n      <th>Tanzania</th>\n      <td>2</td>\n      <td>6</td>\n    </tr>\n    <tr>\n      <th>Mauritania</th>\n      <td>2</td>\n      <td>6</td>\n    </tr>\n    <tr>\n      <th>Burundi</th>\n      <td>1</td>\n      <td>3</td>\n    </tr>\n    <tr>\n      <th>Comoros</th>\n      <td>1</td>\n      <td>4</td>\n    </tr>\n    <tr>\n      <th>Mauritius</th>\n      <td>1</td>\n      <td>3</td>\n    </tr>\n    <tr>\n      <th>Rwanda</th>\n      <td>1</td>\n      <td>3</td>\n    </tr>\n    <tr>\n      <th>Madagascar</th>\n      <td>1</td>\n      <td>5</td>\n    </tr>\n    <tr>\n      <th>Botswana</th>\n      <td>1</td>\n      <td>3</td>\n    </tr>\n    <tr>\n      <th>Gambia</th>\n      <td>1</td>\n      <td>5</td>\n    </tr>\n  </tbody>\n</table>\n</div>"
     },
     "execution_count": 121,
     "metadata": {},
     "output_type": "execute_result"
    }
   ],
   "source": [
    "df_editions_matches = pd.DataFrame({'nb_editions' : dict_team_nb_editions, 'nb_games' : dict_team_nb_games})\n",
    "df_editions_matches"
   ],
   "metadata": {
    "collapsed": false,
    "ExecuteTime": {
     "end_time": "2023-12-29T03:27:24.589018300Z",
     "start_time": "2023-12-29T03:27:24.311860700Z"
    }
   },
   "id": "693bbe65a31b8c6c",
   "execution_count": 121
  },
  {
   "cell_type": "code",
   "outputs": [],
   "source": [
    "df_editions_matches.reset_index(inplace=True)"
   ],
   "metadata": {
    "collapsed": false,
    "ExecuteTime": {
     "end_time": "2023-12-29T03:27:24.762767400Z",
     "start_time": "2023-12-29T03:27:24.482615900Z"
    }
   },
   "id": "bd01348d177d2e67",
   "execution_count": 122
  },
  {
   "cell_type": "code",
   "outputs": [
    {
     "data": {
      "text/plain": "                 team  nb_editions  nb_games\n0               Egypt           25       107\n1         Ivory Coast           24        99\n2               Ghana           23       102\n3             Tunisia           20        79\n4            Cameroon           20        91\n5             Nigeria           19        96\n6            DR Congo           19        73\n7             Algeria           19        77\n8             Morocco           18        70\n9              Zambia           17        67\n10            Senegal           16        67\n11             Guinea           13        47\n12       Burkina Faso           12        48\n13               Mali           12        54\n14           Ethiopia           11        30\n15       South Africa           10        43\n16              Sudan            9        27\n17               Togo            8        25\n18              Gabon            8        25\n19             Angola            8        26\n20             Uganda            7        23\n21              Congo            7        26\n22              Kenya            6        17\n23           Zimbabwe            5        15\n24              Benin            4        14\n25         Mozambique            4        12\n26       Sierra Leone            3         8\n27             Malawi            3        10\n28              Libya            3        11\n29            Namibia            3         9\n30  Equatorial Guinea            3        15\n31         Cape Verde            3        11\n32      Guinea-Bissau            3         9\n33            Liberia            2         5\n34              Niger            2         6\n35           Tanzania            2         6\n36         Mauritania            2         6\n37            Burundi            1         3\n38            Comoros            1         4\n39          Mauritius            1         3\n40             Rwanda            1         3\n41         Madagascar            1         5\n42           Botswana            1         3\n43             Gambia            1         5",
      "text/html": "<div>\n<style scoped>\n    .dataframe tbody tr th:only-of-type {\n        vertical-align: middle;\n    }\n\n    .dataframe tbody tr th {\n        vertical-align: top;\n    }\n\n    .dataframe thead th {\n        text-align: right;\n    }\n</style>\n<table border=\"1\" class=\"dataframe\">\n  <thead>\n    <tr style=\"text-align: right;\">\n      <th></th>\n      <th>team</th>\n      <th>nb_editions</th>\n      <th>nb_games</th>\n    </tr>\n  </thead>\n  <tbody>\n    <tr>\n      <th>0</th>\n      <td>Egypt</td>\n      <td>25</td>\n      <td>107</td>\n    </tr>\n    <tr>\n      <th>1</th>\n      <td>Ivory Coast</td>\n      <td>24</td>\n      <td>99</td>\n    </tr>\n    <tr>\n      <th>2</th>\n      <td>Ghana</td>\n      <td>23</td>\n      <td>102</td>\n    </tr>\n    <tr>\n      <th>3</th>\n      <td>Tunisia</td>\n      <td>20</td>\n      <td>79</td>\n    </tr>\n    <tr>\n      <th>4</th>\n      <td>Cameroon</td>\n      <td>20</td>\n      <td>91</td>\n    </tr>\n    <tr>\n      <th>5</th>\n      <td>Nigeria</td>\n      <td>19</td>\n      <td>96</td>\n    </tr>\n    <tr>\n      <th>6</th>\n      <td>DR Congo</td>\n      <td>19</td>\n      <td>73</td>\n    </tr>\n    <tr>\n      <th>7</th>\n      <td>Algeria</td>\n      <td>19</td>\n      <td>77</td>\n    </tr>\n    <tr>\n      <th>8</th>\n      <td>Morocco</td>\n      <td>18</td>\n      <td>70</td>\n    </tr>\n    <tr>\n      <th>9</th>\n      <td>Zambia</td>\n      <td>17</td>\n      <td>67</td>\n    </tr>\n    <tr>\n      <th>10</th>\n      <td>Senegal</td>\n      <td>16</td>\n      <td>67</td>\n    </tr>\n    <tr>\n      <th>11</th>\n      <td>Guinea</td>\n      <td>13</td>\n      <td>47</td>\n    </tr>\n    <tr>\n      <th>12</th>\n      <td>Burkina Faso</td>\n      <td>12</td>\n      <td>48</td>\n    </tr>\n    <tr>\n      <th>13</th>\n      <td>Mali</td>\n      <td>12</td>\n      <td>54</td>\n    </tr>\n    <tr>\n      <th>14</th>\n      <td>Ethiopia</td>\n      <td>11</td>\n      <td>30</td>\n    </tr>\n    <tr>\n      <th>15</th>\n      <td>South Africa</td>\n      <td>10</td>\n      <td>43</td>\n    </tr>\n    <tr>\n      <th>16</th>\n      <td>Sudan</td>\n      <td>9</td>\n      <td>27</td>\n    </tr>\n    <tr>\n      <th>17</th>\n      <td>Togo</td>\n      <td>8</td>\n      <td>25</td>\n    </tr>\n    <tr>\n      <th>18</th>\n      <td>Gabon</td>\n      <td>8</td>\n      <td>25</td>\n    </tr>\n    <tr>\n      <th>19</th>\n      <td>Angola</td>\n      <td>8</td>\n      <td>26</td>\n    </tr>\n    <tr>\n      <th>20</th>\n      <td>Uganda</td>\n      <td>7</td>\n      <td>23</td>\n    </tr>\n    <tr>\n      <th>21</th>\n      <td>Congo</td>\n      <td>7</td>\n      <td>26</td>\n    </tr>\n    <tr>\n      <th>22</th>\n      <td>Kenya</td>\n      <td>6</td>\n      <td>17</td>\n    </tr>\n    <tr>\n      <th>23</th>\n      <td>Zimbabwe</td>\n      <td>5</td>\n      <td>15</td>\n    </tr>\n    <tr>\n      <th>24</th>\n      <td>Benin</td>\n      <td>4</td>\n      <td>14</td>\n    </tr>\n    <tr>\n      <th>25</th>\n      <td>Mozambique</td>\n      <td>4</td>\n      <td>12</td>\n    </tr>\n    <tr>\n      <th>26</th>\n      <td>Sierra Leone</td>\n      <td>3</td>\n      <td>8</td>\n    </tr>\n    <tr>\n      <th>27</th>\n      <td>Malawi</td>\n      <td>3</td>\n      <td>10</td>\n    </tr>\n    <tr>\n      <th>28</th>\n      <td>Libya</td>\n      <td>3</td>\n      <td>11</td>\n    </tr>\n    <tr>\n      <th>29</th>\n      <td>Namibia</td>\n      <td>3</td>\n      <td>9</td>\n    </tr>\n    <tr>\n      <th>30</th>\n      <td>Equatorial Guinea</td>\n      <td>3</td>\n      <td>15</td>\n    </tr>\n    <tr>\n      <th>31</th>\n      <td>Cape Verde</td>\n      <td>3</td>\n      <td>11</td>\n    </tr>\n    <tr>\n      <th>32</th>\n      <td>Guinea-Bissau</td>\n      <td>3</td>\n      <td>9</td>\n    </tr>\n    <tr>\n      <th>33</th>\n      <td>Liberia</td>\n      <td>2</td>\n      <td>5</td>\n    </tr>\n    <tr>\n      <th>34</th>\n      <td>Niger</td>\n      <td>2</td>\n      <td>6</td>\n    </tr>\n    <tr>\n      <th>35</th>\n      <td>Tanzania</td>\n      <td>2</td>\n      <td>6</td>\n    </tr>\n    <tr>\n      <th>36</th>\n      <td>Mauritania</td>\n      <td>2</td>\n      <td>6</td>\n    </tr>\n    <tr>\n      <th>37</th>\n      <td>Burundi</td>\n      <td>1</td>\n      <td>3</td>\n    </tr>\n    <tr>\n      <th>38</th>\n      <td>Comoros</td>\n      <td>1</td>\n      <td>4</td>\n    </tr>\n    <tr>\n      <th>39</th>\n      <td>Mauritius</td>\n      <td>1</td>\n      <td>3</td>\n    </tr>\n    <tr>\n      <th>40</th>\n      <td>Rwanda</td>\n      <td>1</td>\n      <td>3</td>\n    </tr>\n    <tr>\n      <th>41</th>\n      <td>Madagascar</td>\n      <td>1</td>\n      <td>5</td>\n    </tr>\n    <tr>\n      <th>42</th>\n      <td>Botswana</td>\n      <td>1</td>\n      <td>3</td>\n    </tr>\n    <tr>\n      <th>43</th>\n      <td>Gambia</td>\n      <td>1</td>\n      <td>5</td>\n    </tr>\n  </tbody>\n</table>\n</div>"
     },
     "execution_count": 123,
     "metadata": {},
     "output_type": "execute_result"
    }
   ],
   "source": [
    "df_editions_matches.rename(columns={\"index\" : \"team\"}, inplace=True)\n",
    "df_editions_matches"
   ],
   "metadata": {
    "collapsed": false,
    "ExecuteTime": {
     "end_time": "2023-12-29T03:27:24.839111600Z",
     "start_time": "2023-12-29T03:27:24.666616100Z"
    }
   },
   "id": "802b810ca9e17781",
   "execution_count": 123
  },
  {
   "cell_type": "code",
   "outputs": [],
   "source": [],
   "metadata": {
    "collapsed": false,
    "ExecuteTime": {
     "end_time": "2023-12-29T03:27:24.980690900Z",
     "start_time": "2023-12-29T03:27:24.822254Z"
    }
   },
   "id": "17f88fcbdb37c790",
   "execution_count": 123
  }
 ],
 "metadata": {
  "kernelspec": {
   "display_name": "Python 3",
   "language": "python",
   "name": "python3"
  },
  "language_info": {
   "codemirror_mode": {
    "name": "ipython",
    "version": 2
   },
   "file_extension": ".py",
   "mimetype": "text/x-python",
   "name": "python",
   "nbconvert_exporter": "python",
   "pygments_lexer": "ipython2",
   "version": "2.7.6"
  }
 },
 "nbformat": 4,
 "nbformat_minor": 5
}
